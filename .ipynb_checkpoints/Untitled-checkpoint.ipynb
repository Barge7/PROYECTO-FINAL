{
 "cells": [
  {
   "cell_type": "code",
   "execution_count": 1,
   "id": "9c5e0665",
   "metadata": {},
   "outputs": [],
   "source": [
    "import pandas as pd\n",
    "from selenium import webdriver\n",
    "\n",
    "import time\n",
    "from tqdm import tqdm\n",
    "import regex as re\n",
    "import warnings\n",
    "warnings.filterwarnings('ignore')\n",
    "\n",
    "from selenium.webdriver.chrome.options import Options\n",
    "from webdriver_manager.chrome import ChromeDriverManager\n",
    "from selenium.webdriver.common.by import By   # para buscar segun tag, id, class, etc...\n",
    "\n",
    "from selenium.webdriver.support.ui import WebDriverWait   # es para esperar\n",
    "\n",
    "from selenium.webdriver.support import expected_conditions as EC  # condiciones esperadas...\n",
    "\n",
    "from selenium.webdriver import ActionChains as AC   # acciones encadenadas, rollo doble click\n",
    "\n",
    "from selenium.webdriver.common.keys import Keys\n",
    "from selenium.webdriver.common.by import By\n",
    "\n",
    "PATH=ChromeDriverManager().install()"
   ]
  },
  {
   "cell_type": "code",
   "execution_count": 2,
   "id": "1562be8f",
   "metadata": {},
   "outputs": [],
   "source": [
    "url = 'https://www.mundodeportivo.com/uncomo/educacion/articulo/paises-y-capitales-de-europa-25700.html'"
   ]
  },
  {
   "cell_type": "code",
   "execution_count": 3,
   "id": "171d0bf4",
   "metadata": {},
   "outputs": [],
   "source": [
    "driver=webdriver.Chrome(PATH)\n",
    "driver.get(url)"
   ]
  },
  {
   "cell_type": "code",
   "execution_count": 4,
   "id": "4b251cb8",
   "metadata": {},
   "outputs": [],
   "source": [
    "driver.find_element(By.XPATH, '//*[@id=\"didomi-notice-agree-button\"]').click()"
   ]
  },
  {
   "cell_type": "code",
   "execution_count": 7,
   "id": "59d36b5b",
   "metadata": {},
   "outputs": [],
   "source": [
    "todos = driver.find_elements(By.TAG_NAME, 'li')"
   ]
  },
  {
   "cell_type": "code",
   "execution_count": 16,
   "id": "4d074782",
   "metadata": {},
   "outputs": [],
   "source": [
    "lista= []\n",
    "for e in todos[11:50]:\n",
    "    lista.append(e.text)"
   ]
  },
  {
   "cell_type": "code",
   "execution_count": 20,
   "id": "fc68e329",
   "metadata": {},
   "outputs": [],
   "source": [
    "dictio = {'poblacion': lista}"
   ]
  },
  {
   "cell_type": "code",
   "execution_count": 21,
   "id": "6c18f868",
   "metadata": {},
   "outputs": [],
   "source": [
    "data = pd.DataFrame(dictio)"
   ]
  },
  {
   "cell_type": "code",
   "execution_count": 23,
   "id": "33b4eef1",
   "metadata": {},
   "outputs": [],
   "source": [
    "data.to_excel('poblacion.xlsx')"
   ]
  }
 ],
 "metadata": {
  "kernelspec": {
   "display_name": "Python 3 (ipykernel)",
   "language": "python",
   "name": "python3"
  },
  "language_info": {
   "codemirror_mode": {
    "name": "ipython",
    "version": 3
   },
   "file_extension": ".py",
   "mimetype": "text/x-python",
   "name": "python",
   "nbconvert_exporter": "python",
   "pygments_lexer": "ipython3",
   "version": "3.9.12"
  }
 },
 "nbformat": 4,
 "nbformat_minor": 5
}
