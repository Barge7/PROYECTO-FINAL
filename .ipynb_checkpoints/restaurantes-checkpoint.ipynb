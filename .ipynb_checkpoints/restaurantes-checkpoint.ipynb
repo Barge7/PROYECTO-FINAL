{
 "cells": [
  {
   "cell_type": "code",
   "execution_count": 4,
   "id": "ffe720c6",
   "metadata": {},
   "outputs": [],
   "source": [
    "import pandas as pd\n",
    "from selenium import webdriver\n",
    "\n",
    "import time\n",
    "from tqdm import tqdm\n",
    "import regex as re\n",
    "import warnings\n",
    "warnings.filterwarnings('ignore')\n",
    "\n",
    "from selenium.webdriver.chrome.options import Options\n",
    "from webdriver_manager.chrome import ChromeDriverManager\n",
    "from selenium.webdriver.common.by import By   # para buscar segun tag, id, class, etc...\n",
    "\n",
    "from selenium.webdriver.support.ui import WebDriverWait   # es para esperar\n",
    "\n",
    "from selenium.webdriver.support import expected_conditions as EC  # condiciones esperadas...\n",
    "\n",
    "from selenium.webdriver import ActionChains as AC   # acciones encadenadas, rollo doble click\n",
    "\n",
    "from selenium.webdriver.common.keys import Keys\n",
    "from selenium.webdriver.common.by import By\n",
    "\n",
    "PATH=ChromeDriverManager().install()"
   ]
  },
  {
   "cell_type": "code",
   "execution_count": 5,
   "id": "f764053d",
   "metadata": {},
   "outputs": [],
   "source": [
    "url= 'https://www.tripadvisor.es/'"
   ]
  },
  {
   "cell_type": "code",
   "execution_count": 24,
   "id": "fe2a862b",
   "metadata": {},
   "outputs": [],
   "source": [
    "ciud= ['Tirana', 'Viena', 'Minsk', 'Sofia', 'Copenhague', 'Ljubljana', 'Tallin', 'Paris',\n",
    "       'Atenas', 'Dublin', 'Roma', 'Vilna', 'Skopje', 'Chisinau', 'Amsterdam',\n",
    "       'Lisboa', 'Praga', 'Estocolmo', 'Berlin', 'Bruselas', 'Sarajevo',\n",
    "       'Zagreb', 'Bratislava', 'Helsinki', 'Budapest', 'Reykjavik', 'Riga',\n",
    "       'Luxemburgo', 'La valeta', 'Oslo', 'Varsovia', 'Bucarest', 'Belgrado']"
   ]
  },
  {
   "cell_type": "code",
   "execution_count": 69,
   "id": "a4287c3c",
   "metadata": {},
   "outputs": [
    {
     "name": "stderr",
     "output_type": "stream",
     "text": [
      "\r",
      "  0%|                                                                                           | 0/33 [00:00<?, ?it/s]"
     ]
    },
    {
     "name": "stdout",
     "output_type": "stream",
     "text": [
      "34 resultados coinciden con tus filtros\n"
     ]
    },
    {
     "name": "stderr",
     "output_type": "stream",
     "text": [
      "\r",
      "  3%|██▌                                                                                | 1/33 [00:20<11:03, 20.73s/it]"
     ]
    },
    {
     "name": "stdout",
     "output_type": "stream",
     "text": [
      "185 resultados coinciden con tus filtros\n"
     ]
    },
    {
     "name": "stderr",
     "output_type": "stream",
     "text": [
      "\r",
      "  6%|█████                                                                              | 2/33 [00:42<10:55, 21.15s/it]"
     ]
    },
    {
     "name": "stdout",
     "output_type": "stream",
     "text": [
      "71 resultados coinciden con tus filtros\n"
     ]
    },
    {
     "name": "stderr",
     "output_type": "stream",
     "text": [
      "\r",
      "  9%|███████▌                                                                           | 3/33 [01:02<10:28, 20.94s/it]"
     ]
    },
    {
     "name": "stdout",
     "output_type": "stream",
     "text": [
      "51 resultados coinciden con tus filtros\n"
     ]
    },
    {
     "name": "stderr",
     "output_type": "stream",
     "text": [
      "\r",
      " 12%|██████████                                                                         | 4/33 [01:23<10:02, 20.77s/it]"
     ]
    },
    {
     "name": "stdout",
     "output_type": "stream",
     "text": [
      "66 resultados coinciden con tus filtros\n"
     ]
    },
    {
     "name": "stderr",
     "output_type": "stream",
     "text": [
      "\r",
      " 15%|████████████▌                                                                      | 5/33 [01:43<09:38, 20.65s/it]"
     ]
    },
    {
     "name": "stdout",
     "output_type": "stream",
     "text": [
      "16 resultados coinciden con tus filtros\n"
     ]
    },
    {
     "name": "stderr",
     "output_type": "stream",
     "text": [
      "\r",
      " 18%|███████████████                                                                    | 6/33 [02:04<09:17, 20.64s/it]"
     ]
    },
    {
     "name": "stdout",
     "output_type": "stream",
     "text": [
      "61 resultados coinciden con tus filtros\n"
     ]
    },
    {
     "name": "stderr",
     "output_type": "stream",
     "text": [
      "\r",
      " 21%|█████████████████▌                                                                 | 7/33 [02:25<08:56, 20.63s/it]"
     ]
    },
    {
     "name": "stdout",
     "output_type": "stream",
     "text": [
      "166 resultados coinciden con tus filtros\n"
     ]
    },
    {
     "name": "stderr",
     "output_type": "stream",
     "text": [
      "\r",
      " 24%|████████████████████                                                               | 8/33 [02:47<08:50, 21.23s/it]"
     ]
    },
    {
     "name": "stdout",
     "output_type": "stream",
     "text": [
      "3 resultados coinciden con tus filtros\n"
     ]
    },
    {
     "name": "stderr",
     "output_type": "stream",
     "text": [
      "\r",
      " 27%|██████████████████████▋                                                            | 9/33 [03:10<08:42, 21.79s/it]"
     ]
    },
    {
     "name": "stdout",
     "output_type": "stream",
     "text": [
      "38 resultados coinciden con tus filtros\n"
     ]
    },
    {
     "name": "stderr",
     "output_type": "stream",
     "text": [
      "\r",
      " 30%|████████████████████████▊                                                         | 10/33 [03:31<08:15, 21.54s/it]"
     ]
    },
    {
     "name": "stdout",
     "output_type": "stream",
     "text": [
      "381 resultados coinciden con tus filtros\n"
     ]
    },
    {
     "name": "stderr",
     "output_type": "stream",
     "text": [
      "\r",
      " 33%|███████████████████████████▎                                                      | 11/33 [03:52<07:52, 21.49s/it]"
     ]
    },
    {
     "name": "stdout",
     "output_type": "stream",
     "text": [
      "23 resultados coinciden con tus filtros\n"
     ]
    },
    {
     "name": "stderr",
     "output_type": "stream",
     "text": [
      "\r",
      " 36%|█████████████████████████████▊                                                    | 12/33 [04:13<07:26, 21.26s/it]"
     ]
    },
    {
     "name": "stdout",
     "output_type": "stream",
     "text": [
      "28 resultados coinciden con tus filtros\n"
     ]
    },
    {
     "name": "stderr",
     "output_type": "stream",
     "text": [
      "\r",
      " 39%|████████████████████████████████▎                                                 | 13/33 [04:34<07:01, 21.06s/it]"
     ]
    },
    {
     "name": "stdout",
     "output_type": "stream",
     "text": [
      "1 resultado coincide con tus filtros\n"
     ]
    },
    {
     "name": "stderr",
     "output_type": "stream",
     "text": [
      "\r",
      " 42%|██████████████████████████████████▊                                               | 14/33 [04:54<06:38, 20.96s/it]"
     ]
    },
    {
     "name": "stdout",
     "output_type": "stream",
     "text": [
      "201 resultados coinciden con tus filtros\n"
     ]
    },
    {
     "name": "stderr",
     "output_type": "stream",
     "text": [
      "\r",
      " 45%|█████████████████████████████████████▎                                            | 15/33 [05:15<06:15, 20.88s/it]"
     ]
    },
    {
     "name": "stdout",
     "output_type": "stream",
     "text": [
      "245 resultados coinciden con tus filtros\n"
     ]
    },
    {
     "name": "stderr",
     "output_type": "stream",
     "text": [
      "\r",
      " 48%|███████████████████████████████████████▊                                          | 16/33 [05:37<05:57, 21.02s/it]"
     ]
    },
    {
     "name": "stdout",
     "output_type": "stream",
     "text": [
      "144 resultados coinciden con tus filtros\n"
     ]
    },
    {
     "name": "stderr",
     "output_type": "stream",
     "text": [
      "\r",
      " 52%|██████████████████████████████████████████▏                                       | 17/33 [05:58<05:38, 21.18s/it]"
     ]
    },
    {
     "name": "stdout",
     "output_type": "stream",
     "text": [
      "66 resultados coinciden con tus filtros\n"
     ]
    },
    {
     "name": "stderr",
     "output_type": "stream",
     "text": [
      "\r",
      " 55%|████████████████████████████████████████████▋                                     | 18/33 [06:19<05:18, 21.22s/it]"
     ]
    },
    {
     "name": "stdout",
     "output_type": "stream",
     "text": [
      "253 resultados coinciden con tus filtros\n"
     ]
    },
    {
     "name": "stderr",
     "output_type": "stream",
     "text": [
      "\r",
      " 58%|███████████████████████████████████████████████▏                                  | 19/33 [06:40<04:54, 21.02s/it]"
     ]
    },
    {
     "name": "stdout",
     "output_type": "stream",
     "text": [
      "98 resultados coinciden con tus filtros\n"
     ]
    },
    {
     "name": "stderr",
     "output_type": "stream",
     "text": [
      "\r",
      " 61%|█████████████████████████████████████████████████▋                                | 20/33 [07:01<04:33, 21.03s/it]"
     ]
    },
    {
     "name": "stdout",
     "output_type": "stream",
     "text": [
      "19 resultados coinciden con tus filtros\n"
     ]
    },
    {
     "name": "stderr",
     "output_type": "stream",
     "text": [
      "\r",
      " 64%|████████████████████████████████████████████████████▏                             | 21/33 [07:21<04:09, 20.83s/it]"
     ]
    },
    {
     "name": "stdout",
     "output_type": "stream",
     "text": [
      "21 resultados coinciden con tus filtros\n"
     ]
    },
    {
     "name": "stderr",
     "output_type": "stream",
     "text": [
      "\r",
      " 67%|██████████████████████████████████████████████████████▋                           | 22/33 [07:43<03:50, 20.96s/it]"
     ]
    },
    {
     "name": "stdout",
     "output_type": "stream",
     "text": [
      "26 resultados coinciden con tus filtros\n"
     ]
    },
    {
     "name": "stderr",
     "output_type": "stream",
     "text": [
      "\r",
      " 70%|█████████████████████████████████████████████████████████▏                        | 23/33 [08:03<03:28, 20.82s/it]"
     ]
    },
    {
     "name": "stdout",
     "output_type": "stream",
     "text": [
      "43 resultados coinciden con tus filtros\n"
     ]
    },
    {
     "name": "stderr",
     "output_type": "stream",
     "text": [
      "\r",
      " 73%|███████████████████████████████████████████████████████████▋                      | 24/33 [08:24<03:07, 20.83s/it]"
     ]
    },
    {
     "name": "stdout",
     "output_type": "stream",
     "text": [
      "99 resultados coinciden con tus filtros\n"
     ]
    },
    {
     "name": "stderr",
     "output_type": "stream",
     "text": [
      "\r",
      " 76%|██████████████████████████████████████████████████████████████                    | 25/33 [08:45<02:46, 20.86s/it]"
     ]
    },
    {
     "name": "stdout",
     "output_type": "stream",
     "text": [
      "11 resultados coinciden con tus filtros\n"
     ]
    },
    {
     "name": "stderr",
     "output_type": "stream",
     "text": [
      "\r",
      " 79%|████████████████████████████████████████████████████████████████▌                 | 26/33 [09:05<02:25, 20.76s/it]"
     ]
    },
    {
     "name": "stdout",
     "output_type": "stream",
     "text": [
      "38 resultados coinciden con tus filtros\n"
     ]
    },
    {
     "name": "stderr",
     "output_type": "stream",
     "text": [
      "\r",
      " 82%|███████████████████████████████████████████████████████████████████               | 27/33 [09:27<02:05, 20.98s/it]"
     ]
    },
    {
     "name": "stdout",
     "output_type": "stream",
     "text": [
      "43 resultados coinciden con tus filtros\n"
     ]
    },
    {
     "name": "stderr",
     "output_type": "stream",
     "text": [
      "\r",
      " 85%|█████████████████████████████████████████████████████████████████████▌            | 28/33 [09:48<01:45, 21.15s/it]"
     ]
    },
    {
     "name": "stdout",
     "output_type": "stream",
     "text": [
      "1 resultado coincide con tus filtros\n"
     ]
    },
    {
     "name": "stderr",
     "output_type": "stream",
     "text": [
      "\r",
      " 88%|████████████████████████████████████████████████████████████████████████          | 29/33 [10:09<01:24, 21.09s/it]"
     ]
    },
    {
     "name": "stdout",
     "output_type": "stream",
     "text": [
      "24 resultados coinciden con tus filtros\n"
     ]
    },
    {
     "name": "stderr",
     "output_type": "stream",
     "text": [
      "\r",
      " 91%|██████████████████████████████████████████████████████████████████████████▌       | 30/33 [10:30<01:03, 21.02s/it]"
     ]
    },
    {
     "name": "stdout",
     "output_type": "stream",
     "text": [
      "153 resultados coinciden con tus filtros\n"
     ]
    },
    {
     "name": "stderr",
     "output_type": "stream",
     "text": [
      "\r",
      " 94%|█████████████████████████████████████████████████████████████████████████████     | 31/33 [10:51<00:41, 20.93s/it]"
     ]
    },
    {
     "name": "stdout",
     "output_type": "stream",
     "text": [
      "62 resultados coinciden con tus filtros\n"
     ]
    },
    {
     "name": "stderr",
     "output_type": "stream",
     "text": [
      "\r",
      " 97%|███████████████████████████████████████████████████████████████████████████████▌  | 32/33 [11:11<00:20, 20.78s/it]"
     ]
    },
    {
     "name": "stdout",
     "output_type": "stream",
     "text": [
      "84 resultados coinciden con tus filtros\n"
     ]
    },
    {
     "name": "stderr",
     "output_type": "stream",
     "text": [
      "100%|██████████████████████████████████████████████████████████████████████████████████| 33/33 [11:32<00:00, 21.00s/it]\n"
     ]
    }
   ],
   "source": [
    "buffet= []\n",
    "for e in tqdm(ciud):\n",
    "    driver=webdriver.Chrome(PATH)\n",
    "    driver.get(url)\n",
    "    time.sleep(3)\n",
    "    driver.find_element(By.XPATH, '//*[@id=\"onetrust-accept-btn-handler\"]').click()\n",
    "    buscar= driver.find_element(By.XPATH, '//*[@id=\"lithium-root\"]/main/div[3]/div/div/div/form/input[1]')\n",
    "    buscar.click()\n",
    "    buscar.send_keys(e)\n",
    "    time.sleep(1)\n",
    "    buscar.send_keys(Keys.DOWN, Keys.DOWN, Keys.DOWN, Keys.RETURN)\n",
    "    time.sleep(3)\n",
    "    driver.execute_script('window.scrollTo(0, 700);')\n",
    "    time.sleep(1)\n",
    "    if e == 'Atenas':\n",
    "        driver.find_element(By.XPATH, '//*[@id=\"component_48\"]/div/div[4]/div[2]/div[5]/span[1]').click()\n",
    "        driver.find_element(By.XPATH, '//*[@id=\"component_48\"]/div/div[4]/div[2]/div[9]/div/label').click()\n",
    "        time.sleep(1)\n",
    "        \n",
    "    if e == 'Luxemburgo':\n",
    "        driver.find_element(By.XPATH, '//*[@id=\"component_47\"]/div/div[2]/div[2]/div[5]').click()       \n",
    "    else:\n",
    "        driver.find_element(By.XPATH, '//*[@id=\"component_48\"]/div/div[3]/div[2]/div[5]').click()\n",
    "    if e == 'Paris' or e == 'Luxemburgo':\n",
    "        driver.find_element(By.XPATH, '//*[@id=\"BODY_BLOCK_JQUERY_REFLOW\"]/div[12]/div/div[1]/div[2]/div/div/div[1]/div[8]/div/label').click()\n",
    "        time.sleep(1)\n",
    "        driver.find_element(By.XPATH, '//*[@id=\"BODY_BLOCK_JQUERY_REFLOW\"]/div[12]/div/div[1]/div[3]/button').click()\n",
    "    else:\n",
    "        driver.execute_script('window.scrollTo(0, 800);')\n",
    "        driver.find_element(By.XPATH, '//*[@id=\"component_48\"]/div/div[3]/div[2]/div[10]/div/label').click()\n",
    "        driver.execute_script('window.scrollTo(800, 0);')\n",
    "    time.sleep(2)\n",
    "    buffet.append(driver.find_element(By.CLASS_NAME, 'SgeRJ').text)\n",
    "    print(driver.find_element(By.CLASS_NAME, 'SgeRJ').text)\n",
    "    driver.quit()"
   ]
  },
  {
   "cell_type": "code",
   "execution_count": 75,
   "id": "ba4b7456",
   "metadata": {},
   "outputs": [],
   "source": [
    "data = pd.DataFrame(columns = ['ciudades_id'], data= [e for e in range(1, 34)])"
   ]
  },
  {
   "cell_type": "code",
   "execution_count": 76,
   "id": "8d8defc8",
   "metadata": {},
   "outputs": [],
   "source": [
    "data['buffet']= buffet"
   ]
  },
  {
   "cell_type": "code",
   "execution_count": 82,
   "id": "fa00677c",
   "metadata": {},
   "outputs": [],
   "source": [
    "lista = []\n",
    "for e in data.buffet:\n",
    "    e = e.split(' ')\n",
    "    lista.append(int(e[0]))\n",
    "data['buffet']= lista"
   ]
  },
  {
   "cell_type": "code",
   "execution_count": 85,
   "id": "6b3ba463",
   "metadata": {},
   "outputs": [
    {
     "name": "stdout",
     "output_type": "stream",
     "text": [
      "<class 'pandas.core.frame.DataFrame'>\n",
      "RangeIndex: 33 entries, 0 to 32\n",
      "Data columns (total 2 columns):\n",
      " #   Column       Non-Null Count  Dtype\n",
      "---  ------       --------------  -----\n",
      " 0   ciudades_id  33 non-null     int64\n",
      " 1   buffet       33 non-null     int64\n",
      "dtypes: int64(2)\n",
      "memory usage: 656.0 bytes\n"
     ]
    }
   ],
   "source": [
    "data.info()"
   ]
  },
  {
   "cell_type": "code",
   "execution_count": 120,
   "id": "096f0c64",
   "metadata": {},
   "outputs": [],
   "source": [
    "data.to_excel('restaurantes.xlsx')"
   ]
  },
  {
   "cell_type": "code",
   "execution_count": null,
   "id": "4314b65b",
   "metadata": {},
   "outputs": [],
   "source": []
  },
  {
   "cell_type": "code",
   "execution_count": null,
   "id": "9d1e184d",
   "metadata": {},
   "outputs": [
    {
     "name": "stderr",
     "output_type": "stream",
     "text": [
      "\r",
      "  0%|                                                                                           | 0/33 [00:00<?, ?it/s]"
     ]
    },
    {
     "name": "stdout",
     "output_type": "stream",
     "text": [
      "32 resultados coinciden con tus filtros\n"
     ]
    },
    {
     "name": "stderr",
     "output_type": "stream",
     "text": [
      "\r",
      "  3%|██▌                                                                                | 1/33 [00:17<09:12, 17.27s/it]"
     ]
    },
    {
     "name": "stdout",
     "output_type": "stream",
     "text": [
      "116 resultados coinciden con tus filtros\n"
     ]
    },
    {
     "name": "stderr",
     "output_type": "stream",
     "text": [
      "\r",
      "  6%|█████                                                                              | 2/33 [00:34<08:58, 17.37s/it]"
     ]
    },
    {
     "name": "stdout",
     "output_type": "stream",
     "text": [
      "78 resultados coinciden con tus filtros\n"
     ]
    },
    {
     "name": "stderr",
     "output_type": "stream",
     "text": [
      "\r",
      "  9%|███████▌                                                                           | 3/33 [00:51<08:31, 17.04s/it]"
     ]
    },
    {
     "name": "stdout",
     "output_type": "stream",
     "text": [
      "74 resultados coinciden con tus filtros\n"
     ]
    },
    {
     "name": "stderr",
     "output_type": "stream",
     "text": [
      "\r",
      " 12%|██████████                                                                         | 4/33 [01:08<08:14, 17.04s/it]"
     ]
    },
    {
     "name": "stdout",
     "output_type": "stream",
     "text": [
      "98 resultados coinciden con tus filtros\n"
     ]
    },
    {
     "name": "stderr",
     "output_type": "stream",
     "text": [
      "\r",
      " 15%|████████████▌                                                                      | 5/33 [01:26<08:06, 17.36s/it]"
     ]
    },
    {
     "name": "stdout",
     "output_type": "stream",
     "text": [
      "20 resultados coinciden con tus filtros\n"
     ]
    },
    {
     "name": "stderr",
     "output_type": "stream",
     "text": [
      "\r",
      " 18%|███████████████                                                                    | 6/33 [01:44<07:56, 17.63s/it]"
     ]
    }
   ],
   "source": [
    "americ= []\n",
    "alemana= ['Viena', 'Paris', 'Roma', 'Lisboa', 'Estocolmo', 'Berlin', 'Bruselas', 'Budapest', 'Bucarest']\n",
    "medicin = ['Copenhague', 'Sarajevo', 'Reykjavik']\n",
    "ciu = ['Dublin', 'Amsterdam', 'Praga', 'Varsovia', 'Belgrado']\n",
    "for e in tqdm(ciud):\n",
    "    driver=webdriver.Chrome(PATH)\n",
    "    driver.get(url)\n",
    "    time.sleep(2)\n",
    "    driver.find_element(By.XPATH, '//*[@id=\"onetrust-accept-btn-handler\"]').click()\n",
    "    buscar= driver.find_element(By.XPATH, '//*[@id=\"lithium-root\"]/main/div[3]/div/div/div/form/input[1]')\n",
    "    buscar.click()\n",
    "    buscar.send_keys(e)\n",
    "    time.sleep(1)\n",
    "    buscar.send_keys(Keys.DOWN, Keys.DOWN, Keys.DOWN, Keys.RETURN)\n",
    "    time.sleep(1)\n",
    "    driver.execute_script('window.scrollTo(0, 1400);')\n",
    "    time.sleep(1)\n",
    "    if e in alemana:\n",
    "        driver.find_element(By.XPATH, '//*[@id=\"component_48\"]/div/div[7]/div[2]/div[5]').click()\n",
    "        driver.find_element(By.XPATH, '//*[@id=\"BODY_BLOCK_JQUERY_REFLOW\"]/div[12]/div/div[1]/div[2]/div[1]/div/div[1]/div[6]/div/label').click()\n",
    "        driver.find_element(By.XPATH, '//*[@id=\"BODY_BLOCK_JQUERY_REFLOW\"]/div[12]/div/div[1]/div[3]/button').click()\n",
    "\n",
    "    elif e in medicin:\n",
    "        driver.find_element(By.XPATH, '//*[@id=\"component_48\"]/div/div[6]/div[2]/div[5]').click()\n",
    "        driver.find_element(By.XPATH, '//*[@id=\"BODY_BLOCK_JQUERY_REFLOW\"]/div[12]/div/div[1]/div[2]/div[1]/div/div[1]/div[5]/div/label').click()\n",
    "        driver.find_element(By.XPATH, '//*[@id=\"BODY_BLOCK_JQUERY_REFLOW\"]/div[12]/div/div[1]/div[3]/button').click()\n",
    "\n",
    "    elif e in ciu:\n",
    "        driver.find_element(By.XPATH, '//*[@id=\"component_48\"]/div/div[7]/div[2]/div[5]/span[1]').click()\n",
    "        driver.find_element(By.XPATH, '//*[@id=\"BODY_BLOCK_JQUERY_REFLOW\"]/div[12]/div/div[1]/div[2]/div[1]/div/div[1]/div[5]/div/label').click()\n",
    "        driver.find_element(By.XPATH, '//*[@id=\"BODY_BLOCK_JQUERY_REFLOW\"]/div[12]/div/div[1]/div[3]/button').click()\n",
    "    \n",
    "    elif e == 'Sofia' or e == 'Helsinki' or e == 'Zagreb':\n",
    "        driver.find_element(By.XPATH, '//*[@id=\"component_48\"]/div/div[7]/div[2]/div[5]').click()\n",
    "        driver.find_element(By.XPATH, '//*[@id=\"BODY_BLOCK_JQUERY_REFLOW\"]/div[12]/div/div[1]/div[2]/div[1]/div/div[1]/div[4]/div/label').click()\n",
    "        driver.find_element(By.XPATH, '//*[@id=\"BODY_BLOCK_JQUERY_REFLOW\"]/div[12]/div/div[1]/div[3]/button').click()\n",
    "\n",
    "    elif e == 'Atenas':\n",
    "        driver.find_element(By.XPATH, '//*[@id=\"component_48\"]/div/div[8]/div[2]/div[5]').click()\n",
    "        driver.find_element(By.XPATH, '//*[@id=\"BODY_BLOCK_JQUERY_REFLOW\"]/div[12]/div/div[1]/div[2]/div[1]/div/div[1]/div[5]/div/label').click()\n",
    "        driver.find_element(By.XPATH, '//*[@id=\"BODY_BLOCK_JQUERY_REFLOW\"]/div[12]/div/div[1]/div[3]/button').click()\n",
    "\n",
    "    elif e == 'Minsk':\n",
    "        driver.find_element(By.XPATH, '//*[@id=\"component_48\"]/div/div[6]/div[2]/div[5]').click()\n",
    "        driver.find_element(By.XPATH, '//*[@id=\"BODY_BLOCK_JQUERY_REFLOW\"]/div[12]/div/div[1]/div[2]/div[1]/div/div[1]/div[2]/div/label').click()\n",
    "        driver.find_element(By.XPATH, '//*[@id=\"BODY_BLOCK_JQUERY_REFLOW\"]/div[12]/div/div[1]/div[3]/button').click()\n",
    "\n",
    "    elif e == 'Luxemburgo':\n",
    "        driver.find_element(By.XPATH, '//*[@id=\"component_47\"]/div/div[5]/div[2]/div[5]').click()\n",
    "        driver.find_element(By.XPATH, '//*[@id=\"BODY_BLOCK_JQUERY_REFLOW\"]/div[12]/div/div[1]/div[2]/div[1]/div/div[1]/div[4]/div/label').click()\n",
    "        driver.find_element(By.XPATH, '//*[@id=\"BODY_BLOCK_JQUERY_REFLOW\"]/div[12]/div/div[1]/div[3]/button').click()\n",
    "\n",
    "    elif e == 'Skopje' or e == 'Bratislava':\n",
    "        driver.find_element(By.XPATH, '//*[@id=\"component_48\"]/div/div[6]/div[2]/div[5]').click()\n",
    "        driver.find_element(By.XPATH, '//*[@id=\"BODY_BLOCK_JQUERY_REFLOW\"]/div[12]/div/div[1]/div[2]/div[1]/div/div[1]/div[3]/div/label').click()\n",
    "        driver.find_element(By.XPATH, '//*[@id=\"BODY_BLOCK_JQUERY_REFLOW\"]/div[12]/div/div[1]/div[3]/button').click()\n",
    "\n",
    "    else:\n",
    "        driver.find_element(By.XPATH, '//*[@id=\"component_48\"]/div/div[6]/div[2]/div[5]').click()\n",
    "        driver.find_element(By.XPATH, '//*[@id=\"BODY_BLOCK_JQUERY_REFLOW\"]/div[12]/div/div[1]/div[2]/div[1]/div/div[1]/div[4]/div/label').click()\n",
    "        driver.find_element(By.XPATH, '//*[@id=\"BODY_BLOCK_JQUERY_REFLOW\"]/div[12]/div/div[1]/div[3]/button').click()\n",
    "\n",
    "    driver.execute_script('window.scrollTo(700, 0);')\n",
    "    time.sleep(1)\n",
    "    americ.append(driver.find_element(By.CLASS_NAME, 'SgeRJ').text)\n",
    "    print(driver.find_element(By.CLASS_NAME, 'SgeRJ').text)\n",
    "    driver.quit()\n"
   ]
  },
  {
   "cell_type": "code",
   "execution_count": null,
   "id": "885b5ace",
   "metadata": {},
   "outputs": [],
   "source": [
    "data = pd.read_excel('restaurantes.xlsx')"
   ]
  },
  {
   "cell_type": "code",
   "execution_count": null,
   "id": "e82e35d4",
   "metadata": {},
   "outputs": [],
   "source": [
    "data['buffet']= buffet"
   ]
  },
  {
   "cell_type": "code",
   "execution_count": null,
   "id": "1ccbd42c",
   "metadata": {},
   "outputs": [],
   "source": []
  }
 ],
 "metadata": {
  "finalized": {
   "timestamp": 1670851761863,
   "trusted": true
  },
  "kernelspec": {
   "display_name": "Python 3 (ipykernel)",
   "language": "python",
   "name": "python3"
  },
  "language_info": {
   "codemirror_mode": {
    "name": "ipython",
    "version": 3
   },
   "file_extension": ".py",
   "mimetype": "text/x-python",
   "name": "python",
   "nbconvert_exporter": "python",
   "pygments_lexer": "ipython3",
   "version": "3.9.12"
  }
 },
 "nbformat": 4,
 "nbformat_minor": 5
}
