{
 "cells": [
  {
   "cell_type": "code",
   "execution_count": 14,
   "id": "da7c5708",
   "metadata": {},
   "outputs": [],
   "source": [
    "import pandas as pd\n",
    "from selenium import webdriver\n",
    "\n",
    "import time\n",
    "from tqdm import tqdm\n",
    "import regex as re\n",
    "from selenium.webdriver.chrome.options import Options\n",
    "from webdriver_manager.chrome import ChromeDriverManager\n",
    "from selenium.webdriver.common.by import By   # para buscar segun tag, id, class, etc...\n",
    "\n",
    "from selenium.webdriver.support.ui import WebDriverWait   # es para esperar\n",
    "\n",
    "from selenium.webdriver.support import expected_conditions as EC  # condiciones esperadas...\n",
    "\n",
    "from selenium.webdriver import ActionChains as AC   # acciones encadenadas, rollo doble click\n",
    "\n",
    "from selenium.webdriver.common.keys import Keys\n",
    "from selenium.webdriver.common.by import By\n",
    "\n",
    "PATH=ChromeDriverManager().install()"
   ]
  },
  {
   "cell_type": "code",
   "execution_count": 10,
   "id": "003eb458",
   "metadata": {},
   "outputs": [],
   "source": [
    "data= pd.read_excel('temperaturas.xlsx')"
   ]
  },
  {
   "cell_type": "code",
   "execution_count": 2,
   "id": "23c1df4a",
   "metadata": {},
   "outputs": [],
   "source": [
    "url = 'https://www.tripadvisor.com/CheapFlightsSearchResults-g294446-a_airport0.MAD-a_airport1.TIA-a_cos.0-a_date0.20221228-a_date1.20230102-a_formImp.f9a307c3__2D__31bb__2D__4f3b__2D__b7c5__2D__0037886bde16__2E__18990-a_nearby0.no-a_nearby1.no-a_nonstop.no-a_pax0.a-a_travelers.1-Tirana_Tirana_County.html'"
   ]
  },
  {
   "cell_type": "code",
   "execution_count": 5,
   "id": "8d1199df",
   "metadata": {},
   "outputs": [
    {
     "name": "stderr",
     "output_type": "stream",
     "text": [
      "2022-12-07 09:39:44,524 [4776] WARNING  py.warnings:109: [JupyterRequire] C:\\Users\\silsi\\AppData\\Local\\Temp\\ipykernel_4776\\1993680865.py:1: DeprecationWarning: executable_path has been deprecated, please pass in a Service object\n",
      "  driver=webdriver.Chrome(PATH)\n",
      "\n",
      "100%|██████████████████████████████████████████████████████████████████████████████████| 32/32 [04:51<00:00,  9.12s/it]\n"
     ]
    }
   ],
   "source": [
    "driver=webdriver.Chrome(PATH)\n",
    "driver.get(url)\n",
    "time.sleep(2)\n",
    "aceptar = driver.find_element(By.XPATH, '//*[@id=\"onetrust-accept-btn-handler\"]')\n",
    "aceptar.click()\n",
    "sort= driver.find_element(By.XPATH, '//*[@id=\"MAIN\"]/div/div[1]/div/div/div/div[1]/div/div[1]/div[1]/span/span/span[2]')\n",
    "sort.click()\n",
    "price = driver.find_element(By.XPATH,'//*[@id=\"BODY_BLOCK_JQUERY_REFLOW\"]/div[14]/div/div/div/ul/li[1]/div/div/span[2]')\n",
    "time.sleep(1)\n",
    "price.click()\n",
    "time.sleep(2)\n",
    "driver.execute_script('window.scrollTo(0, 200);')\n",
    "uno= driver.find_elements(By.CLASS_NAME,'JcwmL')[0]\n",
    "dos = uno.find_element(By.CLASS_NAME, 'OBuNK')\n",
    "precio= []\n",
    "precio.append(dos.text)\n",
    "\n",
    "\n",
    "lista= ['Viena', 'Minsk', 'Sofia', 'Copenhague', 'Ljubljana', 'Tallin', 'Paris',\n",
    "       'Atenas', 'Dublin', 'Rome', 'Vilna', 'Skopje', 'Chisinau', 'Amsterdam',\n",
    "       'Lisboa', 'Praga', 'Estocolmo', 'Berlin', 'Bruselas', 'Sarajevo',\n",
    "       'Zagreb', 'Bratislava', 'Helsinki', 'Budapest', 'Reykjavik', 'Rig',\n",
    "       'Luxemburgo', 'valet', 'Oslo', 'Varsovia', 'Bucarest', 'Serbia']\n",
    "for e in tqdm(lista):\n",
    "    \n",
    "    city = driver.find_element(By.XPATH,'//*[@id=\"component_1\"]/div/div[1]/div/div[2]/div[3]/div/div[1]/div[2]/div/div/div/input')\n",
    "    city.click()\n",
    "    city.send_keys(Keys.DELETE)\n",
    "    city.send_keys(e)\n",
    "    time.sleep(1)\n",
    "    city.send_keys(Keys.DOWN, Keys.RETURN)\n",
    "    driver.find_element(By.XPATH, '//*[@id=\"component_1\"]/div/div[1]/div/div[2]/div[3]/div/div[4]/button/div').click()\n",
    "    time.sleep(3)\n",
    "    sort= driver.find_element(By.XPATH, '//*[@id=\"MAIN\"]/div/div[1]/div/div/div/div[1]/div/div[1]/div[1]/span/span/span[2]')\n",
    "    sort.click()\n",
    "    price = driver.find_element(By.XPATH,'//*[@id=\"BODY_BLOCK_JQUERY_REFLOW\"]/div[14]/div/div/div/ul/li[1]/div/div/span[2]')\n",
    "    time.sleep(1)\n",
    "    price.click()\n",
    "    time.sleep(2)\n",
    "    driver.execute_script('window.scrollTo(0, 200);')\n",
    "    uno= driver.find_elements(By.CLASS_NAME,'JcwmL')[0]\n",
    "    dos = uno.find_element(By.CLASS_NAME, 'OBuNK')\n",
    "    precio.append(dos.text)\n",
    "driver.quit()\n",
    "\n"
   ]
  },
  {
   "cell_type": "code",
   "execution_count": 76,
   "id": "fffd4075",
   "metadata": {},
   "outputs": [],
   "source": [
    "vuelos = []\n",
    "num= []\n",
    "for e in precio:\n",
    "    if e == '€1,943':\n",
    "        vuelos.append(1943)\n",
    "    else:\n",
    "        num.append((re.findall('[0-9]+', e)))\n",
    "        for i in num:\n",
    "            for u in i:\n",
    "                vuelos.append(int(u))\n",
    "                num = []\n",
    "        "
   ]
  },
  {
   "cell_type": "code",
   "execution_count": 78,
   "id": "cd41bb69",
   "metadata": {},
   "outputs": [],
   "source": [
    "data['precio/vuelo']= vuelos"
   ]
  },
  {
   "cell_type": "code",
   "execution_count": 448,
   "id": "c2e22c2c",
   "metadata": {},
   "outputs": [],
   "source": [
    "data.to_excel('vuelos.xlsx', index = False)"
   ]
  },
  {
   "cell_type": "code",
   "execution_count": 316,
   "id": "e1a85b5b",
   "metadata": {},
   "outputs": [],
   "source": [
    "url= 'https://www.tripadvisor.es/'"
   ]
  },
  {
   "cell_type": "code",
   "execution_count": 452,
   "id": "500a1ac0",
   "metadata": {},
   "outputs": [],
   "source": [
    "lista= ['Viena', 'Minsk', 'Sofia', 'Copenhague', 'Ljubljana', 'Tallin', 'Paris',\n",
    "       'Atenas', 'Dublin', 'Rome', 'Vilna', 'Skopje', 'Chisinau', 'Amsterdam',\n",
    "       'Lisboa', 'Praga', 'Estocolmo', 'Berlin', 'Bruselas', 'Sarajevo',\n",
    "       'Zagreb', 'Bratislava', 'Helsinki', 'Budapest', 'Reykjavik', 'Rig',\n",
    "       'Luxemburgo', 'La valeta', 'Oslo', 'Varsovia', 'Bucarest', 'Serbia', 'Belgrado']"
   ]
  },
  {
   "cell_type": "code",
   "execution_count": 453,
   "id": "f36730a5",
   "metadata": {},
   "outputs": [
    {
     "name": "stderr",
     "output_type": "stream",
     "text": [
      "  0%|                                                                                           | 0/33 [00:00<?, ?it/s]2022-12-07 20:47:47,441 [4776] WARNING  py.warnings:109: [JupyterRequire] C:\\Users\\silsi\\AppData\\Local\\Temp\\ipykernel_4776\\1168898065.py:3: DeprecationWarning: executable_path has been deprecated, please pass in a Service object\n",
      "  driver=webdriver.Chrome(PATH)\n",
      "\n"
     ]
    },
    {
     "name": "stdout",
     "output_type": "stream",
     "text": [
      "https://www.tripadvisor.es/Attractions-g190454-Activities-c42-Vienna.html\n"
     ]
    },
    {
     "name": "stderr",
     "output_type": "stream",
     "text": [
      "  3%|██▌                                                                                | 1/33 [00:29<15:45, 29.54s/it]\n"
     ]
    },
    {
     "ename": "NoSuchElementException",
     "evalue": "Message: no such element: Unable to locate element: {\"method\":\"xpath\",\"selector\":\"//*[@id=\"onetrust-accept-btn-handler\"]\"}\n  (Session info: chrome=108.0.5359.98)\nStacktrace:\nBacktrace:\n\t(No symbol) [0x0103F243]\n\t(No symbol) [0x00FC7FD1]\n\t(No symbol) [0x00EBD04D]\n\t(No symbol) [0x00EEC0B0]\n\t(No symbol) [0x00EEC22B]\n\t(No symbol) [0x00F1E612]\n\t(No symbol) [0x00F085D4]\n\t(No symbol) [0x00F1C9EB]\n\t(No symbol) [0x00F08386]\n\t(No symbol) [0x00EE163C]\n\t(No symbol) [0x00EE269D]\n\tGetHandleVerifier [0x012D9A22+2655074]\n\tGetHandleVerifier [0x012CCA24+2601828]\n\tGetHandleVerifier [0x010E8C0A+619850]\n\tGetHandleVerifier [0x010E7830+614768]\n\t(No symbol) [0x00FD05FC]\n\t(No symbol) [0x00FD5968]\n\t(No symbol) [0x00FD5A55]\n\t(No symbol) [0x00FE051B]\n\tBaseThreadInitThunk [0x75B06939+25]\n\tRtlGetFullPathName_UEx [0x77DD8FD2+1218]\n\tRtlGetFullPathName_UEx [0x77DD8F9D+1165]\n",
     "output_type": "error",
     "traceback": [
      "\u001b[1;31m---------------------------------------------------------------------------\u001b[0m",
      "\u001b[1;31mNoSuchElementException\u001b[0m                    Traceback (most recent call last)",
      "Input \u001b[1;32mIn [453]\u001b[0m, in \u001b[0;36m<cell line: 2>\u001b[1;34m()\u001b[0m\n\u001b[0;32m      4\u001b[0m driver\u001b[38;5;241m.\u001b[39mget(url)\n\u001b[0;32m      5\u001b[0m time\u001b[38;5;241m.\u001b[39msleep(\u001b[38;5;241m5\u001b[39m)\n\u001b[1;32m----> 6\u001b[0m \u001b[43mdriver\u001b[49m\u001b[38;5;241;43m.\u001b[39;49m\u001b[43mfind_element\u001b[49m\u001b[43m(\u001b[49m\u001b[43mBy\u001b[49m\u001b[38;5;241;43m.\u001b[39;49m\u001b[43mXPATH\u001b[49m\u001b[43m,\u001b[49m\u001b[43m \u001b[49m\u001b[38;5;124;43m'\u001b[39;49m\u001b[38;5;124;43m//*[@id=\u001b[39;49m\u001b[38;5;124;43m\"\u001b[39;49m\u001b[38;5;124;43monetrust-accept-btn-handler\u001b[39;49m\u001b[38;5;124;43m\"\u001b[39;49m\u001b[38;5;124;43m]\u001b[39;49m\u001b[38;5;124;43m'\u001b[39;49m\u001b[43m)\u001b[49m\u001b[38;5;241m.\u001b[39mclick()\n\u001b[0;32m      7\u001b[0m driver\u001b[38;5;241m.\u001b[39mexecute_script(\u001b[38;5;124m'\u001b[39m\u001b[38;5;124mwindow.scrollTo(0, 200);\u001b[39m\u001b[38;5;124m'\u001b[39m)\n\u001b[0;32m      8\u001b[0m buscar\u001b[38;5;241m=\u001b[39m driver\u001b[38;5;241m.\u001b[39mfind_element(By\u001b[38;5;241m.\u001b[39mXPATH, \u001b[38;5;124m'\u001b[39m\u001b[38;5;124m//*[@id=\u001b[39m\u001b[38;5;124m\"\u001b[39m\u001b[38;5;124mlithium-root\u001b[39m\u001b[38;5;124m\"\u001b[39m\u001b[38;5;124m]/main/div[3]/div/div/div/form/input[1]\u001b[39m\u001b[38;5;124m'\u001b[39m)\n",
      "File \u001b[1;32m~\\anaconda3\\lib\\site-packages\\selenium\\webdriver\\remote\\webdriver.py:861\u001b[0m, in \u001b[0;36mWebDriver.find_element\u001b[1;34m(self, by, value)\u001b[0m\n\u001b[0;32m    858\u001b[0m     by \u001b[38;5;241m=\u001b[39m By\u001b[38;5;241m.\u001b[39mCSS_SELECTOR\n\u001b[0;32m    859\u001b[0m     value \u001b[38;5;241m=\u001b[39m \u001b[38;5;124m'\u001b[39m\u001b[38;5;124m[name=\u001b[39m\u001b[38;5;124m\"\u001b[39m\u001b[38;5;132;01m%s\u001b[39;00m\u001b[38;5;124m\"\u001b[39m\u001b[38;5;124m]\u001b[39m\u001b[38;5;124m'\u001b[39m \u001b[38;5;241m%\u001b[39m value\n\u001b[1;32m--> 861\u001b[0m \u001b[38;5;28;01mreturn\u001b[39;00m \u001b[38;5;28;43mself\u001b[39;49m\u001b[38;5;241;43m.\u001b[39;49m\u001b[43mexecute\u001b[49m\u001b[43m(\u001b[49m\u001b[43mCommand\u001b[49m\u001b[38;5;241;43m.\u001b[39;49m\u001b[43mFIND_ELEMENT\u001b[49m\u001b[43m,\u001b[49m\u001b[43m \u001b[49m\u001b[43m{\u001b[49m\u001b[38;5;124;43m\"\u001b[39;49m\u001b[38;5;124;43musing\u001b[39;49m\u001b[38;5;124;43m\"\u001b[39;49m\u001b[43m:\u001b[49m\u001b[43m \u001b[49m\u001b[43mby\u001b[49m\u001b[43m,\u001b[49m\u001b[43m \u001b[49m\u001b[38;5;124;43m\"\u001b[39;49m\u001b[38;5;124;43mvalue\u001b[39;49m\u001b[38;5;124;43m\"\u001b[39;49m\u001b[43m:\u001b[49m\u001b[43m \u001b[49m\u001b[43mvalue\u001b[49m\u001b[43m}\u001b[49m\u001b[43m)\u001b[49m[\u001b[38;5;124m\"\u001b[39m\u001b[38;5;124mvalue\u001b[39m\u001b[38;5;124m\"\u001b[39m]\n",
      "File \u001b[1;32m~\\anaconda3\\lib\\site-packages\\selenium\\webdriver\\remote\\webdriver.py:444\u001b[0m, in \u001b[0;36mWebDriver.execute\u001b[1;34m(self, driver_command, params)\u001b[0m\n\u001b[0;32m    442\u001b[0m response \u001b[38;5;241m=\u001b[39m \u001b[38;5;28mself\u001b[39m\u001b[38;5;241m.\u001b[39mcommand_executor\u001b[38;5;241m.\u001b[39mexecute(driver_command, params)\n\u001b[0;32m    443\u001b[0m \u001b[38;5;28;01mif\u001b[39;00m response:\n\u001b[1;32m--> 444\u001b[0m     \u001b[38;5;28;43mself\u001b[39;49m\u001b[38;5;241;43m.\u001b[39;49m\u001b[43merror_handler\u001b[49m\u001b[38;5;241;43m.\u001b[39;49m\u001b[43mcheck_response\u001b[49m\u001b[43m(\u001b[49m\u001b[43mresponse\u001b[49m\u001b[43m)\u001b[49m\n\u001b[0;32m    445\u001b[0m     response[\u001b[38;5;124m\"\u001b[39m\u001b[38;5;124mvalue\u001b[39m\u001b[38;5;124m\"\u001b[39m] \u001b[38;5;241m=\u001b[39m \u001b[38;5;28mself\u001b[39m\u001b[38;5;241m.\u001b[39m_unwrap_value(response\u001b[38;5;241m.\u001b[39mget(\u001b[38;5;124m\"\u001b[39m\u001b[38;5;124mvalue\u001b[39m\u001b[38;5;124m\"\u001b[39m, \u001b[38;5;28;01mNone\u001b[39;00m))\n\u001b[0;32m    446\u001b[0m     \u001b[38;5;28;01mreturn\u001b[39;00m response\n",
      "File \u001b[1;32m~\\anaconda3\\lib\\site-packages\\selenium\\webdriver\\remote\\errorhandler.py:249\u001b[0m, in \u001b[0;36mErrorHandler.check_response\u001b[1;34m(self, response)\u001b[0m\n\u001b[0;32m    247\u001b[0m         alert_text \u001b[38;5;241m=\u001b[39m value[\u001b[38;5;124m\"\u001b[39m\u001b[38;5;124malert\u001b[39m\u001b[38;5;124m\"\u001b[39m]\u001b[38;5;241m.\u001b[39mget(\u001b[38;5;124m\"\u001b[39m\u001b[38;5;124mtext\u001b[39m\u001b[38;5;124m\"\u001b[39m)\n\u001b[0;32m    248\u001b[0m     \u001b[38;5;28;01mraise\u001b[39;00m exception_class(message, screen, stacktrace, alert_text)  \u001b[38;5;66;03m# type: ignore[call-arg]  # mypy is not smart enough here\u001b[39;00m\n\u001b[1;32m--> 249\u001b[0m \u001b[38;5;28;01mraise\u001b[39;00m exception_class(message, screen, stacktrace)\n",
      "\u001b[1;31mNoSuchElementException\u001b[0m: Message: no such element: Unable to locate element: {\"method\":\"xpath\",\"selector\":\"//*[@id=\"onetrust-accept-btn-handler\"]\"}\n  (Session info: chrome=108.0.5359.98)\nStacktrace:\nBacktrace:\n\t(No symbol) [0x0103F243]\n\t(No symbol) [0x00FC7FD1]\n\t(No symbol) [0x00EBD04D]\n\t(No symbol) [0x00EEC0B0]\n\t(No symbol) [0x00EEC22B]\n\t(No symbol) [0x00F1E612]\n\t(No symbol) [0x00F085D4]\n\t(No symbol) [0x00F1C9EB]\n\t(No symbol) [0x00F08386]\n\t(No symbol) [0x00EE163C]\n\t(No symbol) [0x00EE269D]\n\tGetHandleVerifier [0x012D9A22+2655074]\n\tGetHandleVerifier [0x012CCA24+2601828]\n\tGetHandleVerifier [0x010E8C0A+619850]\n\tGetHandleVerifier [0x010E7830+614768]\n\t(No symbol) [0x00FD05FC]\n\t(No symbol) [0x00FD5968]\n\t(No symbol) [0x00FD5A55]\n\t(No symbol) [0x00FE051B]\n\tBaseThreadInitThunk [0x75B06939+25]\n\tRtlGetFullPathName_UEx [0x77DD8FD2+1218]\n\tRtlGetFullPathName_UEx [0x77DD8F9D+1165]\n"
     ]
    }
   ],
   "source": [
    "links= []\n",
    "for e in tqdm(lista):\n",
    "    driver=webdriver.Chrome(PATH)\n",
    "    driver.get(url)\n",
    "    time.sleep(5)\n",
    "    driver.find_element(By.XPATH, '//*[@id=\"onetrust-accept-btn-handler\"]').click()\n",
    "    driver.execute_script('window.scrollTo(0, 200);')\n",
    "    buscar= driver.find_element(By.XPATH, '//*[@id=\"lithium-root\"]/main/div[3]/div/div/div/form/input[1]')\n",
    "    buscar.click()  \n",
    "    buscar.send_keys(e)\n",
    "    time.sleep(1)\n",
    "    buscar.send_keys(Keys.DOWN, Keys.RETURN)\n",
    "    time.sleep(3)\n",
    "    if e == 'Serbia' or e == 'Luxemburgo':\n",
    "        driver.execute_script('window.scrollTo(0, 1200);')\n",
    "        j= driver.find_elements(By.CLASS_NAME, 'Fofmq')[2]\n",
    "        links += [j.find_element(By.TAG_NAME, 'a').get_attribute('href')]\n",
    "        print(j.find_element(By.TAG_NAME, 'a').get_attribute('href'))\n",
    "    else:\n",
    "        driver.execute_script('window.scrollTo(0, 1800);')\n",
    "        j = driver.find_elements(By.CLASS_NAME, 'BYvbL')[1]\n",
    "        links += [j.find_element(By.TAG_NAME, 'a').get_attribute('href')]\n",
    "        print(j.find_element(By.TAG_NAME, 'a').get_attribute('href'))\n",
    "    driver.quit()"
   ]
  },
  {
   "cell_type": "code",
   "execution_count": 361,
   "id": "9a4fbffa",
   "metadata": {},
   "outputs": [
    {
     "data": {
      "text/plain": [
       "33"
      ]
     },
     "execution_count": 361,
     "metadata": {},
     "output_type": "execute_result"
    }
   ],
   "source": [
    "https://www.tripadvisor.es/Attractions-g186605-Activities-c47-Dublin_County_Dublin.html\n",
    "https://www.tripadvisor.es/Attractions-g186605-Activities-c42-Dublin_County_Dublin.html"
   ]
  },
  {
   "cell_type": "code",
   "execution_count": 375,
   "id": "61acd972",
   "metadata": {},
   "outputs": [
    {
     "data": {
      "text/plain": [
       "['https://www.tripadvisor.es/Attractions-g190454-Activities-c42-Vienna.html',\n",
       " 'https://www.tripadvisor.es/Attractions-g294448-Activities-c42-Minsk.html',\n",
       " 'https://www.tripadvisor.es/Attractions-g294452-Activities-c42-Sofia_Sofia_Region.html',\n",
       " 'https://www.tripadvisor.es/Attractions-g189541-Activities-c42-Copenhagen_Zealand.html',\n",
       " 'https://www.tripadvisor.es/Attractions-g274873-Activities-c42-Ljubljana_Upper_Carniola_Region.html',\n",
       " 'https://www.tripadvisor.es/Attractions-g274958-Activities-c42-Tallinn_Harju_County.html',\n",
       " 'https://www.tripadvisor.es/Attractions-g187147-Activities-c42-Paris_Ile_de_France.html',\n",
       " 'https://www.tripadvisor.es/Attractions-g189400-Activities-c42-Athens_Attica.html',\n",
       " 'https://www.tripadvisor.es/Attractions-g186605-Activities-c42-Dublin_County_Dublin.html',\n",
       " 'https://www.tripadvisor.es/Attractions-g187791-Activities-c42-Rome_Lazio.html',\n",
       " 'https://www.tripadvisor.es/Attractions-g274951-Activities-c42-Vilnius_Vilnius_County.html',\n",
       " 'https://www.tripadvisor.es/Attractions-g295110-Activities-c42-Skopje_Skopje_Region.html',\n",
       " 'https://www.tripadvisor.es/Attractions-g294456-Activities-c42-Chisinau_Chisinau_District.html',\n",
       " 'https://www.tripadvisor.es/Attractions-g188590-Activities-c42-Amsterdam_North_Holland_Province.html',\n",
       " 'https://www.tripadvisor.es/Attractions-g189158-Activities-c42-Lisbon_Lisbon_District_Central_Portugal.html',\n",
       " 'https://www.tripadvisor.es/Attractions-g274707-Activities-c42-Prague_Bohemia.html',\n",
       " 'https://www.tripadvisor.es/Attractions-g189852-Activities-c42-Stockholm.html',\n",
       " 'https://www.tripadvisor.es/Attractions-g187323-Activities-c42-Berlin.html',\n",
       " 'https://www.tripadvisor.es/Attractions-g188644-Activities-c42-Brussels.html',\n",
       " 'https://www.tripadvisor.es/Attractions-g294450-Activities-c42-Sarajevo_Sarajevo_Canton_Federation_of_Bosnia_and_Herzegovina.html',\n",
       " 'https://www.tripadvisor.es/Attractions-g294454-Activities-c42-Zagreb_Central_Croatia.html',\n",
       " 'https://www.tripadvisor.es/Attractions-g274924-Activities-c42-Bratislava_Bratislava_Region.html',\n",
       " 'https://www.tripadvisor.es/Attractions-g189934-Activities-c42-Helsinki_Uusimaa.html',\n",
       " 'https://www.tripadvisor.es/Attractions-g274887-Activities-c42-Budapest_Central_Hungary.html',\n",
       " 'https://www.tripadvisor.es/Attractions-g189970-Activities-c42-Reykjavik_Capital_Region.html',\n",
       " 'https://www.tripadvisor.es/Attractions-g274967-Activities-c42-Riga_Riga_Region.html',\n",
       " 'https://www.tripadvisor.es/Attractions-g190356-Activities-Luxembourg_City.html',\n",
       " 'https://www.tripadvisor.es/Attractions-g190328-Activities-c42-Valletta_Island_of_Malta.html',\n",
       " 'https://www.tripadvisor.es/Attractions-g190479-Activities-c42-Oslo_Eastern_Norway.html',\n",
       " 'https://www.tripadvisor.es/Attractions-g274856-Activities-c42-Warsaw_Mazovia_Province_Central_Poland.html',\n",
       " 'https://www.tripadvisor.es/Attractions-g294458-Activities-c42-Bucharest.html',\n",
       " 'https://www.tripadvisor.es/Attractions-g294472-Activities-Belgrade.html',\n",
       " 'https://www.tripadvisor.es/Attractions-g294472-Activities-c42-Belgrade.html']"
      ]
     },
     "execution_count": 375,
     "metadata": {},
     "output_type": "execute_result"
    }
   ],
   "source": [
    "links"
   ]
  },
  {
   "cell_type": "code",
   "execution_count": 437,
   "id": "b3a5f05c",
   "metadata": {},
   "outputs": [
    {
     "name": "stderr",
     "output_type": "stream",
     "text": [
      "2022-12-07 20:38:06,571 [4776] WARNING  py.warnings:109: [JupyterRequire] C:\\Users\\silsi\\AppData\\Local\\Temp\\ipykernel_4776\\3082984620.py:2: DeprecationWarning: executable_path has been deprecated, please pass in a Service object\n",
      "  driver=webdriver.Chrome(PATH)\n",
      "\n"
     ]
    },
    {
     "name": "stdout",
     "output_type": "stream",
     "text": [
      "https://www.tripadvisor.es/Attractions-g190340-Activities-oa0-Luxembourg.html\n"
     ]
    }
   ],
   "source": [
    "links= []\n",
    "driver=webdriver.Chrome(PATH)\n",
    "driver.get(url)\n",
    "time.sleep(4)\n",
    "aceptar = driver.find_element(By.XPATH, '//*[@id=\"onetrust-accept-btn-handler\"]')\n",
    "aceptar.click()\n",
    "driver.execute_script('window.scrollTo(0, 100);')\n",
    "buscar= driver.find_element(By.XPATH, '//*[@id=\"lithium-root\"]/main/div[3]/div/div/div/form/input[1]')\n",
    "buscar.click()  \n",
    "buscar.send_keys('Luxemburgo')\n",
    "time.sleep(1)\n",
    "buscar.send_keys(Keys.DOWN, Keys.RETURN)\n",
    "time.sleep(3)\n",
    "driver.execute_script('window.scrollTo(0, 1200);')\n",
    "j= driver.find_elements(By.CLASS_NAME, 'Fofmq')[2]\n",
    "links += [j.find_element(By.TAG_NAME, 'a').get_attribute('href')]\n",
    "print(j.find_element(By.TAG_NAME, 'a').get_attribute('href'))\n",
    "\n",
    "\n"
   ]
  },
  {
   "cell_type": "code",
   "execution_count": 430,
   "id": "6de28b50",
   "metadata": {},
   "outputs": [],
   "source": [
    "e = driver.find_elements(By.CLASS_NAME, 'Fofmq')"
   ]
  },
  {
   "cell_type": "code",
   "execution_count": 433,
   "id": "abd71690",
   "metadata": {},
   "outputs": [
    {
     "data": {
      "text/plain": [
       "'https://www.tripadvisor.es/Attractions-g294471-Activities-oa0-Serbia.html'"
      ]
     },
     "execution_count": 433,
     "metadata": {},
     "output_type": "execute_result"
    }
   ],
   "source": [
    "e[2].find_element(By.TAG_NAME, 'a').get_attribute('href')"
   ]
  },
  {
   "cell_type": "code",
   "execution_count": 324,
   "id": "bdfef86d",
   "metadata": {},
   "outputs": [],
   "source": [
    "#     time.sleep(2)\n",
    "#     driver.find_element(By.XPATH, '//*[@id=\"lithium-root\"]/main/div[1]/div[2]/div/div/div[3]/a').click()\n",
    "#     time.sleep(3)\n",
    "#     driver.execute_script('window.scrollTo(0, 800);')\n",
    "#     if e == 'Luxemburgo' or e == 'Serbia':\n",
    "#         driver.find_element(By.XPATH, '//*[@id=\"lithium-root\"]/main/div[1]/div/div[3]/div/div[2]/div[2]/div[2]/div/div[2]/section[3]/div/div/div[1]/div/div[1]/div/div[2]/a/span/span[1]/span').click()\n",
    "#     else:   \n",
    "#         driver.find_element(By.XPATH, '//*[@id=\"lithium-root\"]/main/div[1]/div/div[3]/div/div[2]/div[2]/div[2]/div/div[2]/section[4]/div/div/div[1]/div/div[1]/div/div[2]/a/span/span[1]/span').click()\n",
    "#     driver.switch_to.window(driver.window_handles[1])\n",
    "#     time.sleep(2)\n",
    "#     driver.execute_script('window.scrollTo(0, 600);')\n",
    "#     driver.find_element(By.XPATH, '//*[@id=\"rating_filter_contents\"]/ul/li[2]/div/span/div[1]/label/span').click()\n",
    "#     time.sleep(2)\n",
    "#     driver.execute_script('window.scrollTo(0, 600);')\n",
    "#     cat = driver.find_element(By.ID, 'filter-category')\n",
    "#     categ = cat.find_elements(By.CLASS_NAME, 'XDHza')[:4]\n",
    "#     links += [e.find_element(By.TAG_NAME, 'a').get_attribute('href') for e in categ]\n",
    "#     driver.quit()\n"
   ]
  },
  {
   "cell_type": "code",
   "execution_count": 333,
   "id": "4db38562",
   "metadata": {},
   "outputs": [],
   "source": [
    "j = driver.find_element(By.CLASS_NAME, 'BYvbL')"
   ]
  },
  {
   "cell_type": "code",
   "execution_count": 334,
   "id": "4fd9769e",
   "metadata": {},
   "outputs": [
    {
     "data": {
      "text/plain": [
       "'https://www.tripadvisor.es/Attractions-g190454-Activities-c42-t224-Vienna.html'"
      ]
     },
     "execution_count": 334,
     "metadata": {},
     "output_type": "execute_result"
    }
   ],
   "source": [
    "j.find_element(By.TAG_NAME, 'a').get_attribute('href')"
   ]
  },
  {
   "cell_type": "code",
   "execution_count": null,
   "id": "35066f00",
   "metadata": {},
   "outputs": [],
   "source": []
  },
  {
   "cell_type": "code",
   "execution_count": 353,
   "id": "0768763f",
   "metadata": {},
   "outputs": [
    {
     "data": {
      "text/plain": [
       "['https://www.tripadvisor.es/ClientLink?value=RXFzXy9BdHRyYWN0aW9uX1Byb2R1Y3RzLWcxODY2MDUtdDExODg5LXpmZzExODY3LUR1Ymxpbl9Db3VudHlfRHVibGluLmh0bWxfTWpt']"
      ]
     },
     "execution_count": 353,
     "metadata": {},
     "output_type": "execute_result"
    }
   ],
   "source": [
    "links"
   ]
  },
  {
   "cell_type": "code",
   "execution_count": 347,
   "id": "b5f49923",
   "metadata": {},
   "outputs": [
    {
     "data": {
      "text/plain": [
       "1"
      ]
     },
     "execution_count": 347,
     "metadata": {},
     "output_type": "execute_result"
    }
   ],
   "source": [
    "len(links)"
   ]
  },
  {
   "cell_type": "code",
   "execution_count": 301,
   "id": "3441eff0",
   "metadata": {},
   "outputs": [],
   "source": [
    "n = 4\n",
    "links1 = [links[i:i + n] for i in range(0, len(links), n)]"
   ]
  },
  {
   "cell_type": "code",
   "execution_count": 312,
   "id": "7ffea5ed",
   "metadata": {
    "scrolled": true
   },
   "outputs": [
    {
     "name": "stderr",
     "output_type": "stream",
     "text": [
      "100%|███████████████████████████████████████████████████████████████████████████████| 33/33 [00:00<00:00, 33018.14it/s]"
     ]
    },
    {
     "name": "stdout",
     "output_type": "stream",
     "text": [
      "https://www.tripadvisor.es/Attractions-g190454-Activities-a_trating.40-Vienna.html#category=47\n",
      "https://www.tripadvisor.es/Attractions-g294448-Activities-a_trating.40-Minsk.html#category=47\n",
      "https://www.tripadvisor.es/Attractions-g294452-Activities-a_trating.40-Sofia_Sofia_Region.html#category=47\n",
      "https://www.tripadvisor.es/Attractions-g189541-Activities-a_trating.40-Copenhagen_Zealand.html#category=47\n",
      "https://www.tripadvisor.es/Attractions-g274873-Activities-a_trating.40-Ljubljana_Upper_Carniola_Region.html#category=47\n",
      "https://www.tripadvisor.es/Attractions-g274958-Activities-a_trating.40-Tallinn_Harju_County.html#category=47\n",
      "https://www.tripadvisor.es/Attractions-g187147-Activities-a_trating.40-Paris_Ile_de_France.html#category=47\n",
      "https://www.tripadvisor.es/Attractions-g189400-Activities-a_trating.40-Athens_Attica.html#category=47\n",
      "https://www.tripadvisor.es/Attractions-g186605-Activities-a_trating.40-Dublin_County_Dublin.html#category=47\n",
      "https://www.tripadvisor.es/Attractions-g187791-Activities-a_trating.40-Rome_Lazio.html#category=47\n",
      "https://www.tripadvisor.es/Attractions-g274951-Activities-a_trating.40-Vilnius_Vilnius_County.html#category=47\n",
      "https://www.tripadvisor.es/Attractions-g295110-Activities-a_trating.40-Skopje_Skopje_Region.html#category=47\n",
      "https://www.tripadvisor.es/Attractions-g294456-Activities-a_trating.40-Chisinau_Chisinau_District.html#category=47\n",
      "https://www.tripadvisor.es/Attractions-g188590-Activities-a_trating.40-Amsterdam_North_Holland_Province.html#category=47\n",
      "https://www.tripadvisor.es/Attractions-g189158-Activities-a_trating.40-Lisbon_Lisbon_District_Central_Portugal.html#category=47\n",
      "https://www.tripadvisor.es/Attractions-g274707-Activities-a_trating.40-Prague_Bohemia.html#category=47\n",
      "https://www.tripadvisor.es/Attractions-g189852-Activities-a_trating.40-Stockholm.html#category=47\n",
      "https://www.tripadvisor.es/Attractions-g187323-Activities-a_trating.40-Berlin.html#category=47\n",
      "https://www.tripadvisor.es/Attractions-g188644-Activities-a_trating.40-Brussels.html#category=47\n",
      "https://www.tripadvisor.es/Attractions-g294450-Activities-a_trating.40-Sarajevo_Sarajevo_Canton_Federation_of_Bosnia_and_Herzegovina.html#category=47\n",
      "https://www.tripadvisor.es/Attractions-g294454-Activities-a_trating.40-Zagreb_Central_Croatia.html#category=47\n",
      "https://www.tripadvisor.es/Attractions-g274924-Activities-a_trating.40-Bratislava_Bratislava_Region.html#category=47\n",
      "https://www.tripadvisor.es/Attractions-g189934-Activities-a_trating.40-Helsinki_Uusimaa.html#category=47\n",
      "https://www.tripadvisor.es/Attractions-g274887-Activities-a_trating.40-Budapest_Central_Hungary.html#category=47\n",
      "https://www.tripadvisor.es/Attractions-g189970-Activities-a_trating.40-Reykjavik_Capital_Region.html#category=47\n",
      "https://www.tripadvisor.es/Attractions-g274967-Activities-a_trating.40-Riga_Riga_Region.html#category=47\n",
      "https://www.tripadvisor.es/Attractions-g190340-Activities-a_trating.40-Luxembourg.html#category=47\n",
      "https://www.tripadvisor.es/Attractions-g190328-Activities-a_trating.40-Valletta_Island_of_Malta.html#category=47\n",
      "https://www.tripadvisor.es/Attractions-g190479-Activities-a_trating.40-Oslo_Eastern_Norway.html#category=47\n",
      "https://www.tripadvisor.es/Attractions-g274856-Activities-a_trating.40-Warsaw_Mazovia_Province_Central_Poland.html#category=47\n",
      "https://www.tripadvisor.es/Attractions-g294458-Activities-a_trating.40-Bucharest.html#category=47\n",
      "https://www.tripadvisor.es/Attractions-g294471-Activities-a_trating.40-Serbia.html#category=47\n",
      "https://www.tripadvisor.es/Attractions-g294472-Activities-a_trating.40-Belgrade.html#category=47\n"
     ]
    },
    {
     "name": "stderr",
     "output_type": "stream",
     "text": [
      "\n"
     ]
    }
   ],
   "source": [
    "for e in tqdm(links1):\n",
    "    for i in e:\n",
    "#         driver.get(i)\n",
    "        if '=47' in i:\n",
    "            print(i)"
   ]
  },
  {
   "cell_type": "code",
   "execution_count": null,
   "id": "632c0061",
   "metadata": {},
   "outputs": [],
   "source": [
    "vida_nocturna= []\n",
    "monumentos = []\n",
    "barco_deportes_acuaticos= []\n",
    "museos= []\n",
    "spas_bienestar= []\n",
    "diversion_entretenimiento= []\n",
    "naturaleza_parques= []"
   ]
  },
  {
   "cell_type": "code",
   "execution_count": 309,
   "id": "e7b7a50f",
   "metadata": {},
   "outputs": [],
   "source": [
    "url= 'https://www.tripadvisor.es/Attractions-g190454-Activities-a_trating.40-Vienna.html#category=20'"
   ]
  },
  {
   "cell_type": "code",
   "execution_count": 311,
   "id": "d63f0596",
   "metadata": {},
   "outputs": [
    {
     "name": "stderr",
     "output_type": "stream",
     "text": [
      "2022-12-07 16:43:47,728 [4776] WARNING  py.warnings:109: [JupyterRequire] C:\\Users\\silsi\\AppData\\Local\\Temp\\ipykernel_4776\\2317264644.py:1: DeprecationWarning: executable_path has been deprecated, please pass in a Service object\n",
      "  driver=webdriver.Chrome(PATH)\n",
      "\n"
     ]
    }
   ],
   "source": [
    "driver=webdriver.Chrome(PATH)\n",
    "driver.get(url)"
   ]
  },
  {
   "cell_type": "code",
   "execution_count": null,
   "id": "b19459fa",
   "metadata": {},
   "outputs": [],
   "source": []
  }
 ],
 "metadata": {
  "kernelspec": {
   "display_name": "Python 3 (ipykernel)",
   "language": "python",
   "name": "python3"
  },
  "language_info": {
   "codemirror_mode": {
    "name": "ipython",
    "version": 3
   },
   "file_extension": ".py",
   "mimetype": "text/x-python",
   "name": "python",
   "nbconvert_exporter": "python",
   "pygments_lexer": "ipython3",
   "version": "3.9.12"
  }
 },
 "nbformat": 4,
 "nbformat_minor": 5
}
