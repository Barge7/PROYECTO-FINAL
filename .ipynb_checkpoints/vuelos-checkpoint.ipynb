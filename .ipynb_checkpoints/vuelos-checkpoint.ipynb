{
 "cells": [
  {
   "cell_type": "code",
   "execution_count": 88,
   "id": "da7c5708",
   "metadata": {},
   "outputs": [],
   "source": [
    "import pandas as pd\n",
    "from selenium import webdriver\n",
    "\n",
    "import time\n",
    "from tqdm import tqdm\n",
    "import regex as re\n",
    "import warnings\n",
    "warnings.filterwarnings('ignore')\n",
    "\n",
    "from selenium.webdriver.chrome.options import Options\n",
    "from webdriver_manager.chrome import ChromeDriverManager\n",
    "from selenium.webdriver.common.by import By   # para buscar segun tag, id, class, etc...\n",
    "\n",
    "from selenium.webdriver.support.ui import WebDriverWait   # es para esperar\n",
    "\n",
    "from selenium.webdriver.support import expected_conditions as EC  # condiciones esperadas...\n",
    "\n",
    "from selenium.webdriver import ActionChains as AC   # acciones encadenadas, rollo doble click\n",
    "\n",
    "from selenium.webdriver.common.keys import Keys\n",
    "from selenium.webdriver.common.by import By\n",
    "\n",
    "PATH=ChromeDriverManager().install()"
   ]
  },
  {
   "cell_type": "code",
   "execution_count": 3,
   "id": "003eb458",
   "metadata": {},
   "outputs": [],
   "source": [
    "data= pd.read_excel('temperaturas.xlsx')"
   ]
  },
  {
   "cell_type": "code",
   "execution_count": 5,
   "id": "23c1df4a",
   "metadata": {},
   "outputs": [],
   "source": [
    "url = 'https://www.tripadvisor.com/CheapFlightsSearchResults-g294446-a_airport0.MAD-a_airport1.TIA-a_cos.0-a_date0.20221228-a_date1.20230102-a_formImp.f9a307c3__2D__31bb__2D__4f3b__2D__b7c5__2D__0037886bde16__2E__18990-a_nearby0.no-a_nearby1.no-a_nonstop.no-a_pax0.a-a_travelers.1-Tirana_Tirana_County.html'"
   ]
  },
  {
   "cell_type": "code",
   "execution_count": 5,
   "id": "8d1199df",
   "metadata": {},
   "outputs": [
    {
     "name": "stderr",
     "output_type": "stream",
     "text": [
      "2022-12-07 09:39:44,524 [4776] WARNING  py.warnings:109: [JupyterRequire] C:\\Users\\silsi\\AppData\\Local\\Temp\\ipykernel_4776\\1993680865.py:1: DeprecationWarning: executable_path has been deprecated, please pass in a Service object\n",
      "  driver=webdriver.Chrome(PATH)\n",
      "\n",
      "100%|██████████████████████████████████████████████████████████████████████████████████| 32/32 [04:51<00:00,  9.12s/it]\n"
     ]
    }
   ],
   "source": [
    "driver=webdriver.Chrome(PATH)\n",
    "driver.get(url)\n",
    "time.sleep(2)\n",
    "aceptar = driver.find_element(By.XPATH, '//*[@id=\"onetrust-accept-btn-handler\"]')\n",
    "aceptar.click()\n",
    "sort= driver.find_element(By.XPATH, '//*[@id=\"MAIN\"]/div/div[1]/div/div/div/div[1]/div/div[1]/div[1]/span/span/span[2]')\n",
    "sort.click()\n",
    "price = driver.find_element(By.XPATH,'//*[@id=\"BODY_BLOCK_JQUERY_REFLOW\"]/div[14]/div/div/div/ul/li[1]/div/div/span[2]')\n",
    "time.sleep(1)\n",
    "price.click()\n",
    "time.sleep(2)\n",
    "driver.execute_script('window.scrollTo(0, 200);')\n",
    "uno= driver.find_elements(By.CLASS_NAME,'JcwmL')[0]\n",
    "dos = uno.find_element(By.CLASS_NAME, 'OBuNK')\n",
    "precio= []\n",
    "precio.append(dos.text)\n",
    "\n",
    "\n",
    "lista= ['Viena', 'Minsk', 'Sofia', 'Copenhague', 'Ljubljana', 'Tallin', 'Paris',\n",
    "       'Atenas', 'Dublin', 'Rome', 'Vilna', 'Skopje', 'Chisinau', 'Amsterdam',\n",
    "       'Lisboa', 'Praga', 'Estocolmo', 'Berlin', 'Bruselas', 'Sarajevo',\n",
    "       'Zagreb', 'Bratislava', 'Helsinki', 'Budapest', 'Reykjavik', 'Rig',\n",
    "       'Luxemburgo', 'valet', 'Oslo', 'Varsovia', 'Bucarest', 'Serbia']\n",
    "for e in tqdm(lista):\n",
    "    \n",
    "    city = driver.find_element(By.XPATH,'//*[@id=\"component_1\"]/div/div[1]/div/div[2]/div[3]/div/div[1]/div[2]/div/div/div/input')\n",
    "    city.click()\n",
    "    city.send_keys(Keys.DELETE)\n",
    "    city.send_keys(e)\n",
    "    time.sleep(1)\n",
    "    city.send_keys(Keys.DOWN, Keys.RETURN)\n",
    "    driver.find_element(By.XPATH, '//*[@id=\"component_1\"]/div/div[1]/div/div[2]/div[3]/div/div[4]/button/div').click()\n",
    "    time.sleep(3)\n",
    "    sort= driver.find_element(By.XPATH, '//*[@id=\"MAIN\"]/div/div[1]/div/div/div/div[1]/div/div[1]/div[1]/span/span/span[2]')\n",
    "    sort.click()\n",
    "    price = driver.find_element(By.XPATH,'//*[@id=\"BODY_BLOCK_JQUERY_REFLOW\"]/div[14]/div/div/div/ul/li[1]/div/div/span[2]')\n",
    "    time.sleep(1)\n",
    "    price.click()\n",
    "    time.sleep(2)\n",
    "    driver.execute_script('window.scrollTo(0, 200);')\n",
    "    uno= driver.find_elements(By.CLASS_NAME,'JcwmL')[0]\n",
    "    dos = uno.find_element(By.CLASS_NAME, 'OBuNK')\n",
    "    precio.append(dos.text)\n",
    "driver.quit()\n",
    "\n"
   ]
  },
  {
   "cell_type": "code",
   "execution_count": 76,
   "id": "fffd4075",
   "metadata": {},
   "outputs": [],
   "source": [
    "vuelos = []\n",
    "num= []\n",
    "for e in precio:\n",
    "    if e == '€1,943':\n",
    "        vuelos.append(1943)\n",
    "    else:\n",
    "        num.append((re.findall('[0-9]+', e)))\n",
    "        for i in num:\n",
    "            for u in i:\n",
    "                vuelos.append(int(u))\n",
    "                num = []\n",
    "        "
   ]
  },
  {
   "cell_type": "code",
   "execution_count": 78,
   "id": "cd41bb69",
   "metadata": {},
   "outputs": [],
   "source": [
    "data['precio/vuelo']= vuelos"
   ]
  },
  {
   "cell_type": "code",
   "execution_count": 448,
   "id": "c2e22c2c",
   "metadata": {},
   "outputs": [],
   "source": [
    "data.to_excel('vuelos.xlsx', index = False)"
   ]
  },
  {
   "cell_type": "code",
   "execution_count": 10,
   "id": "e1a85b5b",
   "metadata": {},
   "outputs": [],
   "source": [
    "url= 'https://www.tripadvisor.es/'"
   ]
  },
  {
   "cell_type": "code",
   "execution_count": 11,
   "id": "500a1ac0",
   "metadata": {},
   "outputs": [],
   "source": [
    "lista= ['Viena', 'Minsk', 'Sofia', 'Copenhague', 'Ljubljana', 'Tallin', 'Paris',\n",
    "       'Atenas', 'Dublin', 'Rome', 'Vilna', 'Skopje', 'Chisinau', 'Amsterdam',\n",
    "       'Lisboa', 'Praga', 'Estocolmo', 'Berlin', 'Bruselas', 'Sarajevo',\n",
    "       'Zagreb', 'Bratislava', 'Helsinki', 'Budapest', 'Reykjavik', 'Rig',\n",
    "       'Luxemburgo', 'La valeta', 'Oslo', 'Varsovia', 'Bucarest', 'Serbia', 'Belgrado']"
   ]
  },
  {
   "cell_type": "code",
   "execution_count": 57,
   "id": "f36730a5",
   "metadata": {},
   "outputs": [],
   "source": [
    "links= []\n",
    "for e in tqdm(lista):\n",
    "    driver=webdriver.Chrome(PATH)\n",
    "    driver.get(url)\n",
    "    time.sleep(3)\n",
    "    driver.find_element(By.XPATH, '//*[@id=\"onetrust-accept-btn-handler\"]').click()\n",
    "    driver.execute_script('window.scrollTo(0, 200);')\n",
    "    buscar= driver.find_element(By.XPATH, '//*[@id=\"lithium-root\"]/main/div[3]/div/div/div/form/input[1]')\n",
    "    buscar.click()  \n",
    "    buscar.send_keys(e)\n",
    "    time.sleep(1)\n",
    "    buscar.send_keys(Keys.DOWN, Keys.RETURN)\n",
    "    time.sleep(3)\n",
    "    if e == 'Serbia' or e == 'Luxemburgo':\n",
    "        driver.execute_script('window.scrollTo(0, 1200);')\n",
    "        j= driver.find_elements(By.CLASS_NAME, 'Fofmq')[2]\n",
    "        links += [j.find_element(By.TAG_NAME, 'a').get_attribute('href')]\n",
    "        print(j.find_element(By.TAG_NAME, 'a').get_attribute('href'))\n",
    "    else:\n",
    "        driver.execute_script('window.scrollTo(0, 1800);')\n",
    "        j = driver.find_elements(By.CLASS_NAME, 'BYvbL')[1]\n",
    "        links += [j.find_element(By.TAG_NAME, 'a').get_attribute('href')]\n",
    "        print(j.find_element(By.TAG_NAME, 'a').get_attribute('href'))\n",
    "    driver.quit()"
   ]
  },
  {
   "cell_type": "code",
   "execution_count": 17,
   "id": "61acd972",
   "metadata": {},
   "outputs": [],
   "source": [
    "data= pd.read_excel('vuelos.xlsx')"
   ]
  },
  {
   "cell_type": "code",
   "execution_count": 18,
   "id": "c2a016f9",
   "metadata": {},
   "outputs": [],
   "source": [
    "data['links']= links"
   ]
  },
  {
   "cell_type": "code",
   "execution_count": 20,
   "id": "891b8d11",
   "metadata": {},
   "outputs": [],
   "source": [
    "data.to_excel('links.xlsx', index = False)"
   ]
  },
  {
   "cell_type": "code",
   "execution_count": 21,
   "id": "d1bb1e49",
   "metadata": {},
   "outputs": [],
   "source": [
    "link= 'https://www.tripadvisor.es/Attractions-g190454-Activities-c42-Vienna.html'"
   ]
  },
  {
   "cell_type": "code",
   "execution_count": 40,
   "id": "f9c49996",
   "metadata": {},
   "outputs": [],
   "source": [
    "link_nocturno= []\n",
    "link_monumentos = []\n",
    "link_acuaticos= []\n",
    "link_museos= []\n",
    "link_spas= []\n",
    "link_diversion= []\n",
    "link_naturaleza= []\n",
    "\n",
    "for e in links:\n",
    "    if 'Luxembourg' in e or 'Serbia' in e:\n",
    "        link = e.split('oa0')\n",
    "    else:\n",
    "        link = e.split('c42')\n",
    "    link_nocturno.append(link[0] + 'c20' + link[1])\n",
    "    link_monumentos.append(link[0] + 'c47' + link[1])\n",
    "    link_acuaticos.append(link[0] + 'c55' + link[1])\n",
    "    link_museos.append(link[0] + 'c49' + link[1])\n",
    "    link_spas.append(link[0] + 'c40' + link[1])\n",
    "    link_diversion.append(link[0] + 'c56' + link[1])\n",
    "    link_naturaleza.append(link[0] + 'c57' + link[1])"
   ]
  },
  {
   "cell_type": "code",
   "execution_count": 55,
   "id": "9e3882d3",
   "metadata": {},
   "outputs": [],
   "source": [
    "data['link_nocturno']= link_nocturno\n",
    "data['link_monumentos']= link_monumentos\n",
    "data['link_acuaticos']= link_acuaticos\n",
    "data['link_museos']= link_museos\n",
    "data['link_spas']= link_spas\n",
    "data['link_diversion']= link_diversion\n",
    "data['link_naturaleza']= link_naturaleza"
   ]
  },
  {
   "cell_type": "code",
   "execution_count": 70,
   "id": "c204de7b",
   "metadata": {},
   "outputs": [
    {
     "name": "stderr",
     "output_type": "stream",
     "text": [
      "  0%|                                                                                           | 0/33 [00:00<?, ?it/s]C:\\Users\\silsi\\AppData\\Local\\Temp\\ipykernel_26736\\1556640812.py:3: DeprecationWarning: executable_path has been deprecated, please pass in a Service object\n",
      "  driver=webdriver.Chrome(PATH)\n",
      "100%|██████████████████████████████████████████████████████████████████████████████████| 33/33 [07:59<00:00, 14.54s/it]\n"
     ]
    }
   ],
   "source": [
    "vida_nocturna= []\n",
    "for e in tqdm(data.link_nocturno):\n",
    "    driver=webdriver.Chrome(PATH)\n",
    "    driver.get(e)\n",
    "    time.sleep(3)\n",
    "    driver.find_element(By.XPATH, '//*[@id=\"onetrust-accept-btn-handler\"]').click()\n",
    "    driver.execute_script('window.scrollTo(0, 1300);')\n",
    "    driver.find_element(By.XPATH, '//*[@id=\"rating_filter_contents\"]/ul/li[2]/div/span/div[1]/label/span').click()\n",
    "    time.sleep(1)\n",
    "    vida_nocturna.append(driver.find_element(By.XPATH, '//*[@id=\"lithium-root\"]/main/div[1]/div/div[3]/div/div[2]/div[2]/div[2]/div/div[3]/div/div[2]/div/div/section[1]/div/div/div/span[1]/span').text)\n",
    "    driver.quit()\n",
    "data['vida_nocturna']= vida_nocturna"
   ]
  },
  {
   "cell_type": "code",
   "execution_count": 79,
   "id": "14296e34",
   "metadata": {},
   "outputs": [
    {
     "name": "stderr",
     "output_type": "stream",
     "text": [
      "  0%|                                                                                           | 0/33 [00:00<?, ?it/s]C:\\Users\\silsi\\AppData\\Local\\Temp\\ipykernel_26736\\3097021554.py:3: DeprecationWarning: executable_path has been deprecated, please pass in a Service object\n",
      "  driver=webdriver.Chrome(PATH)\n",
      "100%|██████████████████████████████████████████████████████████████████████████████████| 33/33 [08:31<00:00, 15.51s/it]\n"
     ]
    }
   ],
   "source": [
    "monumentos= []\n",
    "for e in tqdm(data.link_monumentos):\n",
    "    driver=webdriver.Chrome(PATH)\n",
    "    driver.get(e)\n",
    "    time.sleep(3)\n",
    "    driver.find_element(By.XPATH, '//*[@id=\"onetrust-accept-btn-handler\"]').click()\n",
    "    driver.execute_script('window.scrollTo(0, 1300);')\n",
    "    driver.find_element(By.XPATH, '//*[@id=\"rating_filter_contents\"]/ul/li[2]/div/span/div[1]/label/span').click()\n",
    "    time.sleep(2)\n",
    "    monumentos.append(driver.find_element(By.XPATH, '//*[@id=\"lithium-root\"]/main/div[1]/div/div[3]/div/div[2]/div[2]/div[2]/div/div[3]/div/div[2]/div/div/section[1]/div/div/div/span[1]/span').text)\n",
    "    driver.quit()\n",
    "data['monumentos'] = monumentos"
   ]
  },
  {
   "cell_type": "code",
   "execution_count": 87,
   "id": "74a3a5b4",
   "metadata": {},
   "outputs": [
    {
     "name": "stderr",
     "output_type": "stream",
     "text": [
      "  0%|                                                                                           | 0/33 [00:00<?, ?it/s]C:\\Users\\silsi\\AppData\\Local\\Temp\\ipykernel_26736\\3250328615.py:3: DeprecationWarning: executable_path has been deprecated, please pass in a Service object\n",
      "  driver=webdriver.Chrome(PATH)\n",
      "100%|██████████████████████████████████████████████████████████████████████████████████| 33/33 [06:40<00:00, 12.14s/it]\n"
     ]
    }
   ],
   "source": [
    "deportes_agua= []\n",
    "for e in tqdm(data.link_acuaticos):\n",
    "    driver=webdriver.Chrome(PATH)\n",
    "    driver.get(e)\n",
    "    time.sleep(3)\n",
    "    driver.find_element(By.XPATH, '//*[@id=\"onetrust-accept-btn-handler\"]').click()\n",
    "    deportes_agua.append(driver.find_element(By.XPATH, '//*[@id=\"lithium-root\"]/main/div[1]/div/div[3]/div/div[2]/div[2]/div[2]/div/div[3]/div/div[2]/div/div/section[1]/div/div/div/span[1]/span').text)\n",
    "    driver.quit()\n",
    "data['deportes_agua'] = deportes_agua"
   ]
  },
  {
   "cell_type": "code",
   "execution_count": 98,
   "id": "b19459fa",
   "metadata": {},
   "outputs": [
    {
     "name": "stderr",
     "output_type": "stream",
     "text": [
      "100%|██████████████████████████████████████████████████████████████████████████████████| 33/33 [08:24<00:00, 15.29s/it]\n"
     ]
    }
   ],
   "source": [
    "museos= []\n",
    "for e in tqdm(data.link_museos):\n",
    "    driver=webdriver.Chrome(PATH)\n",
    "    driver.get(e)\n",
    "    time.sleep(3)\n",
    "    driver.find_element(By.XPATH, '//*[@id=\"onetrust-accept-btn-handler\"]').click()\n",
    "    if 'Skopje' in e:\n",
    "        museos.append(driver.find_element(By.XPATH, '//*[@id=\"lithium-root\"]/main/div[1]/div/div[3]/div/div[2]/div[2]/div[2]/div/div[3]/div/div[2]/div/div/section[1]/div/div/div/span[1]/span').text)\n",
    "    else:\n",
    "        driver.execute_script('window.scrollTo(0, 1800);')\n",
    "        driver.find_element(By.XPATH, '//*[@id=\"rating_filter_contents\"]/ul/li[2]/div/span/div[1]/label/span').click()\n",
    "        time.sleep(2)\n",
    "        museos.append(driver.find_element(By.XPATH, '//*[@id=\"lithium-root\"]/main/div[1]/div/div[3]/div/div[2]/div[2]/div[2]/div/div[3]/div/div[2]/div/div/section[1]/div/div/div/span[1]/span').text)\n",
    "    driver.quit()\n",
    "data['museos'] = museos"
   ]
  },
  {
   "cell_type": "code",
   "execution_count": 100,
   "id": "cce8b5da",
   "metadata": {},
   "outputs": [
    {
     "name": "stderr",
     "output_type": "stream",
     "text": [
      " 33%|███████████████████████████▎                                                      | 11/33 [03:03<06:07, 16.69s/it]\n"
     ]
    },
    {
     "ename": "NoSuchElementException",
     "evalue": "Message: no such element: Unable to locate element: {\"method\":\"xpath\",\"selector\":\"//*[@id=\"rating_filter_contents\"]/ul/li[2]/div/span/div[1]/label/span\"}\n  (Session info: chrome=108.0.5359.98)\nStacktrace:\nBacktrace:\n\t(No symbol) [0x00FBF243]\n\t(No symbol) [0x00F47FD1]\n\t(No symbol) [0x00E3D04D]\n\t(No symbol) [0x00E6C0B0]\n\t(No symbol) [0x00E6C22B]\n\t(No symbol) [0x00E9E612]\n\t(No symbol) [0x00E885D4]\n\t(No symbol) [0x00E9C9EB]\n\t(No symbol) [0x00E88386]\n\t(No symbol) [0x00E6163C]\n\t(No symbol) [0x00E6269D]\n\tGetHandleVerifier [0x01259A22+2655074]\n\tGetHandleVerifier [0x0124CA24+2601828]\n\tGetHandleVerifier [0x01068C0A+619850]\n\tGetHandleVerifier [0x01067830+614768]\n\t(No symbol) [0x00F505FC]\n\t(No symbol) [0x00F55968]\n\t(No symbol) [0x00F55A55]\n\t(No symbol) [0x00F6051B]\n\tBaseThreadInitThunk [0x75B06939+25]\n\tRtlGetFullPathName_UEx [0x77DD8FD2+1218]\n\tRtlGetFullPathName_UEx [0x77DD8F9D+1165]\n",
     "output_type": "error",
     "traceback": [
      "\u001b[1;31m---------------------------------------------------------------------------\u001b[0m",
      "\u001b[1;31mNoSuchElementException\u001b[0m                    Traceback (most recent call last)",
      "Input \u001b[1;32mIn [100]\u001b[0m, in \u001b[0;36m<cell line: 2>\u001b[1;34m()\u001b[0m\n\u001b[0;32m      6\u001b[0m driver\u001b[38;5;241m.\u001b[39mfind_element(By\u001b[38;5;241m.\u001b[39mXPATH, \u001b[38;5;124m'\u001b[39m\u001b[38;5;124m//*[@id=\u001b[39m\u001b[38;5;124m\"\u001b[39m\u001b[38;5;124monetrust-accept-btn-handler\u001b[39m\u001b[38;5;124m\"\u001b[39m\u001b[38;5;124m]\u001b[39m\u001b[38;5;124m'\u001b[39m)\u001b[38;5;241m.\u001b[39mclick()\n\u001b[0;32m      7\u001b[0m driver\u001b[38;5;241m.\u001b[39mexecute_script(\u001b[38;5;124m'\u001b[39m\u001b[38;5;124mwindow.scrollTo(0, 1300);\u001b[39m\u001b[38;5;124m'\u001b[39m)\n\u001b[1;32m----> 8\u001b[0m \u001b[43mdriver\u001b[49m\u001b[38;5;241;43m.\u001b[39;49m\u001b[43mfind_element\u001b[49m\u001b[43m(\u001b[49m\u001b[43mBy\u001b[49m\u001b[38;5;241;43m.\u001b[39;49m\u001b[43mXPATH\u001b[49m\u001b[43m,\u001b[49m\u001b[43m \u001b[49m\u001b[38;5;124;43m'\u001b[39;49m\u001b[38;5;124;43m//*[@id=\u001b[39;49m\u001b[38;5;124;43m\"\u001b[39;49m\u001b[38;5;124;43mrating_filter_contents\u001b[39;49m\u001b[38;5;124;43m\"\u001b[39;49m\u001b[38;5;124;43m]/ul/li[2]/div/span/div[1]/label/span\u001b[39;49m\u001b[38;5;124;43m'\u001b[39;49m\u001b[43m)\u001b[49m\u001b[38;5;241m.\u001b[39mclick()\n\u001b[0;32m      9\u001b[0m time\u001b[38;5;241m.\u001b[39msleep(\u001b[38;5;241m2\u001b[39m)\n\u001b[0;32m     10\u001b[0m spas\u001b[38;5;241m.\u001b[39mappend(driver\u001b[38;5;241m.\u001b[39mfind_element(By\u001b[38;5;241m.\u001b[39mXPATH, \u001b[38;5;124m'\u001b[39m\u001b[38;5;124m//*[@id=\u001b[39m\u001b[38;5;124m\"\u001b[39m\u001b[38;5;124mlithium-root\u001b[39m\u001b[38;5;124m\"\u001b[39m\u001b[38;5;124m]/main/div[1]/div/div[3]/div/div[2]/div[2]/div[2]/div/div[3]/div/div[2]/div/div/section[1]/div/div/div/span[1]/span\u001b[39m\u001b[38;5;124m'\u001b[39m)\u001b[38;5;241m.\u001b[39mtext)\n",
      "File \u001b[1;32m~\\anaconda3\\lib\\site-packages\\selenium\\webdriver\\remote\\webdriver.py:861\u001b[0m, in \u001b[0;36mWebDriver.find_element\u001b[1;34m(self, by, value)\u001b[0m\n\u001b[0;32m    858\u001b[0m     by \u001b[38;5;241m=\u001b[39m By\u001b[38;5;241m.\u001b[39mCSS_SELECTOR\n\u001b[0;32m    859\u001b[0m     value \u001b[38;5;241m=\u001b[39m \u001b[38;5;124m'\u001b[39m\u001b[38;5;124m[name=\u001b[39m\u001b[38;5;124m\"\u001b[39m\u001b[38;5;132;01m%s\u001b[39;00m\u001b[38;5;124m\"\u001b[39m\u001b[38;5;124m]\u001b[39m\u001b[38;5;124m'\u001b[39m \u001b[38;5;241m%\u001b[39m value\n\u001b[1;32m--> 861\u001b[0m \u001b[38;5;28;01mreturn\u001b[39;00m \u001b[38;5;28;43mself\u001b[39;49m\u001b[38;5;241;43m.\u001b[39;49m\u001b[43mexecute\u001b[49m\u001b[43m(\u001b[49m\u001b[43mCommand\u001b[49m\u001b[38;5;241;43m.\u001b[39;49m\u001b[43mFIND_ELEMENT\u001b[49m\u001b[43m,\u001b[49m\u001b[43m \u001b[49m\u001b[43m{\u001b[49m\u001b[38;5;124;43m\"\u001b[39;49m\u001b[38;5;124;43musing\u001b[39;49m\u001b[38;5;124;43m\"\u001b[39;49m\u001b[43m:\u001b[49m\u001b[43m \u001b[49m\u001b[43mby\u001b[49m\u001b[43m,\u001b[49m\u001b[43m \u001b[49m\u001b[38;5;124;43m\"\u001b[39;49m\u001b[38;5;124;43mvalue\u001b[39;49m\u001b[38;5;124;43m\"\u001b[39;49m\u001b[43m:\u001b[49m\u001b[43m \u001b[49m\u001b[43mvalue\u001b[49m\u001b[43m}\u001b[49m\u001b[43m)\u001b[49m[\u001b[38;5;124m\"\u001b[39m\u001b[38;5;124mvalue\u001b[39m\u001b[38;5;124m\"\u001b[39m]\n",
      "File \u001b[1;32m~\\anaconda3\\lib\\site-packages\\selenium\\webdriver\\remote\\webdriver.py:444\u001b[0m, in \u001b[0;36mWebDriver.execute\u001b[1;34m(self, driver_command, params)\u001b[0m\n\u001b[0;32m    442\u001b[0m response \u001b[38;5;241m=\u001b[39m \u001b[38;5;28mself\u001b[39m\u001b[38;5;241m.\u001b[39mcommand_executor\u001b[38;5;241m.\u001b[39mexecute(driver_command, params)\n\u001b[0;32m    443\u001b[0m \u001b[38;5;28;01mif\u001b[39;00m response:\n\u001b[1;32m--> 444\u001b[0m     \u001b[38;5;28;43mself\u001b[39;49m\u001b[38;5;241;43m.\u001b[39;49m\u001b[43merror_handler\u001b[49m\u001b[38;5;241;43m.\u001b[39;49m\u001b[43mcheck_response\u001b[49m\u001b[43m(\u001b[49m\u001b[43mresponse\u001b[49m\u001b[43m)\u001b[49m\n\u001b[0;32m    445\u001b[0m     response[\u001b[38;5;124m\"\u001b[39m\u001b[38;5;124mvalue\u001b[39m\u001b[38;5;124m\"\u001b[39m] \u001b[38;5;241m=\u001b[39m \u001b[38;5;28mself\u001b[39m\u001b[38;5;241m.\u001b[39m_unwrap_value(response\u001b[38;5;241m.\u001b[39mget(\u001b[38;5;124m\"\u001b[39m\u001b[38;5;124mvalue\u001b[39m\u001b[38;5;124m\"\u001b[39m, \u001b[38;5;28;01mNone\u001b[39;00m))\n\u001b[0;32m    446\u001b[0m     \u001b[38;5;28;01mreturn\u001b[39;00m response\n",
      "File \u001b[1;32m~\\anaconda3\\lib\\site-packages\\selenium\\webdriver\\remote\\errorhandler.py:249\u001b[0m, in \u001b[0;36mErrorHandler.check_response\u001b[1;34m(self, response)\u001b[0m\n\u001b[0;32m    247\u001b[0m         alert_text \u001b[38;5;241m=\u001b[39m value[\u001b[38;5;124m\"\u001b[39m\u001b[38;5;124malert\u001b[39m\u001b[38;5;124m\"\u001b[39m]\u001b[38;5;241m.\u001b[39mget(\u001b[38;5;124m\"\u001b[39m\u001b[38;5;124mtext\u001b[39m\u001b[38;5;124m\"\u001b[39m)\n\u001b[0;32m    248\u001b[0m     \u001b[38;5;28;01mraise\u001b[39;00m exception_class(message, screen, stacktrace, alert_text)  \u001b[38;5;66;03m# type: ignore[call-arg]  # mypy is not smart enough here\u001b[39;00m\n\u001b[1;32m--> 249\u001b[0m \u001b[38;5;28;01mraise\u001b[39;00m exception_class(message, screen, stacktrace)\n",
      "\u001b[1;31mNoSuchElementException\u001b[0m: Message: no such element: Unable to locate element: {\"method\":\"xpath\",\"selector\":\"//*[@id=\"rating_filter_contents\"]/ul/li[2]/div/span/div[1]/label/span\"}\n  (Session info: chrome=108.0.5359.98)\nStacktrace:\nBacktrace:\n\t(No symbol) [0x00FBF243]\n\t(No symbol) [0x00F47FD1]\n\t(No symbol) [0x00E3D04D]\n\t(No symbol) [0x00E6C0B0]\n\t(No symbol) [0x00E6C22B]\n\t(No symbol) [0x00E9E612]\n\t(No symbol) [0x00E885D4]\n\t(No symbol) [0x00E9C9EB]\n\t(No symbol) [0x00E88386]\n\t(No symbol) [0x00E6163C]\n\t(No symbol) [0x00E6269D]\n\tGetHandleVerifier [0x01259A22+2655074]\n\tGetHandleVerifier [0x0124CA24+2601828]\n\tGetHandleVerifier [0x01068C0A+619850]\n\tGetHandleVerifier [0x01067830+614768]\n\t(No symbol) [0x00F505FC]\n\t(No symbol) [0x00F55968]\n\t(No symbol) [0x00F55A55]\n\t(No symbol) [0x00F6051B]\n\tBaseThreadInitThunk [0x75B06939+25]\n\tRtlGetFullPathName_UEx [0x77DD8FD2+1218]\n\tRtlGetFullPathName_UEx [0x77DD8F9D+1165]\n"
     ]
    }
   ],
   "source": [
    "spas= []\n",
    "for e in tqdm(data.link_spas):\n",
    "    driver=webdriver.Chrome(PATH)\n",
    "    driver.get(e)\n",
    "    time.sleep(3)\n",
    "    driver.find_element(By.XPATH, '//*[@id=\"onetrust-accept-btn-handler\"]').click()\n",
    "    driver.execute_script('window.scrollTo(0, 1300);')\n",
    "    driver.find_element(By.XPATH, '//*[@id=\"rating_filter_contents\"]/ul/li[2]/div/span/div[1]/label/span').click()\n",
    "    time.sleep(2)\n",
    "    spas.append(driver.find_element(By.XPATH, '//*[@id=\"lithium-root\"]/main/div[1]/div/div[3]/div/div[2]/div[2]/div[2]/div/div[3]/div/div[2]/div/div/section[1]/div/div/div/span[1]/span').text)\n",
    "    driver.quit()\n",
    "data['spas'] = spas"
   ]
  },
  {
   "cell_type": "code",
   "execution_count": null,
   "id": "7965f9ca",
   "metadata": {},
   "outputs": [],
   "source": [
    "diversion= []\n",
    "for e in tqdm(data.link_diversion):\n",
    "    driver=webdriver.Chrome(PATH)\n",
    "    driver.get(e)\n",
    "    time.sleep(3)\n",
    "    driver.find_element(By.XPATH, '//*[@id=\"onetrust-accept-btn-handler\"]').click()\n",
    "    driver.execute_script('window.scrollTo(0, 1300);')\n",
    "    driver.find_element(By.XPATH, '//*[@id=\"rating_filter_contents\"]/ul/li[2]/div/span/div[1]/label/span').click()\n",
    "    time.sleep(1)\n",
    "    diversion.append(driver.find_element(By.XPATH, '//*[@id=\"lithium-root\"]/main/div[1]/div/div[3]/div/div[2]/div[2]/div[2]/div/div[3]/div/div[2]/div/div/section[1]/div/div/div/span[1]/span').text)\n",
    "    driver.quit()\n",
    "data['diversion']= diversion"
   ]
  },
  {
   "cell_type": "code",
   "execution_count": null,
   "id": "59dbbe05",
   "metadata": {},
   "outputs": [],
   "source": [
    "naturaleza= []\n",
    "for e in tqdm(data.link_naturaleza):\n",
    "    driver=webdriver.Chrome(PATH)\n",
    "    driver.get(e)\n",
    "    time.sleep(3)\n",
    "    driver.find_element(By.XPATH, '//*[@id=\"onetrust-accept-btn-handler\"]').click()\n",
    "    driver.execute_script('window.scrollTo(0, 1300);')\n",
    "    driver.find_element(By.XPATH, '//*[@id=\"rating_filter_contents\"]/ul/li[2]/div/span/div[1]/label/span').click()\n",
    "    time.sleep(1)\n",
    "    diversion.append(driver.find_element(By.XPATH, '//*[@id=\"lithium-root\"]/main/div[1]/div/div[3]/div/div[2]/div[2]/div[2]/div/div[3]/div/div[2]/div/div/section[1]/div/div/div/span[1]/span').text)\n",
    "    driver.quit()\n",
    "data['naturaleza']= naturaleza"
   ]
  },
  {
   "cell_type": "code",
   "execution_count": 99,
   "id": "6ef88e85",
   "metadata": {},
   "outputs": [],
   "source": [
    "data.to_excel('links.xlsx', index = False)"
   ]
  },
  {
   "cell_type": "code",
   "execution_count": null,
   "id": "91512df1",
   "metadata": {},
   "outputs": [],
   "source": []
  },
  {
   "cell_type": "code",
   "execution_count": null,
   "id": "1c2dba5a",
   "metadata": {},
   "outputs": [],
   "source": []
  },
  {
   "cell_type": "code",
   "execution_count": null,
   "id": "03ea0e92",
   "metadata": {},
   "outputs": [],
   "source": []
  }
 ],
 "metadata": {
  "kernelspec": {
   "display_name": "Python 3 (ipykernel)",
   "language": "python",
   "name": "python3"
  },
  "language_info": {
   "codemirror_mode": {
    "name": "ipython",
    "version": 3
   },
   "file_extension": ".py",
   "mimetype": "text/x-python",
   "name": "python",
   "nbconvert_exporter": "python",
   "pygments_lexer": "ipython3",
   "version": "3.9.12"
  }
 },
 "nbformat": 4,
 "nbformat_minor": 5
}
