{
 "cells": [
  {
   "cell_type": "code",
   "execution_count": 1,
   "id": "515fb708",
   "metadata": {},
   "outputs": [],
   "source": [
    "import pandas as pd\n",
    "from selenium import webdriver\n",
    "\n",
    "import time\n",
    "from tqdm import tqdm\n",
    "import regex as re\n",
    "import warnings\n",
    "warnings.filterwarnings('ignore')\n",
    "\n",
    "from selenium.webdriver.chrome.options import Options\n",
    "from webdriver_manager.chrome import ChromeDriverManager\n",
    "from selenium.webdriver.common.by import By   # para buscar segun tag, id, class, etc...\n",
    "\n",
    "from selenium.webdriver.support.ui import WebDriverWait   # es para esperar\n",
    "\n",
    "from selenium.webdriver.support import expected_conditions as EC  # condiciones esperadas...\n",
    "\n",
    "from selenium.webdriver import ActionChains as AC   # acciones encadenadas, rollo doble click\n",
    "\n",
    "from selenium.webdriver.common.keys import Keys\n",
    "from selenium.webdriver.common.by import By\n",
    "\n",
    "PATH=ChromeDriverManager().install()"
   ]
  },
  {
   "cell_type": "code",
   "execution_count": 11,
   "id": "52535a97",
   "metadata": {},
   "outputs": [],
   "source": [
    "dictio = {'ciudades': data1.ciudad.unique()}"
   ]
  },
  {
   "cell_type": "code",
   "execution_count": 12,
   "id": "7235f974",
   "metadata": {},
   "outputs": [],
   "source": [
    "data = pd.DataFrame(data = dictio)"
   ]
  },
  {
   "cell_type": "code",
   "execution_count": 17,
   "id": "86b59190",
   "metadata": {},
   "outputs": [],
   "source": [
    "data['ciudades_id']= [e for e in range(1, 34)]"
   ]
  },
  {
   "cell_type": "code",
   "execution_count": 19,
   "id": "2dd95b77",
   "metadata": {},
   "outputs": [],
   "source": [
    "data.to_excel('ciudades.xlsx')"
   ]
  }
 ],
 "metadata": {
  "kernelspec": {
   "display_name": "Python 3 (ipykernel)",
   "language": "python",
   "name": "python3"
  },
  "language_info": {
   "codemirror_mode": {
    "name": "ipython",
    "version": 3
   },
   "file_extension": ".py",
   "mimetype": "text/x-python",
   "name": "python",
   "nbconvert_exporter": "python",
   "pygments_lexer": "ipython3",
   "version": "3.9.12"
  }
 },
 "nbformat": 4,
 "nbformat_minor": 5
}
