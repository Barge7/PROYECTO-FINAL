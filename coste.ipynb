{
 "cells": [
  {
   "cell_type": "code",
   "execution_count": 1,
   "id": "3b66d379",
   "metadata": {},
   "outputs": [
    {
     "name": "stderr",
     "output_type": "stream",
     "text": [
      "[WDM] - Downloading: 100%|█████████████████████████████████████████████████████████| 6.58M/6.58M [00:08<00:00, 826kB/s]\n"
     ]
    }
   ],
   "source": [
    "import pandas as pd\n",
    "from selenium import webdriver\n",
    "\n",
    "import time\n",
    "from tqdm import tqdm\n",
    "import regex as re\n",
    "import warnings\n",
    "warnings.filterwarnings('ignore')\n",
    "\n",
    "from selenium.webdriver.chrome.options import Options\n",
    "from webdriver_manager.chrome import ChromeDriverManager\n",
    "from selenium.webdriver.common.by import By   # para buscar segun tag, id, class, etc...\n",
    "\n",
    "from selenium.webdriver.support.ui import WebDriverWait   # es para esperar\n",
    "\n",
    "from selenium.webdriver.support import expected_conditions as EC  # condiciones esperadas...\n",
    "\n",
    "from selenium.webdriver import ActionChains as AC   # acciones encadenadas, rollo doble click\n",
    "\n",
    "from selenium.webdriver.common.keys import Keys\n",
    "from selenium.webdriver.common.by import By\n",
    "\n",
    "PATH=ChromeDriverManager().install()"
   ]
  },
  {
   "cell_type": "code",
   "execution_count": null,
   "id": "415916f8",
   "metadata": {},
   "outputs": [],
   "source": [
    "datos = pd.read_clipboard()"
   ]
  },
  {
   "cell_type": "code",
   "execution_count": 20,
   "id": "a77d05fe",
   "metadata": {},
   "outputs": [],
   "source": [
    "rank = [e for e in datos['1']]\n",
    "rank.append(1)"
   ]
  },
  {
   "cell_type": "code",
   "execution_count": 39,
   "id": "b1f38be2",
   "metadata": {},
   "outputs": [],
   "source": [
    "pais = [e for e in datos.Suiza]\n",
    "pais.append('Suiza')"
   ]
  },
  {
   "cell_type": "code",
   "execution_count": 29,
   "id": "4b87017a",
   "metadata": {},
   "outputs": [],
   "source": [
    "coste = [e for e in datos['121,16']]\n",
    "coste.append('121,16')"
   ]
  },
  {
   "cell_type": "code",
   "execution_count": 30,
   "id": "8533bcb2",
   "metadata": {},
   "outputs": [],
   "source": [
    "alqui = [e for e in datos['50,25']]\n",
    "alqui.append('50,25')"
   ]
  },
  {
   "cell_type": "code",
   "execution_count": 31,
   "id": "1412f226",
   "metadata": {},
   "outputs": [],
   "source": [
    "vidaal= [e for e in datos['87,11']]\n",
    "vidaal.append('87,11')"
   ]
  },
  {
   "cell_type": "code",
   "execution_count": 32,
   "id": "067d3446",
   "metadata": {},
   "outputs": [],
   "source": [
    "comes = [e for e in datos['120,81']]\n",
    "comes.append('120,81')"
   ]
  },
  {
   "cell_type": "code",
   "execution_count": 33,
   "id": "e1e28127",
   "metadata": {},
   "outputs": [],
   "source": [
    "rest = [e for e in datos['123,09']]\n",
    "rest.append('123,09')"
   ]
  },
  {
   "cell_type": "code",
   "execution_count": 34,
   "id": "bb7a13c7",
   "metadata": {},
   "outputs": [],
   "source": [
    "poder = [e for e in datos['129,70']]\n",
    "poder.append('129,70')"
   ]
  },
  {
   "cell_type": "code",
   "execution_count": 35,
   "id": "5a2b247f",
   "metadata": {},
   "outputs": [],
   "source": [
    "data = pd.DataFrame(columns = ['puesto', 'pais', 'coste', 'alquiler', 'vida+alquiler', 'comestibles',\n",
    "                                             'restaurantes', 'poder'])"
   ]
  },
  {
   "cell_type": "code",
   "execution_count": 41,
   "id": "1219231f",
   "metadata": {},
   "outputs": [],
   "source": [
    "data['puesto']= rank\n",
    "data['pais']= pais\n",
    "data['coste']= coste\n",
    "data['alquiler']= alqui\n",
    "data['vida+alquiler']= vidaal\n",
    "data['comestibles']= comes\n",
    "data['restaurantes']= rest\n",
    "data['poder']= poder"
   ]
  },
  {
   "cell_type": "code",
   "execution_count": 47,
   "id": "61263bb1",
   "metadata": {},
   "outputs": [],
   "source": [
    "data.drop([13, 16,26, 32, 37, 38, 39], axis= 0, inplace = True)"
   ]
  },
  {
   "cell_type": "code",
   "execution_count": 50,
   "id": "b08cb29d",
   "metadata": {},
   "outputs": [],
   "source": [
    "data.puesto.replace({2: 26,  3: 30,  4: 28,  6: 10,  7: 8,  8: 15,  9:20, 10: 24, 11: 2,\n",
    "                     12: 18, 13: 11, 14: 19, 16: 29, 17: 9, 19: 6, 20: 7, 21: 16, \n",
    "                     22: 27, 23:22, 24: 12, 25: 17, 26: 23, 27: 25, 29: 31, 30: 4, \n",
    "                     31: 32, 32: 1, 33: 21, 35: 33, 36: 3, 37: 14, 38: 13}, inplace = True)"
   ]
  },
  {
   "cell_type": "code",
   "execution_count": 55,
   "id": "c91fc28d",
   "metadata": {},
   "outputs": [],
   "source": [
    "data.rename(columns={'puesto': 'ciudades_id'}, inplace=True)"
   ]
  },
  {
   "cell_type": "code",
   "execution_count": 58,
   "id": "822cc642",
   "metadata": {},
   "outputs": [],
   "source": [
    "data= data.sort_values(by= 'ciudades_id')"
   ]
  },
  {
   "cell_type": "code",
   "execution_count": 73,
   "id": "2bc037ed",
   "metadata": {},
   "outputs": [],
   "source": [
    "lista= []\n",
    "for e in data.coste:\n",
    "    e = e.replace(',' , '.')\n",
    "    lista.append(float(e))\n",
    "data['coste']=lista"
   ]
  },
  {
   "cell_type": "code",
   "execution_count": 76,
   "id": "a0834d71",
   "metadata": {},
   "outputs": [],
   "source": [
    "lista= []\n",
    "for e in data.alquiler:\n",
    "    e = e.replace(',' , '.')\n",
    "    lista.append(float(e))\n",
    "data['alquiler']=lista"
   ]
  },
  {
   "cell_type": "code",
   "execution_count": 77,
   "id": "b2ab3070",
   "metadata": {},
   "outputs": [],
   "source": [
    "lista= []\n",
    "for e in data['vida+alquiler']:\n",
    "    e = e.replace(',' , '.')\n",
    "    lista.append(float(e))\n",
    "data['vida+alquiler']=lista"
   ]
  },
  {
   "cell_type": "code",
   "execution_count": 78,
   "id": "6217ab50",
   "metadata": {},
   "outputs": [],
   "source": [
    "lista= []\n",
    "for e in data.comestibles:\n",
    "    e = e.replace(',' , '.')\n",
    "    lista.append(float(e))\n",
    "data['comestibles']=lista"
   ]
  },
  {
   "cell_type": "code",
   "execution_count": 79,
   "id": "5d657382",
   "metadata": {},
   "outputs": [],
   "source": [
    "lista= []\n",
    "for e in data.restaurantes:\n",
    "    e = e.replace(',' , '.')\n",
    "    lista.append(float(e))\n",
    "data['restaurantes']=lista"
   ]
  },
  {
   "cell_type": "code",
   "execution_count": 80,
   "id": "bd2522fa",
   "metadata": {},
   "outputs": [],
   "source": [
    "data.drop(['poder'], axis= 1, inplace = True)"
   ]
  },
  {
   "cell_type": "code",
   "execution_count": 83,
   "id": "4d775849",
   "metadata": {},
   "outputs": [
    {
     "name": "stdout",
     "output_type": "stream",
     "text": [
      "<class 'pandas.core.frame.DataFrame'>\n",
      "Int64Index: 33 entries, 30 to 33\n",
      "Data columns (total 7 columns):\n",
      " #   Column         Non-Null Count  Dtype  \n",
      "---  ------         --------------  -----  \n",
      " 0   ciudades_id    33 non-null     int64  \n",
      " 1   pais           33 non-null     object \n",
      " 2   coste          33 non-null     float64\n",
      " 3   alquiler       33 non-null     float64\n",
      " 4   vida+alquiler  33 non-null     float64\n",
      " 5   comestibles    33 non-null     float64\n",
      " 6   restaurantes   33 non-null     float64\n",
      "dtypes: float64(5), int64(1), object(1)\n",
      "memory usage: 2.1+ KB\n"
     ]
    }
   ],
   "source": [
    "data.info()"
   ]
  },
  {
   "cell_type": "code",
   "execution_count": 84,
   "id": "6b65e848",
   "metadata": {},
   "outputs": [],
   "source": [
    "data.to_excel('coste.xlsx', index= False)"
   ]
  },
  {
   "cell_type": "code",
   "execution_count": 2,
   "id": "ab708433",
   "metadata": {},
   "outputs": [],
   "source": [
    "data = pd.read_excel('coste.xlsx')"
   ]
  },
  {
   "cell_type": "code",
   "execution_count": 6,
   "id": "c2526c55",
   "metadata": {},
   "outputs": [],
   "source": [
    "data.to_excel('coste.xlsx', index= False)"
   ]
  },
  {
   "cell_type": "code",
   "execution_count": null,
   "id": "a50a0bbe",
   "metadata": {},
   "outputs": [],
   "source": []
  }
 ],
 "metadata": {
  "kernelspec": {
   "display_name": "Python 3 (ipykernel)",
   "language": "python",
   "name": "python3"
  },
  "language_info": {
   "codemirror_mode": {
    "name": "ipython",
    "version": 3
   },
   "file_extension": ".py",
   "mimetype": "text/x-python",
   "name": "python",
   "nbconvert_exporter": "python",
   "pygments_lexer": "ipython3",
   "version": "3.9.12"
  }
 },
 "nbformat": 4,
 "nbformat_minor": 5
}
