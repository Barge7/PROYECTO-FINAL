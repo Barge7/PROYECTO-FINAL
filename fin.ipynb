{
 "cells": [
  {
   "cell_type": "code",
   "execution_count": 2,
   "id": "03a34048",
   "metadata": {},
   "outputs": [],
   "source": [
    "import pandas as pd\n",
    "from selenium import webdriver\n",
    "\n",
    "import time\n",
    "from tqdm import tqdm\n",
    "import regex as re\n",
    "import warnings\n",
    "warnings.filterwarnings('ignore')\n"
   ]
  },
  {
   "cell_type": "code",
   "execution_count": 3,
   "id": "6764351a",
   "metadata": {},
   "outputs": [],
   "source": [
    "data = pd.read_excel('ciudades.xlsx')"
   ]
  },
  {
   "cell_type": "code",
   "execution_count": 4,
   "id": "a6c9916c",
   "metadata": {},
   "outputs": [],
   "source": [
    "data1 = pd.read_excel('vuelos.xlsx')"
   ]
  },
  {
   "cell_type": "code",
   "execution_count": 5,
   "id": "6143c2bf",
   "metadata": {},
   "outputs": [],
   "source": [
    "data2 = pd.read_excel('links.xlsx')"
   ]
  },
  {
   "cell_type": "code",
   "execution_count": 6,
   "id": "28cfa47c",
   "metadata": {},
   "outputs": [],
   "source": [
    "data3= pd.read_excel('poblacion.xlsx')"
   ]
  },
  {
   "cell_type": "code",
   "execution_count": 7,
   "id": "ade59d2d",
   "metadata": {},
   "outputs": [],
   "source": [
    "data4 = pd.read_excel('restaurantes.xlsx')"
   ]
  },
  {
   "cell_type": "code",
   "execution_count": 8,
   "id": "e8421789",
   "metadata": {},
   "outputs": [],
   "source": [
    "data5 = pd.read_excel('coste.xlsx')"
   ]
  },
  {
   "cell_type": "code",
   "execution_count": 9,
   "id": "523f24cf",
   "metadata": {},
   "outputs": [],
   "source": [
    "data6 = pd.read_excel('temperaturas.xlsx')"
   ]
  },
  {
   "cell_type": "code",
   "execution_count": 10,
   "id": "4fb7654e",
   "metadata": {},
   "outputs": [],
   "source": [
    "data = data.set_index('ciudades_id').join(data6.set_index('ciudad')).join(data1.set_index('ciudades_id')).join(data2.set_index('ciudad')).join(data3.set_index('ciudad')).join(data4.set_index('ciudades_id')).join(data5.set_index('ciudades_id'))"
   ]
  },
  {
   "cell_type": "code",
   "execution_count": 14,
   "id": "fa0e81fb",
   "metadata": {},
   "outputs": [],
   "source": [
    "data.drop(['pais'], axis= 1, inplace = True)"
   ]
  },
  {
   "cell_type": "code",
   "execution_count": 88,
   "id": "8aad6cf8",
   "metadata": {},
   "outputs": [],
   "source": [
    "# data['presupuesto']= data['precio/vuelo'] + data['calculo_viaje']"
   ]
  },
  {
   "cell_type": "code",
   "execution_count": 16,
   "id": "5ae31435",
   "metadata": {},
   "outputs": [],
   "source": [
    "data.to_excel('final.xlsx', index= False)"
   ]
  }
 ],
 "metadata": {
  "finalized": {
   "timestamp": 1670693937185,
   "trusted": true
  },
  "kernelspec": {
   "display_name": "Python 3 (ipykernel)",
   "language": "python",
   "name": "python3"
  },
  "language_info": {
   "codemirror_mode": {
    "name": "ipython",
    "version": 3
   },
   "file_extension": ".py",
   "mimetype": "text/x-python",
   "name": "python",
   "nbconvert_exporter": "python",
   "pygments_lexer": "ipython3",
   "version": "3.9.12"
  }
 },
 "nbformat": 4,
 "nbformat_minor": 5
}
