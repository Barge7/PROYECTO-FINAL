{
 "cells": [
  {
   "cell_type": "code",
   "execution_count": 4,
   "id": "2d9a0fda",
   "metadata": {},
   "outputs": [],
   "source": [
    "import pandas as pd\n",
    "from selenium import webdriver\n",
    "\n",
    "import time\n",
    "from tqdm import tqdm\n",
    "import regex as re\n",
    "import warnings\n",
    "warnings.filterwarnings('ignore')\n",
    "\n",
    "from selenium.webdriver.chrome.options import Options\n",
    "from webdriver_manager.chrome import ChromeDriverManager\n",
    "from selenium.webdriver.common.by import By   # para buscar segun tag, id, class, etc...\n",
    "\n",
    "from selenium.webdriver.support.ui import WebDriverWait   # es para esperar\n",
    "\n",
    "from selenium.webdriver.support import expected_conditions as EC  # condiciones esperadas...\n",
    "\n",
    "from selenium.webdriver import ActionChains as AC   # acciones encadenadas, rollo doble click\n",
    "\n",
    "from selenium.webdriver.common.keys import Keys\n",
    "from selenium.webdriver.common.by import By\n",
    "\n",
    "PATH=ChromeDriverManager().install()"
   ]
  },
  {
   "cell_type": "code",
   "execution_count": 5,
   "id": "b688d387",
   "metadata": {},
   "outputs": [],
   "source": [
    "url= 'https://www.tripadvisor.es/'"
   ]
  },
  {
   "cell_type": "code",
   "execution_count": 115,
   "id": "928e6518",
   "metadata": {},
   "outputs": [],
   "source": [
    "ciud= ['Tirana', 'Viena', 'Minsk', 'Sofia', 'Copenhague', 'Ljubljana', 'Tallin', 'Paris',\n",
    "       'Atenas', 'Dublin', 'Roma', 'Vilna', 'Skopje', 'Chisinau', 'Amsterdam',\n",
    "       'Lisboa', 'Praga', 'Estocolmo', 'Berlin', 'Bruselas', 'Sarajevo',\n",
    "       'Zagreb', 'Bratislava', 'Helsinki', 'Budapest', 'Reykjavik', 'Riga',\n",
    "       'Luxemburgo', 'La valeta', 'Oslo', 'Varsovia', 'Bucarest', 'Belgrado']"
   ]
  },
  {
   "cell_type": "code",
   "execution_count": 69,
   "id": "b6eee160",
   "metadata": {},
   "outputs": [
    {
     "name": "stderr",
     "output_type": "stream",
     "text": [
      "\r",
      "  0%|                                                                                           | 0/33 [00:00<?, ?it/s]"
     ]
    },
    {
     "name": "stdout",
     "output_type": "stream",
     "text": [
      "34 resultados coinciden con tus filtros\n"
     ]
    },
    {
     "name": "stderr",
     "output_type": "stream",
     "text": [
      "\r",
      "  3%|██▌                                                                                | 1/33 [00:20<11:03, 20.73s/it]"
     ]
    },
    {
     "name": "stdout",
     "output_type": "stream",
     "text": [
      "185 resultados coinciden con tus filtros\n"
     ]
    },
    {
     "name": "stderr",
     "output_type": "stream",
     "text": [
      "\r",
      "  6%|█████                                                                              | 2/33 [00:42<10:55, 21.15s/it]"
     ]
    },
    {
     "name": "stdout",
     "output_type": "stream",
     "text": [
      "71 resultados coinciden con tus filtros\n"
     ]
    },
    {
     "name": "stderr",
     "output_type": "stream",
     "text": [
      "\r",
      "  9%|███████▌                                                                           | 3/33 [01:02<10:28, 20.94s/it]"
     ]
    },
    {
     "name": "stdout",
     "output_type": "stream",
     "text": [
      "51 resultados coinciden con tus filtros\n"
     ]
    },
    {
     "name": "stderr",
     "output_type": "stream",
     "text": [
      "\r",
      " 12%|██████████                                                                         | 4/33 [01:23<10:02, 20.77s/it]"
     ]
    },
    {
     "name": "stdout",
     "output_type": "stream",
     "text": [
      "66 resultados coinciden con tus filtros\n"
     ]
    },
    {
     "name": "stderr",
     "output_type": "stream",
     "text": [
      "\r",
      " 15%|████████████▌                                                                      | 5/33 [01:43<09:38, 20.65s/it]"
     ]
    },
    {
     "name": "stdout",
     "output_type": "stream",
     "text": [
      "16 resultados coinciden con tus filtros\n"
     ]
    },
    {
     "name": "stderr",
     "output_type": "stream",
     "text": [
      "\r",
      " 18%|███████████████                                                                    | 6/33 [02:04<09:17, 20.64s/it]"
     ]
    },
    {
     "name": "stdout",
     "output_type": "stream",
     "text": [
      "61 resultados coinciden con tus filtros\n"
     ]
    },
    {
     "name": "stderr",
     "output_type": "stream",
     "text": [
      "\r",
      " 21%|█████████████████▌                                                                 | 7/33 [02:25<08:56, 20.63s/it]"
     ]
    },
    {
     "name": "stdout",
     "output_type": "stream",
     "text": [
      "166 resultados coinciden con tus filtros\n"
     ]
    },
    {
     "name": "stderr",
     "output_type": "stream",
     "text": [
      "\r",
      " 24%|████████████████████                                                               | 8/33 [02:47<08:50, 21.23s/it]"
     ]
    },
    {
     "name": "stdout",
     "output_type": "stream",
     "text": [
      "3 resultados coinciden con tus filtros\n"
     ]
    },
    {
     "name": "stderr",
     "output_type": "stream",
     "text": [
      "\r",
      " 27%|██████████████████████▋                                                            | 9/33 [03:10<08:42, 21.79s/it]"
     ]
    },
    {
     "name": "stdout",
     "output_type": "stream",
     "text": [
      "38 resultados coinciden con tus filtros\n"
     ]
    },
    {
     "name": "stderr",
     "output_type": "stream",
     "text": [
      "\r",
      " 30%|████████████████████████▊                                                         | 10/33 [03:31<08:15, 21.54s/it]"
     ]
    },
    {
     "name": "stdout",
     "output_type": "stream",
     "text": [
      "381 resultados coinciden con tus filtros\n"
     ]
    },
    {
     "name": "stderr",
     "output_type": "stream",
     "text": [
      "\r",
      " 33%|███████████████████████████▎                                                      | 11/33 [03:52<07:52, 21.49s/it]"
     ]
    },
    {
     "name": "stdout",
     "output_type": "stream",
     "text": [
      "23 resultados coinciden con tus filtros\n"
     ]
    },
    {
     "name": "stderr",
     "output_type": "stream",
     "text": [
      "\r",
      " 36%|█████████████████████████████▊                                                    | 12/33 [04:13<07:26, 21.26s/it]"
     ]
    },
    {
     "name": "stdout",
     "output_type": "stream",
     "text": [
      "28 resultados coinciden con tus filtros\n"
     ]
    },
    {
     "name": "stderr",
     "output_type": "stream",
     "text": [
      "\r",
      " 39%|████████████████████████████████▎                                                 | 13/33 [04:34<07:01, 21.06s/it]"
     ]
    },
    {
     "name": "stdout",
     "output_type": "stream",
     "text": [
      "1 resultado coincide con tus filtros\n"
     ]
    },
    {
     "name": "stderr",
     "output_type": "stream",
     "text": [
      "\r",
      " 42%|██████████████████████████████████▊                                               | 14/33 [04:54<06:38, 20.96s/it]"
     ]
    },
    {
     "name": "stdout",
     "output_type": "stream",
     "text": [
      "201 resultados coinciden con tus filtros\n"
     ]
    },
    {
     "name": "stderr",
     "output_type": "stream",
     "text": [
      "\r",
      " 45%|█████████████████████████████████████▎                                            | 15/33 [05:15<06:15, 20.88s/it]"
     ]
    },
    {
     "name": "stdout",
     "output_type": "stream",
     "text": [
      "245 resultados coinciden con tus filtros\n"
     ]
    },
    {
     "name": "stderr",
     "output_type": "stream",
     "text": [
      "\r",
      " 48%|███████████████████████████████████████▊                                          | 16/33 [05:37<05:57, 21.02s/it]"
     ]
    },
    {
     "name": "stdout",
     "output_type": "stream",
     "text": [
      "144 resultados coinciden con tus filtros\n"
     ]
    },
    {
     "name": "stderr",
     "output_type": "stream",
     "text": [
      "\r",
      " 52%|██████████████████████████████████████████▏                                       | 17/33 [05:58<05:38, 21.18s/it]"
     ]
    },
    {
     "name": "stdout",
     "output_type": "stream",
     "text": [
      "66 resultados coinciden con tus filtros\n"
     ]
    },
    {
     "name": "stderr",
     "output_type": "stream",
     "text": [
      "\r",
      " 55%|████████████████████████████████████████████▋                                     | 18/33 [06:19<05:18, 21.22s/it]"
     ]
    },
    {
     "name": "stdout",
     "output_type": "stream",
     "text": [
      "253 resultados coinciden con tus filtros\n"
     ]
    },
    {
     "name": "stderr",
     "output_type": "stream",
     "text": [
      "\r",
      " 58%|███████████████████████████████████████████████▏                                  | 19/33 [06:40<04:54, 21.02s/it]"
     ]
    },
    {
     "name": "stdout",
     "output_type": "stream",
     "text": [
      "98 resultados coinciden con tus filtros\n"
     ]
    },
    {
     "name": "stderr",
     "output_type": "stream",
     "text": [
      "\r",
      " 61%|█████████████████████████████████████████████████▋                                | 20/33 [07:01<04:33, 21.03s/it]"
     ]
    },
    {
     "name": "stdout",
     "output_type": "stream",
     "text": [
      "19 resultados coinciden con tus filtros\n"
     ]
    },
    {
     "name": "stderr",
     "output_type": "stream",
     "text": [
      "\r",
      " 64%|████████████████████████████████████████████████████▏                             | 21/33 [07:21<04:09, 20.83s/it]"
     ]
    },
    {
     "name": "stdout",
     "output_type": "stream",
     "text": [
      "21 resultados coinciden con tus filtros\n"
     ]
    },
    {
     "name": "stderr",
     "output_type": "stream",
     "text": [
      "\r",
      " 67%|██████████████████████████████████████████████████████▋                           | 22/33 [07:43<03:50, 20.96s/it]"
     ]
    },
    {
     "name": "stdout",
     "output_type": "stream",
     "text": [
      "26 resultados coinciden con tus filtros\n"
     ]
    },
    {
     "name": "stderr",
     "output_type": "stream",
     "text": [
      "\r",
      " 70%|█████████████████████████████████████████████████████████▏                        | 23/33 [08:03<03:28, 20.82s/it]"
     ]
    },
    {
     "name": "stdout",
     "output_type": "stream",
     "text": [
      "43 resultados coinciden con tus filtros\n"
     ]
    },
    {
     "name": "stderr",
     "output_type": "stream",
     "text": [
      "\r",
      " 73%|███████████████████████████████████████████████████████████▋                      | 24/33 [08:24<03:07, 20.83s/it]"
     ]
    },
    {
     "name": "stdout",
     "output_type": "stream",
     "text": [
      "99 resultados coinciden con tus filtros\n"
     ]
    },
    {
     "name": "stderr",
     "output_type": "stream",
     "text": [
      "\r",
      " 76%|██████████████████████████████████████████████████████████████                    | 25/33 [08:45<02:46, 20.86s/it]"
     ]
    },
    {
     "name": "stdout",
     "output_type": "stream",
     "text": [
      "11 resultados coinciden con tus filtros\n"
     ]
    },
    {
     "name": "stderr",
     "output_type": "stream",
     "text": [
      "\r",
      " 79%|████████████████████████████████████████████████████████████████▌                 | 26/33 [09:05<02:25, 20.76s/it]"
     ]
    },
    {
     "name": "stdout",
     "output_type": "stream",
     "text": [
      "38 resultados coinciden con tus filtros\n"
     ]
    },
    {
     "name": "stderr",
     "output_type": "stream",
     "text": [
      "\r",
      " 82%|███████████████████████████████████████████████████████████████████               | 27/33 [09:27<02:05, 20.98s/it]"
     ]
    },
    {
     "name": "stdout",
     "output_type": "stream",
     "text": [
      "43 resultados coinciden con tus filtros\n"
     ]
    },
    {
     "name": "stderr",
     "output_type": "stream",
     "text": [
      "\r",
      " 85%|█████████████████████████████████████████████████████████████████████▌            | 28/33 [09:48<01:45, 21.15s/it]"
     ]
    },
    {
     "name": "stdout",
     "output_type": "stream",
     "text": [
      "1 resultado coincide con tus filtros\n"
     ]
    },
    {
     "name": "stderr",
     "output_type": "stream",
     "text": [
      "\r",
      " 88%|████████████████████████████████████████████████████████████████████████          | 29/33 [10:09<01:24, 21.09s/it]"
     ]
    },
    {
     "name": "stdout",
     "output_type": "stream",
     "text": [
      "24 resultados coinciden con tus filtros\n"
     ]
    },
    {
     "name": "stderr",
     "output_type": "stream",
     "text": [
      "\r",
      " 91%|██████████████████████████████████████████████████████████████████████████▌       | 30/33 [10:30<01:03, 21.02s/it]"
     ]
    },
    {
     "name": "stdout",
     "output_type": "stream",
     "text": [
      "153 resultados coinciden con tus filtros\n"
     ]
    },
    {
     "name": "stderr",
     "output_type": "stream",
     "text": [
      "\r",
      " 94%|█████████████████████████████████████████████████████████████████████████████     | 31/33 [10:51<00:41, 20.93s/it]"
     ]
    },
    {
     "name": "stdout",
     "output_type": "stream",
     "text": [
      "62 resultados coinciden con tus filtros\n"
     ]
    },
    {
     "name": "stderr",
     "output_type": "stream",
     "text": [
      "\r",
      " 97%|███████████████████████████████████████████████████████████████████████████████▌  | 32/33 [11:11<00:20, 20.78s/it]"
     ]
    },
    {
     "name": "stdout",
     "output_type": "stream",
     "text": [
      "84 resultados coinciden con tus filtros\n"
     ]
    },
    {
     "name": "stderr",
     "output_type": "stream",
     "text": [
      "100%|██████████████████████████████████████████████████████████████████████████████████| 33/33 [11:32<00:00, 21.00s/it]\n"
     ]
    }
   ],
   "source": [
    "buffet= []\n",
    "for e in tqdm(ciud):\n",
    "    driver=webdriver.Chrome(PATH)\n",
    "    driver.get(url)\n",
    "    time.sleep(3)\n",
    "    driver.find_element(By.XPATH, '//*[@id=\"onetrust-accept-btn-handler\"]').click()\n",
    "    buscar= driver.find_element(By.XPATH, '//*[@id=\"lithium-root\"]/main/div[3]/div/div/div/form/input[1]')\n",
    "    buscar.click()\n",
    "    buscar.send_keys(e)\n",
    "    time.sleep(1)\n",
    "    buscar.send_keys(Keys.DOWN, Keys.DOWN, Keys.DOWN, Keys.RETURN)\n",
    "    time.sleep(3)\n",
    "    driver.execute_script('window.scrollTo(0, 700);')\n",
    "    time.sleep(1)\n",
    "    if e == 'Atenas':\n",
    "        driver.find_element(By.XPATH, '//*[@id=\"component_48\"]/div/div[4]/div[2]/div[5]/span[1]').click()\n",
    "        driver.find_element(By.XPATH, '//*[@id=\"component_48\"]/div/div[4]/div[2]/div[9]/div/label').click()\n",
    "        time.sleep(1)\n",
    "        \n",
    "    if e == 'Luxemburgo':\n",
    "        driver.find_element(By.XPATH, '//*[@id=\"component_47\"]/div/div[2]/div[2]/div[5]').click()       \n",
    "    else:\n",
    "        driver.find_element(By.XPATH, '//*[@id=\"component_48\"]/div/div[3]/div[2]/div[5]').click()\n",
    "    if e == 'Paris' or e == 'Luxemburgo':\n",
    "        driver.find_element(By.XPATH, '//*[@id=\"BODY_BLOCK_JQUERY_REFLOW\"]/div[12]/div/div[1]/div[2]/div/div/div[1]/div[8]/div/label').click()\n",
    "        time.sleep(1)\n",
    "        driver.find_element(By.XPATH, '//*[@id=\"BODY_BLOCK_JQUERY_REFLOW\"]/div[12]/div/div[1]/div[3]/button').click()\n",
    "    else:\n",
    "        driver.execute_script('window.scrollTo(0, 800);')\n",
    "        driver.find_element(By.XPATH, '//*[@id=\"component_48\"]/div/div[3]/div[2]/div[10]/div/label').click()\n",
    "        driver.execute_script('window.scrollTo(800, 0);')\n",
    "    time.sleep(2)\n",
    "    buffet.append(driver.find_element(By.CLASS_NAME, 'SgeRJ').text)\n",
    "    print(driver.find_element(By.CLASS_NAME, 'SgeRJ').text)\n",
    "    driver.quit()"
   ]
  },
  {
   "cell_type": "code",
   "execution_count": 75,
   "id": "df03c5b0",
   "metadata": {},
   "outputs": [],
   "source": [
    "data = pd.DataFrame(columns = ['ciudades_id'], data= [e for e in range(1, 34)])"
   ]
  },
  {
   "cell_type": "code",
   "execution_count": 76,
   "id": "23bbd504",
   "metadata": {},
   "outputs": [],
   "source": [
    "data['buffet']= buffet"
   ]
  },
  {
   "cell_type": "code",
   "execution_count": 82,
   "id": "c0562b07",
   "metadata": {},
   "outputs": [],
   "source": [
    "lista = []\n",
    "for e in data.buffet:\n",
    "    e = e.split(' ')\n",
    "    lista.append(int(e[0]))\n",
    "data['buffet']= lista"
   ]
  },
  {
   "cell_type": "code",
   "execution_count": 85,
   "id": "fe30b203",
   "metadata": {},
   "outputs": [
    {
     "name": "stdout",
     "output_type": "stream",
     "text": [
      "<class 'pandas.core.frame.DataFrame'>\n",
      "RangeIndex: 33 entries, 0 to 32\n",
      "Data columns (total 2 columns):\n",
      " #   Column       Non-Null Count  Dtype\n",
      "---  ------       --------------  -----\n",
      " 0   ciudades_id  33 non-null     int64\n",
      " 1   buffet       33 non-null     int64\n",
      "dtypes: int64(2)\n",
      "memory usage: 656.0 bytes\n"
     ]
    }
   ],
   "source": [
    "data.info()"
   ]
  },
  {
   "cell_type": "code",
   "execution_count": 120,
   "id": "2462c30b",
   "metadata": {},
   "outputs": [],
   "source": [
    "data.to_excel('restaurantes.xlsx', index= False)"
   ]
  },
  {
   "cell_type": "code",
   "execution_count": null,
   "id": "e353a49a",
   "metadata": {},
   "outputs": [],
   "source": []
  },
  {
   "cell_type": "code",
   "execution_count": 25,
   "id": "020b903a",
   "metadata": {},
   "outputs": [
    {
     "name": "stderr",
     "output_type": "stream",
     "text": [
      "\r",
      "  0%|                                                                                           | 0/33 [00:00<?, ?it/s]"
     ]
    },
    {
     "name": "stdout",
     "output_type": "stream",
     "text": [
      "32 resultados coinciden con tus filtros\n"
     ]
    },
    {
     "name": "stderr",
     "output_type": "stream",
     "text": [
      "\r",
      "  3%|██▌                                                                                | 1/33 [00:17<09:12, 17.27s/it]"
     ]
    },
    {
     "name": "stdout",
     "output_type": "stream",
     "text": [
      "116 resultados coinciden con tus filtros\n"
     ]
    },
    {
     "name": "stderr",
     "output_type": "stream",
     "text": [
      "\r",
      "  6%|█████                                                                              | 2/33 [00:34<08:58, 17.37s/it]"
     ]
    },
    {
     "name": "stdout",
     "output_type": "stream",
     "text": [
      "78 resultados coinciden con tus filtros\n"
     ]
    },
    {
     "name": "stderr",
     "output_type": "stream",
     "text": [
      "\r",
      "  9%|███████▌                                                                           | 3/33 [00:51<08:31, 17.04s/it]"
     ]
    },
    {
     "name": "stdout",
     "output_type": "stream",
     "text": [
      "74 resultados coinciden con tus filtros\n"
     ]
    },
    {
     "name": "stderr",
     "output_type": "stream",
     "text": [
      "\r",
      " 12%|██████████                                                                         | 4/33 [01:08<08:14, 17.04s/it]"
     ]
    },
    {
     "name": "stdout",
     "output_type": "stream",
     "text": [
      "98 resultados coinciden con tus filtros\n"
     ]
    },
    {
     "name": "stderr",
     "output_type": "stream",
     "text": [
      "\r",
      " 15%|████████████▌                                                                      | 5/33 [01:26<08:06, 17.36s/it]"
     ]
    },
    {
     "name": "stdout",
     "output_type": "stream",
     "text": [
      "20 resultados coinciden con tus filtros\n"
     ]
    },
    {
     "name": "stderr",
     "output_type": "stream",
     "text": [
      "\r",
      " 18%|███████████████                                                                    | 6/33 [01:44<07:56, 17.63s/it]"
     ]
    },
    {
     "name": "stdout",
     "output_type": "stream",
     "text": [
      "45 resultados coinciden con tus filtros\n"
     ]
    },
    {
     "name": "stderr",
     "output_type": "stream",
     "text": [
      "\r",
      " 21%|█████████████████▌                                                                 | 7/33 [02:01<07:37, 17.59s/it]"
     ]
    },
    {
     "name": "stdout",
     "output_type": "stream",
     "text": [
      "509 resultados coinciden con tus filtros\n"
     ]
    },
    {
     "name": "stderr",
     "output_type": "stream",
     "text": [
      "\r",
      " 24%|████████████████████                                                               | 8/33 [02:20<07:29, 17.99s/it]"
     ]
    },
    {
     "name": "stdout",
     "output_type": "stream",
     "text": [
      "97 resultados coinciden con tus filtros\n"
     ]
    },
    {
     "name": "stderr",
     "output_type": "stream",
     "text": [
      "\r",
      " 27%|██████████████████████▋                                                            | 9/33 [02:38<07:12, 18.01s/it]"
     ]
    },
    {
     "name": "stdout",
     "output_type": "stream",
     "text": [
      "124 resultados coinciden con tus filtros\n"
     ]
    },
    {
     "name": "stderr",
     "output_type": "stream",
     "text": [
      "\r",
      " 30%|████████████████████████▊                                                         | 10/33 [02:56<06:48, 17.77s/it]"
     ]
    },
    {
     "name": "stdout",
     "output_type": "stream",
     "text": [
      "300 resultados coinciden con tus filtros\n"
     ]
    },
    {
     "name": "stderr",
     "output_type": "stream",
     "text": [
      "\r",
      " 33%|███████████████████████████▎                                                      | 11/33 [03:13<06:30, 17.77s/it]"
     ]
    },
    {
     "name": "stdout",
     "output_type": "stream",
     "text": [
      "60 resultados coinciden con tus filtros\n"
     ]
    },
    {
     "name": "stderr",
     "output_type": "stream",
     "text": [
      "\r",
      " 36%|█████████████████████████████▊                                                    | 12/33 [03:31<06:09, 17.59s/it]"
     ]
    },
    {
     "name": "stdout",
     "output_type": "stream",
     "text": [
      "38 resultados coinciden con tus filtros\n"
     ]
    },
    {
     "name": "stderr",
     "output_type": "stream",
     "text": [
      "\r",
      " 39%|████████████████████████████████▎                                                 | 13/33 [03:48<05:49, 17.49s/it]"
     ]
    },
    {
     "name": "stdout",
     "output_type": "stream",
     "text": [
      "19 resultados coinciden con tus filtros\n"
     ]
    },
    {
     "name": "stderr",
     "output_type": "stream",
     "text": [
      "\r",
      " 42%|██████████████████████████████████▊                                               | 14/33 [04:05<05:33, 17.54s/it]"
     ]
    },
    {
     "name": "stdout",
     "output_type": "stream",
     "text": [
      "205 resultados coinciden con tus filtros\n"
     ]
    },
    {
     "name": "stderr",
     "output_type": "stream",
     "text": [
      "\r",
      " 45%|█████████████████████████████████████▎                                            | 15/33 [04:23<05:17, 17.64s/it]"
     ]
    },
    {
     "name": "stdout",
     "output_type": "stream",
     "text": [
      "117 resultados coinciden con tus filtros\n"
     ]
    },
    {
     "name": "stderr",
     "output_type": "stream",
     "text": [
      "\r",
      " 48%|███████████████████████████████████████▊                                          | 16/33 [04:41<05:01, 17.71s/it]"
     ]
    },
    {
     "name": "stdout",
     "output_type": "stream",
     "text": [
      "242 resultados coinciden con tus filtros\n"
     ]
    },
    {
     "name": "stderr",
     "output_type": "stream",
     "text": [
      "\r",
      " 52%|██████████████████████████████████████████▏                                       | 17/33 [04:59<04:42, 17.63s/it]"
     ]
    },
    {
     "name": "stdout",
     "output_type": "stream",
     "text": [
      "2 resultados coinciden con tus filtros\n"
     ]
    },
    {
     "name": "stderr",
     "output_type": "stream",
     "text": [
      "\r",
      " 55%|████████████████████████████████████████████▋                                     | 18/33 [05:16<04:23, 17.57s/it]"
     ]
    },
    {
     "name": "stdout",
     "output_type": "stream",
     "text": [
      "2 resultados coinciden con tus filtros\n"
     ]
    },
    {
     "name": "stderr",
     "output_type": "stream",
     "text": [
      "\r",
      " 58%|███████████████████████████████████████████████▏                                  | 19/33 [05:34<04:06, 17.61s/it]"
     ]
    },
    {
     "name": "stdout",
     "output_type": "stream",
     "text": [
      "13 resultados coinciden con tus filtros\n"
     ]
    },
    {
     "name": "stderr",
     "output_type": "stream",
     "text": [
      "\r",
      " 61%|█████████████████████████████████████████████████▋                                | 20/33 [05:52<03:50, 17.76s/it]"
     ]
    },
    {
     "name": "stdout",
     "output_type": "stream",
     "text": [
      "24 resultados coinciden con tus filtros\n"
     ]
    },
    {
     "name": "stderr",
     "output_type": "stream",
     "text": [
      "\r",
      " 64%|████████████████████████████████████████████████████▏                             | 21/33 [06:10<03:32, 17.71s/it]"
     ]
    },
    {
     "name": "stdout",
     "output_type": "stream",
     "text": [
      "51 resultados coinciden con tus filtros\n"
     ]
    },
    {
     "name": "stderr",
     "output_type": "stream",
     "text": [
      "\r",
      " 67%|██████████████████████████████████████████████████████▋                           | 22/33 [06:27<03:12, 17.53s/it]"
     ]
    },
    {
     "name": "stdout",
     "output_type": "stream",
     "text": [
      "47 resultados coinciden con tus filtros\n"
     ]
    },
    {
     "name": "stderr",
     "output_type": "stream",
     "text": [
      "\r",
      " 70%|█████████████████████████████████████████████████████████▏                        | 23/33 [06:44<02:55, 17.57s/it]"
     ]
    },
    {
     "name": "stdout",
     "output_type": "stream",
     "text": [
      "67 resultados coinciden con tus filtros\n"
     ]
    },
    {
     "name": "stderr",
     "output_type": "stream",
     "text": [
      "\r",
      " 73%|███████████████████████████████████████████████████████████▋                      | 24/33 [07:02<02:39, 17.75s/it]"
     ]
    },
    {
     "name": "stdout",
     "output_type": "stream",
     "text": [
      "3 resultados coinciden con tus filtros\n"
     ]
    },
    {
     "name": "stderr",
     "output_type": "stream",
     "text": [
      "\r",
      " 76%|██████████████████████████████████████████████████████████████                    | 25/33 [07:20<02:22, 17.81s/it]"
     ]
    },
    {
     "name": "stdout",
     "output_type": "stream",
     "text": [
      "41 resultados coinciden con tus filtros\n"
     ]
    },
    {
     "name": "stderr",
     "output_type": "stream",
     "text": [
      "\r",
      " 79%|████████████████████████████████████████████████████████████████▌                 | 26/33 [07:37<02:02, 17.53s/it]"
     ]
    },
    {
     "name": "stdout",
     "output_type": "stream",
     "text": [
      "1 resultado coincide con tus filtros\n"
     ]
    },
    {
     "name": "stderr",
     "output_type": "stream",
     "text": [
      "\r",
      " 82%|███████████████████████████████████████████████████████████████████               | 27/33 [07:55<01:44, 17.50s/it]"
     ]
    },
    {
     "name": "stdout",
     "output_type": "stream",
     "text": [
      "49 resultados coinciden con tus filtros\n"
     ]
    },
    {
     "name": "stderr",
     "output_type": "stream",
     "text": [
      "\r",
      " 85%|█████████████████████████████████████████████████████████████████████▌            | 28/33 [08:12<01:26, 17.38s/it]"
     ]
    },
    {
     "name": "stdout",
     "output_type": "stream",
     "text": [
      "30 resultados coinciden con tus filtros\n"
     ]
    },
    {
     "name": "stderr",
     "output_type": "stream",
     "text": [
      "\r",
      " 88%|████████████████████████████████████████████████████████████████████████          | 29/33 [08:29<01:09, 17.35s/it]"
     ]
    },
    {
     "name": "stdout",
     "output_type": "stream",
     "text": [
      "88 resultados coinciden con tus filtros\n"
     ]
    },
    {
     "name": "stderr",
     "output_type": "stream",
     "text": [
      "\r",
      " 91%|██████████████████████████████████████████████████████████████████████████▌       | 30/33 [08:48<00:53, 17.84s/it]"
     ]
    },
    {
     "name": "stdout",
     "output_type": "stream",
     "text": [
      "199 resultados coinciden con tus filtros\n"
     ]
    },
    {
     "name": "stderr",
     "output_type": "stream",
     "text": [
      "\r",
      " 94%|█████████████████████████████████████████████████████████████████████████████     | 31/33 [09:06<00:35, 17.86s/it]"
     ]
    },
    {
     "name": "stdout",
     "output_type": "stream",
     "text": [
      "1 resultado coincide con tus filtros\n"
     ]
    },
    {
     "name": "stderr",
     "output_type": "stream",
     "text": [
      "\r",
      " 97%|███████████████████████████████████████████████████████████████████████████████▌  | 32/33 [09:24<00:17, 17.89s/it]"
     ]
    },
    {
     "name": "stdout",
     "output_type": "stream",
     "text": [
      "82 resultados coinciden con tus filtros\n"
     ]
    },
    {
     "name": "stderr",
     "output_type": "stream",
     "text": [
      "100%|██████████████████████████████████████████████████████████████████████████████████| 33/33 [09:42<00:00, 17.64s/it]\n"
     ]
    }
   ],
   "source": [
    "americ= []\n",
    "alemana= ['Viena', 'Paris', 'Roma', 'Lisboa', 'Estocolmo', 'Berlin', 'Bruselas', 'Budapest', 'Bucarest']\n",
    "medicin = ['Copenhague', 'Sarajevo', 'Reykjavik']\n",
    "ciu = ['Dublin', 'Amsterdam', 'Praga', 'Varsovia', 'Belgrado']\n",
    "for e in tqdm(ciud):\n",
    "    driver=webdriver.Chrome(PATH)\n",
    "    driver.get(url)\n",
    "    time.sleep(2)\n",
    "    driver.find_element(By.XPATH, '//*[@id=\"onetrust-accept-btn-handler\"]').click()\n",
    "    buscar= driver.find_element(By.XPATH, '//*[@id=\"lithium-root\"]/main/div[3]/div/div/div/form/input[1]')\n",
    "    buscar.click()\n",
    "    buscar.send_keys(e)\n",
    "    time.sleep(1)\n",
    "    buscar.send_keys(Keys.DOWN, Keys.DOWN, Keys.DOWN, Keys.RETURN)\n",
    "    time.sleep(1)\n",
    "    driver.execute_script('window.scrollTo(0, 1400);')\n",
    "    time.sleep(1)\n",
    "    if e in alemana:\n",
    "        driver.find_element(By.XPATH, '//*[@id=\"component_48\"]/div/div[7]/div[2]/div[5]').click()\n",
    "        driver.find_element(By.XPATH, '//*[@id=\"BODY_BLOCK_JQUERY_REFLOW\"]/div[12]/div/div[1]/div[2]/div[1]/div/div[1]/div[6]/div/label').click()\n",
    "        driver.find_element(By.XPATH, '//*[@id=\"BODY_BLOCK_JQUERY_REFLOW\"]/div[12]/div/div[1]/div[3]/button').click()\n",
    "\n",
    "    elif e in medicin:\n",
    "        driver.find_element(By.XPATH, '//*[@id=\"component_48\"]/div/div[6]/div[2]/div[5]').click()\n",
    "        driver.find_element(By.XPATH, '//*[@id=\"BODY_BLOCK_JQUERY_REFLOW\"]/div[12]/div/div[1]/div[2]/div[1]/div/div[1]/div[5]/div/label').click()\n",
    "        driver.find_element(By.XPATH, '//*[@id=\"BODY_BLOCK_JQUERY_REFLOW\"]/div[12]/div/div[1]/div[3]/button').click()\n",
    "\n",
    "    elif e in ciu:\n",
    "        driver.find_element(By.XPATH, '//*[@id=\"component_48\"]/div/div[7]/div[2]/div[5]/span[1]').click()\n",
    "        driver.find_element(By.XPATH, '//*[@id=\"BODY_BLOCK_JQUERY_REFLOW\"]/div[12]/div/div[1]/div[2]/div[1]/div/div[1]/div[5]/div/label').click()\n",
    "        driver.find_element(By.XPATH, '//*[@id=\"BODY_BLOCK_JQUERY_REFLOW\"]/div[12]/div/div[1]/div[3]/button').click()\n",
    "    \n",
    "    elif e == 'Sofia' or e == 'Helsinki' or e == 'Zagreb':\n",
    "        driver.find_element(By.XPATH, '//*[@id=\"component_48\"]/div/div[7]/div[2]/div[5]').click()\n",
    "        driver.find_element(By.XPATH, '//*[@id=\"BODY_BLOCK_JQUERY_REFLOW\"]/div[12]/div/div[1]/div[2]/div[1]/div/div[1]/div[4]/div/label').click()\n",
    "        driver.find_element(By.XPATH, '//*[@id=\"BODY_BLOCK_JQUERY_REFLOW\"]/div[12]/div/div[1]/div[3]/button').click()\n",
    "\n",
    "    elif e == 'Atenas':\n",
    "        driver.find_element(By.XPATH, '//*[@id=\"component_48\"]/div/div[8]/div[2]/div[5]').click()\n",
    "        driver.find_element(By.XPATH, '//*[@id=\"BODY_BLOCK_JQUERY_REFLOW\"]/div[12]/div/div[1]/div[2]/div[1]/div/div[1]/div[5]/div/label').click()\n",
    "        driver.find_element(By.XPATH, '//*[@id=\"BODY_BLOCK_JQUERY_REFLOW\"]/div[12]/div/div[1]/div[3]/button').click()\n",
    "\n",
    "    elif e == 'Minsk':\n",
    "        driver.find_element(By.XPATH, '//*[@id=\"component_48\"]/div/div[6]/div[2]/div[5]').click()\n",
    "        driver.find_element(By.XPATH, '//*[@id=\"BODY_BLOCK_JQUERY_REFLOW\"]/div[12]/div/div[1]/div[2]/div[1]/div/div[1]/div[2]/div/label').click()\n",
    "        driver.find_element(By.XPATH, '//*[@id=\"BODY_BLOCK_JQUERY_REFLOW\"]/div[12]/div/div[1]/div[3]/button').click()\n",
    "\n",
    "    elif e == 'Luxemburgo':\n",
    "        driver.find_element(By.XPATH, '//*[@id=\"component_47\"]/div/div[5]/div[2]/div[5]').click()\n",
    "        driver.find_element(By.XPATH, '//*[@id=\"BODY_BLOCK_JQUERY_REFLOW\"]/div[12]/div/div[1]/div[2]/div[1]/div/div[1]/div[4]/div/label').click()\n",
    "        driver.find_element(By.XPATH, '//*[@id=\"BODY_BLOCK_JQUERY_REFLOW\"]/div[12]/div/div[1]/div[3]/button').click()\n",
    "\n",
    "    elif e == 'Skopje' or e == 'Bratislava':\n",
    "        driver.find_element(By.XPATH, '//*[@id=\"component_48\"]/div/div[6]/div[2]/div[5]').click()\n",
    "        driver.find_element(By.XPATH, '//*[@id=\"BODY_BLOCK_JQUERY_REFLOW\"]/div[12]/div/div[1]/div[2]/div[1]/div/div[1]/div[3]/div/label').click()\n",
    "        driver.find_element(By.XPATH, '//*[@id=\"BODY_BLOCK_JQUERY_REFLOW\"]/div[12]/div/div[1]/div[3]/button').click()\n",
    "\n",
    "    else:\n",
    "        driver.find_element(By.XPATH, '//*[@id=\"component_48\"]/div/div[6]/div[2]/div[5]').click()\n",
    "        driver.find_element(By.XPATH, '//*[@id=\"BODY_BLOCK_JQUERY_REFLOW\"]/div[12]/div/div[1]/div[2]/div[1]/div/div[1]/div[4]/div/label').click()\n",
    "        driver.find_element(By.XPATH, '//*[@id=\"BODY_BLOCK_JQUERY_REFLOW\"]/div[12]/div/div[1]/div[3]/button').click()\n",
    "\n",
    "    driver.execute_script('window.scrollTo(700, 0);')\n",
    "    time.sleep(1)\n",
    "    americ.append(driver.find_element(By.CLASS_NAME, 'SgeRJ').text)\n",
    "    print(driver.find_element(By.CLASS_NAME, 'SgeRJ').text)\n",
    "    driver.quit()\n"
   ]
  },
  {
   "cell_type": "code",
   "execution_count": 32,
   "id": "7cd357be",
   "metadata": {},
   "outputs": [],
   "source": [
    "data = pd.read_excel('restaurantes.xlsx')"
   ]
  },
  {
   "cell_type": "code",
   "execution_count": 34,
   "id": "44ae5731",
   "metadata": {},
   "outputs": [],
   "source": [
    "data['americana']= americ\n",
    "lis = []\n",
    "for e in data.americana:\n",
    "    e = e.split(' ')\n",
    "    lis.append(int(e[0]))\n",
    "data['americana']= lis"
   ]
  },
  {
   "cell_type": "code",
   "execution_count": 176,
   "id": "64715b05",
   "metadata": {},
   "outputs": [],
   "source": [
    "data.to_excel('restaurantes.xlsx', index= False)"
   ]
  },
  {
   "cell_type": "code",
   "execution_count": 111,
   "id": "c913f06e",
   "metadata": {},
   "outputs": [],
   "source": [
    "ciud= ['Tirana', 'Viena', 'Minsk', 'Sofia', 'Copenhague', 'Ljubljana', 'Tallin', 'Paris',\n",
    "       'Atenas', 'Dublin', 'Roma', 'Vilna', 'Skopje', 'Chisinau', 'Amsterdam',\n",
    "       'Lisboa', 'Praga', 'Estocolmo', 'Berlin', 'Bruselas', 'Sarajevo',\n",
    "       'Zagreb', 'Bratislava', 'Helsinki', 'Budapest', 'Reykjavik', 'Riga',\n",
    "       'Luxemburgo', 'La valeta', 'Oslo', 'Varsovia', 'Bucarest', 'Belgrado']"
   ]
  },
  {
   "cell_type": "code",
   "execution_count": 112,
   "id": "72a98e42",
   "metadata": {},
   "outputs": [
    {
     "name": "stderr",
     "output_type": "stream",
     "text": [
      "\r",
      "  0%|                                                                                           | 0/33 [00:00<?, ?it/s]"
     ]
    },
    {
     "name": "stdout",
     "output_type": "stream",
     "text": [
      "27 resultados coinciden con tus filtros\n"
     ]
    },
    {
     "name": "stderr",
     "output_type": "stream",
     "text": [
      "\r",
      "  3%|██▌                                                                                | 1/33 [00:18<09:41, 18.18s/it]"
     ]
    },
    {
     "name": "stdout",
     "output_type": "stream",
     "text": [
      "472 resultados coinciden con tus filtros\n"
     ]
    },
    {
     "name": "stderr",
     "output_type": "stream",
     "text": [
      "\r",
      "  6%|█████                                                                              | 2/33 [00:35<09:13, 17.87s/it]"
     ]
    },
    {
     "name": "stdout",
     "output_type": "stream",
     "text": [
      "65 resultados coinciden con tus filtros\n"
     ]
    },
    {
     "name": "stderr",
     "output_type": "stream",
     "text": [
      "\r",
      "  9%|███████▌                                                                           | 3/33 [00:52<08:45, 17.52s/it]"
     ]
    },
    {
     "name": "stdout",
     "output_type": "stream",
     "text": [
      "57 resultados coinciden con tus filtros\n"
     ]
    },
    {
     "name": "stderr",
     "output_type": "stream",
     "text": [
      "\r",
      " 12%|██████████                                                                         | 4/33 [01:10<08:26, 17.48s/it]"
     ]
    },
    {
     "name": "stdout",
     "output_type": "stream",
     "text": [
      "239 resultados coinciden con tus filtros\n"
     ]
    },
    {
     "name": "stderr",
     "output_type": "stream",
     "text": [
      "\r",
      " 15%|████████████▌                                                                      | 5/33 [01:27<08:08, 17.46s/it]"
     ]
    },
    {
     "name": "stdout",
     "output_type": "stream",
     "text": [
      "44 resultados coinciden con tus filtros\n"
     ]
    },
    {
     "name": "stderr",
     "output_type": "stream",
     "text": [
      "\r",
      " 18%|███████████████                                                                    | 6/33 [01:44<07:46, 17.29s/it]"
     ]
    },
    {
     "name": "stdout",
     "output_type": "stream",
     "text": [
      "105 resultados coinciden con tus filtros\n"
     ]
    },
    {
     "name": "stderr",
     "output_type": "stream",
     "text": [
      "\r",
      " 21%|█████████████████▌                                                                 | 7/33 [02:01<07:28, 17.24s/it]"
     ]
    },
    {
     "name": "stdout",
     "output_type": "stream",
     "text": [
      "2275 resultados coinciden con tus filtros\n"
     ]
    },
    {
     "name": "stderr",
     "output_type": "stream",
     "text": [
      "\r",
      " 24%|████████████████████                                                               | 8/33 [02:19<07:17, 17.49s/it]"
     ]
    },
    {
     "name": "stdout",
     "output_type": "stream",
     "text": [
      "120 resultados coinciden con tus filtros\n"
     ]
    },
    {
     "name": "stderr",
     "output_type": "stream",
     "text": [
      "\r",
      " 27%|██████████████████████▋                                                            | 9/33 [02:37<07:04, 17.67s/it]"
     ]
    },
    {
     "name": "stdout",
     "output_type": "stream",
     "text": [
      "257 resultados coinciden con tus filtros\n"
     ]
    },
    {
     "name": "stderr",
     "output_type": "stream",
     "text": [
      "\r",
      " 30%|████████████████████████▊                                                         | 10/33 [02:56<06:50, 17.84s/it]"
     ]
    },
    {
     "name": "stdout",
     "output_type": "stream",
     "text": [
      "551 resultados coinciden con tus filtros\n"
     ]
    },
    {
     "name": "stderr",
     "output_type": "stream",
     "text": [
      "\r",
      " 33%|███████████████████████████▎                                                      | 11/33 [03:14<06:35, 17.96s/it]"
     ]
    },
    {
     "name": "stdout",
     "output_type": "stream",
     "text": [
      "78 resultados coinciden con tus filtros\n"
     ]
    },
    {
     "name": "stderr",
     "output_type": "stream",
     "text": [
      "\r",
      " 36%|█████████████████████████████▊                                                    | 12/33 [03:31<06:13, 17.80s/it]"
     ]
    },
    {
     "name": "stdout",
     "output_type": "stream",
     "text": [
      "7 resultados coinciden con tus filtros\n"
     ]
    },
    {
     "name": "stderr",
     "output_type": "stream",
     "text": [
      "\r",
      " 39%|████████████████████████████████▎                                                 | 13/33 [03:49<05:56, 17.82s/it]"
     ]
    },
    {
     "name": "stdout",
     "output_type": "stream",
     "text": [
      "14 resultados coinciden con tus filtros\n"
     ]
    },
    {
     "name": "stderr",
     "output_type": "stream",
     "text": [
      "\r",
      " 42%|██████████████████████████████████▊                                               | 14/33 [04:07<05:37, 17.77s/it]"
     ]
    },
    {
     "name": "stdout",
     "output_type": "stream",
     "text": [
      "480 resultados coinciden con tus filtros\n"
     ]
    },
    {
     "name": "stderr",
     "output_type": "stream",
     "text": [
      "\r",
      " 45%|█████████████████████████████████████▎                                            | 15/33 [04:25<05:22, 17.94s/it]"
     ]
    },
    {
     "name": "stdout",
     "output_type": "stream",
     "text": [
      "341 resultados coinciden con tus filtros\n"
     ]
    },
    {
     "name": "stderr",
     "output_type": "stream",
     "text": [
      "\r",
      " 48%|███████████████████████████████████████▊                                          | 16/33 [04:43<05:04, 17.91s/it]"
     ]
    },
    {
     "name": "stdout",
     "output_type": "stream",
     "text": [
      "430 resultados coinciden con tus filtros\n"
     ]
    },
    {
     "name": "stderr",
     "output_type": "stream",
     "text": [
      "\r",
      " 52%|██████████████████████████████████████████▏                                       | 17/33 [05:01<04:45, 17.87s/it]"
     ]
    },
    {
     "name": "stdout",
     "output_type": "stream",
     "text": [
      "311 resultados coinciden con tus filtros\n"
     ]
    },
    {
     "name": "stderr",
     "output_type": "stream",
     "text": [
      "\r",
      " 55%|████████████████████████████████████████████▋                                     | 18/33 [05:18<04:26, 17.74s/it]"
     ]
    },
    {
     "name": "stdout",
     "output_type": "stream",
     "text": [
      "871 resultados coinciden con tus filtros\n"
     ]
    },
    {
     "name": "stderr",
     "output_type": "stream",
     "text": [
      "\r",
      " 58%|███████████████████████████████████████████████▏                                  | 19/33 [05:36<04:07, 17.67s/it]"
     ]
    },
    {
     "name": "stdout",
     "output_type": "stream",
     "text": [
      "356 resultados coinciden con tus filtros\n"
     ]
    },
    {
     "name": "stderr",
     "output_type": "stream",
     "text": [
      "\r",
      " 61%|█████████████████████████████████████████████████▋                                | 20/33 [05:53<03:49, 17.68s/it]"
     ]
    },
    {
     "name": "stdout",
     "output_type": "stream",
     "text": [
      "16 resultados coinciden con tus filtros\n"
     ]
    },
    {
     "name": "stderr",
     "output_type": "stream",
     "text": [
      "\r",
      " 64%|████████████████████████████████████████████████████▏                             | 21/33 [06:11<03:31, 17.65s/it]"
     ]
    },
    {
     "name": "stdout",
     "output_type": "stream",
     "text": [
      "51 resultados coinciden con tus filtros\n"
     ]
    },
    {
     "name": "stderr",
     "output_type": "stream",
     "text": [
      "\r",
      " 67%|██████████████████████████████████████████████████████▋                           | 22/33 [06:28<03:12, 17.52s/it]"
     ]
    },
    {
     "name": "stdout",
     "output_type": "stream",
     "text": [
      "67 resultados coinciden con tus filtros\n"
     ]
    },
    {
     "name": "stderr",
     "output_type": "stream",
     "text": [
      "\r",
      " 70%|█████████████████████████████████████████████████████████▏                        | 23/33 [06:45<02:54, 17.42s/it]"
     ]
    },
    {
     "name": "stdout",
     "output_type": "stream",
     "text": [
      "233 resultados coinciden con tus filtros\n"
     ]
    },
    {
     "name": "stderr",
     "output_type": "stream",
     "text": [
      "\r",
      " 73%|███████████████████████████████████████████████████████████▋                      | 24/33 [07:03<02:38, 17.59s/it]"
     ]
    },
    {
     "name": "stdout",
     "output_type": "stream",
     "text": [
      "211 resultados coinciden con tus filtros\n"
     ]
    },
    {
     "name": "stderr",
     "output_type": "stream",
     "text": [
      "\r",
      " 76%|██████████████████████████████████████████████████████████████                    | 25/33 [07:21<02:21, 17.63s/it]"
     ]
    },
    {
     "name": "stdout",
     "output_type": "stream",
     "text": [
      "43 resultados coinciden con tus filtros\n"
     ]
    },
    {
     "name": "stderr",
     "output_type": "stream",
     "text": [
      "\r",
      " 79%|████████████████████████████████████████████████████████████████▌                 | 26/33 [07:39<02:03, 17.71s/it]"
     ]
    },
    {
     "name": "stdout",
     "output_type": "stream",
     "text": [
      "90 resultados coinciden con tus filtros\n"
     ]
    },
    {
     "name": "stderr",
     "output_type": "stream",
     "text": [
      "\r",
      " 82%|███████████████████████████████████████████████████████████████████               | 27/33 [07:57<01:46, 17.73s/it]"
     ]
    },
    {
     "name": "stdout",
     "output_type": "stream",
     "text": [
      "263 resultados coinciden con tus filtros\n"
     ]
    },
    {
     "name": "stderr",
     "output_type": "stream",
     "text": [
      "\r",
      " 85%|█████████████████████████████████████████████████████████████████████▌            | 28/33 [08:14<01:28, 17.65s/it]"
     ]
    },
    {
     "name": "stdout",
     "output_type": "stream",
     "text": [
      "95 resultados coinciden con tus filtros\n"
     ]
    },
    {
     "name": "stderr",
     "output_type": "stream",
     "text": [
      "\r",
      " 88%|████████████████████████████████████████████████████████████████████████          | 29/33 [08:32<01:10, 17.64s/it]"
     ]
    },
    {
     "name": "stdout",
     "output_type": "stream",
     "text": [
      "188 resultados coinciden con tus filtros\n"
     ]
    },
    {
     "name": "stderr",
     "output_type": "stream",
     "text": [
      "\r",
      " 91%|██████████████████████████████████████████████████████████████████████████▌       | 30/33 [08:49<00:52, 17.57s/it]"
     ]
    },
    {
     "name": "stdout",
     "output_type": "stream",
     "text": [
      "313 resultados coinciden con tus filtros\n"
     ]
    },
    {
     "name": "stderr",
     "output_type": "stream",
     "text": [
      "\r",
      " 94%|█████████████████████████████████████████████████████████████████████████████     | 31/33 [09:07<00:34, 17.46s/it]"
     ]
    },
    {
     "name": "stdout",
     "output_type": "stream",
     "text": [
      "116 resultados coinciden con tus filtros\n"
     ]
    },
    {
     "name": "stderr",
     "output_type": "stream",
     "text": [
      "\r",
      " 97%|███████████████████████████████████████████████████████████████████████████████▌  | 32/33 [09:24<00:17, 17.49s/it]"
     ]
    },
    {
     "name": "stdout",
     "output_type": "stream",
     "text": [
      "4 resultados coinciden con tus filtros\n"
     ]
    },
    {
     "name": "stderr",
     "output_type": "stream",
     "text": [
      "100%|██████████████████████████████████████████████████████████████████████████████████| 33/33 [09:42<00:00, 17.64s/it]\n"
     ]
    }
   ],
   "source": [
    "asia= []\n",
    "alemana= ['Sofia', 'Helsinki']\n",
    "medicin = ['Copenhague', 'Vilna']\n",
    "ciu = ['Dublin', 'Amsterdam', 'Belgrado']\n",
    "for e in tqdm(ciud):\n",
    "    driver=webdriver.Chrome(PATH)\n",
    "    driver.get(url)\n",
    "    time.sleep(2)\n",
    "    driver.find_element(By.XPATH, '//*[@id=\"onetrust-accept-btn-handler\"]').click()\n",
    "    buscar= driver.find_element(By.XPATH, '//*[@id=\"lithium-root\"]/main/div[3]/div/div/div/form/input[1]')\n",
    "    buscar.click()\n",
    "    buscar.send_keys(e)\n",
    "    time.sleep(1)\n",
    "    buscar.send_keys(Keys.DOWN, Keys.DOWN, Keys.DOWN, Keys.RETURN)\n",
    "    time.sleep(1)\n",
    "    driver.execute_script('window.scrollTo(0, 1400);')\n",
    "    time.sleep(1)\n",
    "    \n",
    "    if e in alemana:\n",
    "        driver.find_element(By.XPATH, '//*[@id=\"component_48\"]/div/div[7]/div[2]/div[5]').click()\n",
    "        driver.find_element(By.XPATH, '//*[@id=\"BODY_BLOCK_JQUERY_REFLOW\"]/div[12]/div/div[1]/div[2]/div[1]/div/div[1]/div[8]/div/label').click()\n",
    "        driver.find_element(By.XPATH, '//*[@id=\"BODY_BLOCK_JQUERY_REFLOW\"]/div[12]/div/div[1]/div[3]/button').click()\n",
    "\n",
    "    elif e in medicin:\n",
    "        driver.find_element(By.XPATH, '//*[@id=\"component_48\"]/div/div[6]/div[2]/div[5]').click()\n",
    "        driver.find_element(By.XPATH, '//*[@id=\"BODY_BLOCK_JQUERY_REFLOW\"]/div[12]/div/div[1]/div[2]/div[1]/div/div[1]/div[10]/div/label').click()\n",
    "        driver.find_element(By.XPATH, '//*[@id=\"BODY_BLOCK_JQUERY_REFLOW\"]/div[12]/div/div[1]/div[3]/button').click()\n",
    "\n",
    "    elif e in ciu:\n",
    "        driver.find_element(By.XPATH, '//*[@id=\"component_48\"]/div/div[7]/div[2]/div[5]/span[1]').click()\n",
    "        driver.find_element(By.XPATH, '//*[@id=\"BODY_BLOCK_JQUERY_REFLOW\"]/div[12]/div/div[1]/div[2]/div[1]/div/div[1]/div[11]/div/label').click()\n",
    "        driver.find_element(By.XPATH, '//*[@id=\"BODY_BLOCK_JQUERY_REFLOW\"]/div[12]/div/div[1]/div[3]/button').click()\n",
    "\n",
    "    elif e == 'Varsovia':\n",
    "        driver.find_element(By.XPATH, '//*[@id=\"component_48\"]/div/div[7]/div[2]/div[5]/span[1]').click()\n",
    "        driver.find_element(By.XPATH, '//*[@id=\"BODY_BLOCK_JQUERY_REFLOW\"]/div[12]/div/div[1]/div[2]/div[1]/div/div[1]/div[10]/div/label').click()\n",
    "        driver.find_element(By.XPATH, '//*[@id=\"BODY_BLOCK_JQUERY_REFLOW\"]/div[12]/div/div[1]/div[3]/button').click()\n",
    "\n",
    "        \n",
    "    elif e == 'Viena' or e == 'Paris':\n",
    "        driver.find_element(By.XPATH, '//*[@id=\"component_48\"]/div/div[7]/div[2]/div[5]').click()\n",
    "        driver.find_element(By.XPATH, '//*[@id=\"BODY_BLOCK_JQUERY_REFLOW\"]/div[12]/div/div[1]/div[2]/div[1]/div/div[1]/div[13]/div/label').click()\n",
    "        driver.find_element(By.XPATH, '//*[@id=\"BODY_BLOCK_JQUERY_REFLOW\"]/div[12]/div/div[1]/div[3]/button').click()\n",
    "\n",
    "    elif e == 'Atenas':\n",
    "        driver.find_element(By.XPATH, '//*[@id=\"component_48\"]/div/div[8]/div[2]/div[5]').click()\n",
    "        driver.find_element(By.XPATH, '//*[@id=\"BODY_BLOCK_JQUERY_REFLOW\"]/div[12]/div/div[1]/div[2]/div[1]/div/div[1]/div[9]/div/label').click()\n",
    "        driver.find_element(By.XPATH, '//*[@id=\"BODY_BLOCK_JQUERY_REFLOW\"]/div[12]/div/div[1]/div[3]/button').click()\n",
    "\n",
    "    elif e == 'Bratislava' or e == 'Ljubljana' or e == 'Chisinau' or e == 'Reykjavik':\n",
    "        driver.find_element(By.XPATH, '//*[@id=\"component_48\"]/div/div[6]/div[2]/div[5]').click()\n",
    "        driver.find_element(By.XPATH, '//*[@id=\"BODY_BLOCK_JQUERY_REFLOW\"]/div[12]/div/div[1]/div[2]/div[1]/div/div[1]/div[7]/div/label').click()\n",
    "        driver.find_element(By.XPATH, '//*[@id=\"BODY_BLOCK_JQUERY_REFLOW\"]/div[12]/div/div[1]/div[3]/button').click()\n",
    "\n",
    "    elif e == 'Luxemburgo':\n",
    "        driver.find_element(By.XPATH, '//*[@id=\"component_47\"]/div/div[5]/div[2]/div[5]').click()\n",
    "        driver.find_element(By.XPATH, '//*[@id=\"BODY_BLOCK_JQUERY_REFLOW\"]/div[12]/div/div[1]/div[2]/div[1]/div/div[1]/div[8]/div/label').click()\n",
    "        driver.find_element(By.XPATH, '//*[@id=\"BODY_BLOCK_JQUERY_REFLOW\"]/div[12]/div/div[1]/div[3]/button').click()\n",
    "\n",
    "    elif e == 'Zagreb':\n",
    "        driver.find_element(By.XPATH, '//*[@id=\"component_48\"]/div/div[7]/div[2]/div[5]').click()\n",
    "        driver.find_element(By.XPATH, '//*[@id=\"BODY_BLOCK_JQUERY_REFLOW\"]/div[12]/div/div[1]/div[2]/div[1]/div/div[1]/div[6]/div/label').click()\n",
    "        driver.find_element(By.XPATH, '//*[@id=\"BODY_BLOCK_JQUERY_REFLOW\"]/div[12]/div/div[1]/div[3]/button').click()\n",
    "   \n",
    "    elif e == 'Skopje' or e == 'Minsk' or e == 'Oslo':\n",
    "        driver.find_element(By.XPATH, '//*[@id=\"component_48\"]/div/div[6]/div[2]/div[5]').click()\n",
    "        driver.find_element(By.XPATH, '//*[@id=\"BODY_BLOCK_JQUERY_REFLOW\"]/div[12]/div/div[1]/div[2]/div[1]/div/div[1]/div[6]/div/label').click()\n",
    "        driver.find_element(By.XPATH, '//*[@id=\"BODY_BLOCK_JQUERY_REFLOW\"]/div[12]/div/div[1]/div[3]/button').click()\n",
    "\n",
    "    elif e == 'Estocolmo' or e == 'Budapest':\n",
    "        driver.find_element(By.XPATH, '//*[@id=\"component_48\"]/div/div[7]/div[2]/div[5]').click()\n",
    "        driver.find_element(By.XPATH, '//*[@id=\"BODY_BLOCK_JQUERY_REFLOW\"]/div[12]/div/div[1]/div[2]/div[1]/div/div[1]/div[12]/div/label').click()\n",
    "        driver.find_element(By.XPATH, '//*[@id=\"BODY_BLOCK_JQUERY_REFLOW\"]/div[12]/div/div[1]/div[3]/button').click()\n",
    "    \n",
    "    elif e == 'Bruselas':\n",
    "        driver.find_element(By.XPATH, '//*[@id=\"component_48\"]/div/div[7]/div[2]/div[5]').click()\n",
    "        driver.find_element(By.XPATH, '//*[@id=\"BODY_BLOCK_JQUERY_REFLOW\"]/div[12]/div/div[1]/div[2]/div[1]/div/div[1]/div[9]/div/label').click()\n",
    "        driver.find_element(By.XPATH, '//*[@id=\"BODY_BLOCK_JQUERY_REFLOW\"]/div[12]/div/div[1]/div[3]/button').click()\n",
    "    \n",
    "    elif e == 'Praga':\n",
    "        driver.find_element(By.XPATH, '//*[@id=\"component_48\"]/div/div[7]/div[2]/div[5]/span[1]').click()\n",
    "        driver.find_element(By.XPATH, '//*[@id=\"BODY_BLOCK_JQUERY_REFLOW\"]/div[12]/div/div[1]/div[2]/div[1]/div/div[1]/div[9]/div/label').click()\n",
    "        driver.find_element(By.XPATH, '//*[@id=\"BODY_BLOCK_JQUERY_REFLOW\"]/div[12]/div/div[1]/div[3]/button').click()\n",
    "\n",
    "    elif e == 'Tallin' or e == 'Riga':\n",
    "        driver.find_element(By.XPATH, '//*[@id=\"component_48\"]/div/div[6]/div[2]/div[5]').click()\n",
    "        driver.find_element(By.XPATH, '//*[@id=\"BODY_BLOCK_JQUERY_REFLOW\"]/div[12]/div/div[1]/div[2]/div[1]/div/div[1]/div[9]/div/label').click()\n",
    "        driver.find_element(By.XPATH, '//*[@id=\"BODY_BLOCK_JQUERY_REFLOW\"]/div[12]/div/div[1]/div[3]/button').click()\n",
    "        \n",
    "    elif e == 'Roma' or e == 'Lisboa' or e == 'Berlin':        \n",
    "        driver.find_element(By.XPATH, '//*[@id=\"component_48\"]/div/div[7]/div[2]/div[5]').click()\n",
    "        driver.find_element(By.XPATH, '//*[@id=\"BODY_BLOCK_JQUERY_REFLOW\"]/div[12]/div/div[1]/div[2]/div[1]/div/div[1]/div[11]/div/label').click()\n",
    "        driver.find_element(By.XPATH, '//*[@id=\"BODY_BLOCK_JQUERY_REFLOW\"]/div[12]/div/div[1]/div[3]/button').click()\n",
    "\n",
    "    elif e == 'Bucarest':        \n",
    "        driver.find_element(By.XPATH, '//*[@id=\"component_48\"]/div/div[6]/div[2]/div[5]').click()\n",
    "        driver.find_element(By.XPATH, '//*[@id=\"BODY_BLOCK_JQUERY_REFLOW\"]/div[12]/div/div[1]/div[2]/div[1]/div/div[1]/div[11]/div/label').click()\n",
    "        driver.find_element(By.XPATH, '//*[@id=\"BODY_BLOCK_JQUERY_REFLOW\"]/div[12]/div/div[1]/div[3]/button').click()\n",
    "\n",
    "    else:\n",
    "        driver.find_element(By.XPATH, '//*[@id=\"component_48\"]/div/div[6]/div[2]/div[5]').click()\n",
    "        driver.find_element(By.XPATH, '//*[@id=\"BODY_BLOCK_JQUERY_REFLOW\"]/div[12]/div/div[1]/div[2]/div[1]/div/div[1]/div[8]/div/label').click()\n",
    "        driver.find_element(By.XPATH, '//*[@id=\"BODY_BLOCK_JQUERY_REFLOW\"]/div[12]/div/div[1]/div[3]/button').click()\n",
    "\n",
    "    driver.execute_script('window.scrollTo(700, 0);')\n",
    "    time.sleep(1)\n",
    "    asia.append(driver.find_element(By.CLASS_NAME, 'SgeRJ').text)\n",
    "    print(driver.find_element(By.CLASS_NAME, 'SgeRJ').text)\n",
    "    driver.quit()"
   ]
  },
  {
   "cell_type": "code",
   "execution_count": 113,
   "id": "1aca50c1",
   "metadata": {},
   "outputs": [],
   "source": [
    "data['asiatica']= asia\n",
    "lis = []\n",
    "for e in data.asiatica:\n",
    "    e = e.split(' ')\n",
    "    lis.append(int(e[0]))\n",
    "data['asiatica']= lis"
   ]
  },
  {
   "cell_type": "code",
   "execution_count": 203,
   "id": "231e4713",
   "metadata": {},
   "outputs": [],
   "source": [
    "ciud= ['Tirana', 'Viena', 'Minsk', 'Sofia', 'Copenhague', 'Ljubljana', 'Tallin', 'Paris',\n",
    "       'Atenas', 'Dublin', 'Roma', 'Vilna', 'Skopje', 'Chisinau', 'Amsterdam',\n",
    "       'Lisboa', 'Praga', 'Estocolmo', 'Berlin', 'Bruselas', 'Sarajevo',\n",
    "       'Zagreb', 'Bratislava', 'Helsinki', 'Budapest', 'Reykjavik', 'Riga',\n",
    "       'Luxemburgo', 'La valeta', 'Oslo', 'Varsovia', 'Bucarest', 'Belgrado']"
   ]
  },
  {
   "cell_type": "code",
   "execution_count": 204,
   "id": "a99b6916",
   "metadata": {},
   "outputs": [
    {
     "name": "stderr",
     "output_type": "stream",
     "text": [
      "\r",
      "  0%|                                                                                           | 0/33 [00:00<?, ?it/s]"
     ]
    },
    {
     "name": "stdout",
     "output_type": "stream",
     "text": [
      "316 resultados coinciden con tus filtros\n"
     ]
    },
    {
     "name": "stderr",
     "output_type": "stream",
     "text": [
      "\r",
      "  3%|██▌                                                                                | 1/33 [00:20<10:47, 20.24s/it]"
     ]
    },
    {
     "name": "stdout",
     "output_type": "stream",
     "text": [
      "523 resultados coinciden con tus filtros\n"
     ]
    },
    {
     "name": "stderr",
     "output_type": "stream",
     "text": [
      "\r",
      "  6%|█████                                                                              | 2/33 [00:40<10:26, 20.22s/it]"
     ]
    },
    {
     "name": "stdout",
     "output_type": "stream",
     "text": [
      "124 resultados coinciden con tus filtros\n"
     ]
    },
    {
     "name": "stderr",
     "output_type": "stream",
     "text": [
      "\r",
      "  9%|███████▌                                                                           | 3/33 [01:00<10:05, 20.17s/it]"
     ]
    },
    {
     "name": "stdout",
     "output_type": "stream",
     "text": [
      "288 resultados coinciden con tus filtros\n"
     ]
    },
    {
     "name": "stderr",
     "output_type": "stream",
     "text": [
      "\r",
      " 12%|██████████                                                                         | 4/33 [01:23<10:15, 21.22s/it]"
     ]
    },
    {
     "name": "stdout",
     "output_type": "stream",
     "text": [
      "282 resultados coinciden con tus filtros\n"
     ]
    },
    {
     "name": "stderr",
     "output_type": "stream",
     "text": [
      "\r",
      " 15%|████████████▌                                                                      | 5/33 [01:43<09:44, 20.88s/it]"
     ]
    },
    {
     "name": "stdout",
     "output_type": "stream",
     "text": [
      "93 resultados coinciden con tus filtros\n"
     ]
    },
    {
     "name": "stderr",
     "output_type": "stream",
     "text": [
      "\r",
      " 18%|███████████████                                                                    | 6/33 [02:04<09:22, 20.85s/it]"
     ]
    },
    {
     "name": "stdout",
     "output_type": "stream",
     "text": [
      "112 resultados coinciden con tus filtros\n"
     ]
    },
    {
     "name": "stderr",
     "output_type": "stream",
     "text": [
      "\r",
      " 21%|█████████████████▌                                                                 | 7/33 [02:24<08:56, 20.64s/it]"
     ]
    },
    {
     "name": "stdout",
     "output_type": "stream",
     "text": [
      "1751 resultados coinciden con tus filtros\n"
     ]
    },
    {
     "name": "stderr",
     "output_type": "stream",
     "text": [
      "\r",
      " 24%|████████████████████                                                               | 8/33 [02:45<08:36, 20.67s/it]"
     ]
    },
    {
     "name": "stdout",
     "output_type": "stream",
     "text": [
      "2771 resultados coinciden con tus filtros\n"
     ]
    },
    {
     "name": "stderr",
     "output_type": "stream",
     "text": [
      "\r",
      " 27%|██████████████████████▋                                                            | 9/33 [03:05<08:12, 20.52s/it]"
     ]
    },
    {
     "name": "stdout",
     "output_type": "stream",
     "text": [
      "206 resultados coinciden con tus filtros\n"
     ]
    },
    {
     "name": "stderr",
     "output_type": "stream",
     "text": [
      "\r",
      " 30%|████████████████████████▊                                                         | 10/33 [03:26<07:51, 20.50s/it]"
     ]
    },
    {
     "name": "stdout",
     "output_type": "stream",
     "text": [
      "7836 resultados coinciden con tus filtros\n"
     ]
    },
    {
     "name": "stderr",
     "output_type": "stream",
     "text": [
      "\r",
      " 33%|███████████████████████████▎                                                      | 11/33 [03:47<07:34, 20.64s/it]"
     ]
    },
    {
     "name": "stdout",
     "output_type": "stream",
     "text": [
      "85 resultados coinciden con tus filtros\n"
     ]
    },
    {
     "name": "stderr",
     "output_type": "stream",
     "text": [
      "\r",
      " 36%|█████████████████████████████▊                                                    | 12/33 [04:07<07:10, 20.51s/it]"
     ]
    },
    {
     "name": "stdout",
     "output_type": "stream",
     "text": [
      "53 resultados coinciden con tus filtros\n"
     ]
    },
    {
     "name": "stderr",
     "output_type": "stream",
     "text": [
      "\r",
      " 39%|████████████████████████████████▎                                                 | 13/33 [04:27<06:49, 20.48s/it]"
     ]
    },
    {
     "name": "stdout",
     "output_type": "stream",
     "text": [
      "51 resultados coinciden con tus filtros\n"
     ]
    },
    {
     "name": "stderr",
     "output_type": "stream",
     "text": [
      "\r",
      " 42%|██████████████████████████████████▊                                               | 14/33 [04:47<06:26, 20.33s/it]"
     ]
    },
    {
     "name": "stdout",
     "output_type": "stream",
     "text": [
      "506 resultados coinciden con tus filtros\n"
     ]
    },
    {
     "name": "stderr",
     "output_type": "stream",
     "text": [
      "\r",
      " 45%|█████████████████████████████████████▎                                            | 15/33 [05:08<06:07, 20.40s/it]"
     ]
    },
    {
     "name": "stdout",
     "output_type": "stream",
     "text": [
      "376 resultados coinciden con tus filtros\n"
     ]
    },
    {
     "name": "stderr",
     "output_type": "stream",
     "text": [
      "\r",
      " 48%|███████████████████████████████████████▊                                          | 16/33 [05:28<05:48, 20.51s/it]"
     ]
    },
    {
     "name": "stdout",
     "output_type": "stream",
     "text": [
      "521 resultados coinciden con tus filtros\n"
     ]
    },
    {
     "name": "stderr",
     "output_type": "stream",
     "text": [
      "\r",
      " 52%|██████████████████████████████████████████▏                                       | 17/33 [05:50<05:31, 20.72s/it]"
     ]
    },
    {
     "name": "stdout",
     "output_type": "stream",
     "text": [
      "284 resultados coinciden con tus filtros\n"
     ]
    },
    {
     "name": "stderr",
     "output_type": "stream",
     "text": [
      "\r",
      " 55%|████████████████████████████████████████████▋                                     | 18/33 [06:11<05:13, 20.87s/it]"
     ]
    },
    {
     "name": "stdout",
     "output_type": "stream",
     "text": [
      "1010 resultados coinciden con tus filtros\n"
     ]
    },
    {
     "name": "stderr",
     "output_type": "stream",
     "text": [
      "\r",
      " 58%|███████████████████████████████████████████████▏                                  | 19/33 [06:32<04:52, 20.87s/it]"
     ]
    },
    {
     "name": "stdout",
     "output_type": "stream",
     "text": [
      "590 resultados coinciden con tus filtros\n"
     ]
    },
    {
     "name": "stderr",
     "output_type": "stream",
     "text": [
      "\r",
      " 61%|█████████████████████████████████████████████████▋                                | 20/33 [06:53<04:31, 20.86s/it]"
     ]
    },
    {
     "name": "stdout",
     "output_type": "stream",
     "text": [
      "72 resultados coinciden con tus filtros\n"
     ]
    },
    {
     "name": "stderr",
     "output_type": "stream",
     "text": [
      "\r",
      " 64%|████████████████████████████████████████████████████▏                             | 21/33 [07:13<04:08, 20.72s/it]"
     ]
    },
    {
     "name": "stdout",
     "output_type": "stream",
     "text": [
      "110 resultados coinciden con tus filtros\n"
     ]
    },
    {
     "name": "stderr",
     "output_type": "stream",
     "text": [
      "\r",
      " 67%|██████████████████████████████████████████████████████▋                           | 22/33 [07:35<03:52, 21.14s/it]"
     ]
    },
    {
     "name": "stdout",
     "output_type": "stream",
     "text": [
      "121 resultados coinciden con tus filtros\n"
     ]
    },
    {
     "name": "stderr",
     "output_type": "stream",
     "text": [
      "\r",
      " 70%|█████████████████████████████████████████████████████████▏                        | 23/33 [07:55<03:29, 20.90s/it]"
     ]
    },
    {
     "name": "stdout",
     "output_type": "stream",
     "text": [
      "130 resultados coinciden con tus filtros\n"
     ]
    },
    {
     "name": "stderr",
     "output_type": "stream",
     "text": [
      "\r",
      " 73%|███████████████████████████████████████████████████████████▋                      | 24/33 [08:17<03:09, 21.11s/it]"
     ]
    },
    {
     "name": "stdout",
     "output_type": "stream",
     "text": [
      "377 resultados coinciden con tus filtros\n"
     ]
    },
    {
     "name": "stderr",
     "output_type": "stream",
     "text": [
      "\r",
      " 76%|██████████████████████████████████████████████████████████████                    | 25/33 [08:38<02:48, 21.07s/it]"
     ]
    },
    {
     "name": "stdout",
     "output_type": "stream",
     "text": [
      "31 resultados coinciden con tus filtros\n"
     ]
    },
    {
     "name": "stderr",
     "output_type": "stream",
     "text": [
      "\r",
      " 79%|████████████████████████████████████████████████████████████████▌                 | 26/33 [08:58<02:26, 20.89s/it]"
     ]
    },
    {
     "name": "stdout",
     "output_type": "stream",
     "text": [
      "100 resultados coinciden con tus filtros\n"
     ]
    },
    {
     "name": "stderr",
     "output_type": "stream",
     "text": [
      "\r",
      " 82%|███████████████████████████████████████████████████████████████████               | 27/33 [09:20<02:05, 20.96s/it]"
     ]
    },
    {
     "name": "stdout",
     "output_type": "stream",
     "text": [
      "378 resultados coinciden con tus filtros\n"
     ]
    },
    {
     "name": "stderr",
     "output_type": "stream",
     "text": [
      "\r",
      " 85%|█████████████████████████████████████████████████████████████████████▌            | 28/33 [09:41<01:45, 21.11s/it]"
     ]
    },
    {
     "name": "stdout",
     "output_type": "stream",
     "text": [
      "291 resultados coinciden con tus filtros\n"
     ]
    },
    {
     "name": "stderr",
     "output_type": "stream",
     "text": [
      "\r",
      " 88%|████████████████████████████████████████████████████████████████████████          | 29/33 [10:02<01:23, 20.99s/it]"
     ]
    },
    {
     "name": "stdout",
     "output_type": "stream",
     "text": [
      "144 resultados coinciden con tus filtros\n"
     ]
    },
    {
     "name": "stderr",
     "output_type": "stream",
     "text": [
      "\r",
      " 91%|██████████████████████████████████████████████████████████████████████████▌       | 30/33 [10:23<01:03, 21.14s/it]"
     ]
    },
    {
     "name": "stdout",
     "output_type": "stream",
     "text": [
      "482 resultados coinciden con tus filtros\n"
     ]
    },
    {
     "name": "stderr",
     "output_type": "stream",
     "text": [
      "\r",
      " 94%|█████████████████████████████████████████████████████████████████████████████     | 31/33 [10:44<00:42, 21.02s/it]"
     ]
    },
    {
     "name": "stdout",
     "output_type": "stream",
     "text": [
      "427 resultados coinciden con tus filtros\n"
     ]
    },
    {
     "name": "stderr",
     "output_type": "stream",
     "text": [
      "\r",
      " 97%|███████████████████████████████████████████████████████████████████████████████▌  | 32/33 [11:04<00:20, 20.77s/it]"
     ]
    },
    {
     "name": "stdout",
     "output_type": "stream",
     "text": [
      "301 resultados coinciden con tus filtros\n"
     ]
    },
    {
     "name": "stderr",
     "output_type": "stream",
     "text": [
      "100%|██████████████████████████████████████████████████████████████████████████████████| 33/33 [11:25<00:00, 20.78s/it]\n"
     ]
    }
   ],
   "source": [
    "ita= []\n",
    "for e in tqdm(ciud):\n",
    "    driver=webdriver.Chrome(PATH)\n",
    "    driver.get(url)\n",
    "    time.sleep(3)\n",
    "    driver.find_element(By.XPATH, '//*[@id=\"onetrust-accept-btn-handler\"]').click()\n",
    "    buscar= driver.find_element(By.XPATH, '//*[@id=\"lithium-root\"]/main/div[3]/div/div/div/form/input[1]')\n",
    "    buscar.click()\n",
    "    buscar.send_keys(e)\n",
    "    time.sleep(1)\n",
    "    buscar.send_keys(Keys.DOWN, Keys.DOWN, Keys.DOWN, Keys.RETURN)\n",
    "    time.sleep(3)\n",
    "    driver.execute_script('window.scrollTo(0, 1400);')\n",
    "    time.sleep(1)\n",
    "    if e == 'Tirana':\n",
    "        driver.find_element(By.XPATH, '//*[@id=\"component_48\"]/div/div[6]/div[2]/div[5]').click()\n",
    "        driver.find_element(By.XPATH, '//*[@id=\"BODY_BLOCK_JQUERY_REFLOW\"]/div[12]/div/div[1]/div[2]/div[1]/div/div[2]/div[8]/div/label').click()\n",
    "        driver.find_element(By.XPATH, '//*[@id=\"BODY_BLOCK_JQUERY_REFLOW\"]/div[12]/div/div[1]/div[3]/button').click()\n",
    "    elif e == 'Viena' or e == 'Budapest':\n",
    "        driver.find_element(By.XPATH, '//*[@id=\"component_48\"]/div/div[7]/div[2]/div[5]').click()\n",
    "        driver.find_element(By.XPATH, '//*[@id=\"BODY_BLOCK_JQUERY_REFLOW\"]/div[12]/div/div[1]/div[2]/div[1]/div/div[2]/div[16]/div/label').click()\n",
    "        driver.find_element(By.XPATH, '//*[@id=\"BODY_BLOCK_JQUERY_REFLOW\"]/div[12]/div/div[1]/div[3]/button').click()\n",
    "\n",
    "    elif e == 'Minsk':\n",
    "        driver.find_element(By.XPATH, '//*[@id=\"component_48\"]/div/div[6]/div[2]/div[5]').click()\n",
    "        driver.find_element(By.XPATH, '//*[@id=\"BODY_BLOCK_JQUERY_REFLOW\"]/div[12]/div/div[1]/div[2]/div[1]/div/div[2]/div[5]/div/label').click()\n",
    "        driver.find_element(By.XPATH, '//*[@id=\"BODY_BLOCK_JQUERY_REFLOW\"]/div[12]/div/div[1]/div[3]/button').click()\n",
    "\n",
    "    elif e == 'Sofia' or e == 'Lisboa' or e == 'Estocolmo' or e == 'Varsovia':\n",
    "        driver.find_element(By.XPATH, '//*[@id=\"component_48\"]/div/div[7]/div[2]/div[5]').click()\n",
    "        driver.find_element(By.XPATH, '//*[@id=\"BODY_BLOCK_JQUERY_REFLOW\"]/div[12]/div/div[1]/div[2]/div[1]/div/div[2]/div[8]/div/label').click()\n",
    "        driver.find_element(By.XPATH, '//*[@id=\"BODY_BLOCK_JQUERY_REFLOW\"]/div[12]/div/div[1]/div[3]/button').click()\n",
    "\n",
    "    elif e == 'Copenhague' or e == 'Riga' or e == 'Oslo':\n",
    "        driver.find_element(By.XPATH, '//*[@id=\"component_48\"]/div/div[6]/div[2]/div[5]').click()\n",
    "        driver.find_element(By.XPATH, '//*[@id=\"BODY_BLOCK_JQUERY_REFLOW\"]/div[12]/div/div[1]/div[2]/div[1]/div/div[2]/div[10]/div/label').click()\n",
    "        driver.find_element(By.XPATH, '//*[@id=\"BODY_BLOCK_JQUERY_REFLOW\"]/div[12]/div/div[1]/div[3]/button').click()\n",
    "    \n",
    "    elif e == 'Ljubljana' or e == 'Tallin' or e == 'Vilna' or e == 'Sarajevo':\n",
    "        driver.find_element(By.XPATH, '//*[@id=\"component_48\"]/div/div[6]/div[2]/div[5]').click()\n",
    "        driver.find_element(By.XPATH, '//*[@id=\"BODY_BLOCK_JQUERY_REFLOW\"]/div[12]/div/div[1]/div[2]/div[1]/div/div[2]/div[7]/div/label').click()\n",
    "        driver.find_element(By.XPATH, '//*[@id=\"BODY_BLOCK_JQUERY_REFLOW\"]/div[12]/div/div[1]/div[3]/button').click()\n",
    "    \n",
    "    elif e == 'Paris' or e == 'Berlin':\n",
    "        driver.find_element(By.XPATH, '//*[@id=\"component_48\"]/div/div[7]/div[2]/div[5]').click()\n",
    "        driver.find_element(By.XPATH, '//*[@id=\"BODY_BLOCK_JQUERY_REFLOW\"]/div[12]/div/div[1]/div[2]/div[1]/div/div[2]/div[14]/div/label').click()\n",
    "        driver.find_element(By.XPATH, '//*[@id=\"BODY_BLOCK_JQUERY_REFLOW\"]/div[12]/div/div[1]/div[3]/button').click()\n",
    "\n",
    "    elif e == 'Atenas':\n",
    "        driver.find_element(By.XPATH, '//*[@id=\"component_48\"]/div/div[8]/div[2]/div[5]').click()\n",
    "        driver.find_element(By.XPATH, '//*[@id=\"BODY_BLOCK_JQUERY_REFLOW\"]/div[12]/div/div[1]/div[2]/div[1]/div/div[2]/div[11]/div/label').click()\n",
    "        driver.find_element(By.XPATH, '//*[@id=\"BODY_BLOCK_JQUERY_REFLOW\"]/div[12]/div/div[1]/div[3]/button').click()\n",
    "\n",
    "    elif e == 'Dublin':\n",
    "        driver.find_element(By.XPATH, '//*[@id=\"component_48\"]/div/div[7]/div[2]/div[5]').click()\n",
    "        driver.find_element(By.XPATH, '//*[@id=\"BODY_BLOCK_JQUERY_REFLOW\"]/div[12]/div/div[1]/div[2]/div[1]/div/div[2]/div[11]/div/label').click()\n",
    "        driver.find_element(By.XPATH, '//*[@id=\"BODY_BLOCK_JQUERY_REFLOW\"]/div[12]/div/div[1]/div[3]/button').click()\n",
    "\n",
    "    elif e == 'Roma' or e == 'Praga' or e == 'Belgrado':\n",
    "        driver.find_element(By.XPATH, '//*[@id=\"component_48\"]/div/div[7]/div[2]/div[5]').click()\n",
    "        driver.find_element(By.XPATH, '//*[@id=\"BODY_BLOCK_JQUERY_REFLOW\"]/div[12]/div/div[1]/div[2]/div[1]/div/div[2]/div[12]/div/label').click()\n",
    "        driver.find_element(By.XPATH, '//*[@id=\"BODY_BLOCK_JQUERY_REFLOW\"]/div[12]/div/div[1]/div[3]/button').click()\n",
    "    \n",
    "    elif e == 'Skopje' or e == 'Reykjavik':\n",
    "        driver.find_element(By.XPATH, '//*[@id=\"component_48\"]/div/div[6]/div[2]/div[5]').click()\n",
    "        driver.find_element(By.XPATH, '//*[@id=\"BODY_BLOCK_JQUERY_REFLOW\"]/div[12]/div/div[1]/div[2]/div[1]/div/div[2]/div[6]/div/label').click()\n",
    "        driver.find_element(By.XPATH, '//*[@id=\"BODY_BLOCK_JQUERY_REFLOW\"]/div[12]/div/div[1]/div[3]/button').click()\n",
    "\n",
    "    elif e == 'Amsterdam' or e == 'Zagreb' or e == 'Helsinki':\n",
    "        driver.find_element(By.XPATH, '//*[@id=\"component_48\"]/div/div[7]/div[2]/div[5]').click()\n",
    "        driver.find_element(By.XPATH, '//*[@id=\"BODY_BLOCK_JQUERY_REFLOW\"]/div[12]/div/div[1]/div[2]/div[1]/div/div[2]/div[9]/div/label').click()\n",
    "        driver.find_element(By.XPATH, '//*[@id=\"BODY_BLOCK_JQUERY_REFLOW\"]/div[12]/div/div[1]/div[3]/button').click()\n",
    "\n",
    "    elif e == 'Bruselas':\n",
    "        driver.find_element(By.XPATH, '//*[@id=\"component_48\"]/div/div[7]/div[2]/div[5]').click()\n",
    "        driver.find_element(By.XPATH, '//*[@id=\"BODY_BLOCK_JQUERY_REFLOW\"]/div[12]/div/div[1]/div[2]/div[1]/div/div[2]/div[10]/div/label').click()\n",
    "        driver.find_element(By.XPATH, '//*[@id=\"BODY_BLOCK_JQUERY_REFLOW\"]/div[12]/div/div[1]/div[3]/button').click()\n",
    "\n",
    "    elif e == 'Bratislava':\n",
    "        driver.find_element(By.XPATH, '//*[@id=\"component_48\"]/div/div[6]/div[2]/div[5]').click()\n",
    "        driver.find_element(By.XPATH, '//*[@id=\"BODY_BLOCK_JQUERY_REFLOW\"]/div[12]/div/div[1]/div[2]/div[1]/div/div[2]/div[11]/div/label').click()\n",
    "        driver.find_element(By.XPATH, '//*[@id=\"BODY_BLOCK_JQUERY_REFLOW\"]/div[12]/div/div[1]/div[3]/button').click()\n",
    "\n",
    "    elif e == 'Luxemburgo':\n",
    "        driver.find_element(By.XPATH, '//*[@id=\"component_47\"]/div/div[5]/div[2]/div[5]').click()\n",
    "        driver.find_element(By.XPATH, '//*[@id=\"BODY_BLOCK_JQUERY_REFLOW\"]/div[12]/div/div[1]/div[2]/div[1]/div/div[2]/div[7]/div/label').click()\n",
    "        driver.find_element(By.XPATH, '//*[@id=\"BODY_BLOCK_JQUERY_REFLOW\"]/div[12]/div/div[1]/div[3]/button').click()\n",
    "\n",
    "    else:\n",
    "        driver.find_element(By.XPATH, '//*[@id=\"component_48\"]/div/div[6]/div[2]/div[5]').click()\n",
    "        driver.find_element(By.XPATH, '//*[@id=\"BODY_BLOCK_JQUERY_REFLOW\"]/div[12]/div/div[1]/div[2]/div[1]/div/div[2]/div[8]/div/label').click()\n",
    "        driver.find_element(By.XPATH, '//*[@id=\"BODY_BLOCK_JQUERY_REFLOW\"]/div[12]/div/div[1]/div[3]/button').click()\n",
    "\n",
    "    driver.execute_script('window.scrollTo(700, 0);')\n",
    "    time.sleep(1)\n",
    "    ita.append(driver.find_element(By.CLASS_NAME, 'SgeRJ').text)\n",
    "    print(driver.find_element(By.CLASS_NAME, 'SgeRJ').text)\n",
    "    driver.quit()"
   ]
  },
  {
   "cell_type": "code",
   "execution_count": 205,
   "id": "9206ab18",
   "metadata": {},
   "outputs": [],
   "source": [
    "data['italiana']= ita\n",
    "lis = []\n",
    "for e in data.italiana:\n",
    "    e = e.split(' ')\n",
    "    lis.append(int(e[0]))\n",
    "data['italiana']= lis"
   ]
  },
  {
   "cell_type": "code",
   "execution_count": 207,
   "id": "4f1f86c4",
   "metadata": {},
   "outputs": [],
   "source": [
    "data.to_excel('restaurantes.xlsx', index= False)"
   ]
  },
  {
   "cell_type": "code",
   "execution_count": null,
   "id": "47baff89",
   "metadata": {},
   "outputs": [],
   "source": []
  }
 ],
 "metadata": {
  "finalized": {
   "timestamp": 1670851761863,
   "trusted": true
  },
  "kernelspec": {
   "display_name": "Python 3 (ipykernel)",
   "language": "python",
   "name": "python3"
  },
  "language_info": {
   "codemirror_mode": {
    "name": "ipython",
    "version": 3
   },
   "file_extension": ".py",
   "mimetype": "text/x-python",
   "name": "python",
   "nbconvert_exporter": "python",
   "pygments_lexer": "ipython3",
   "version": "3.9.12"
  }
 },
 "nbformat": 4,
 "nbformat_minor": 5
}
