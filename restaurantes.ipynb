{
 "cells": [
  {
   "cell_type": "code",
   "execution_count": 4,
   "id": "afc03920",
   "metadata": {},
   "outputs": [],
   "source": [
    "import pandas as pd\n",
    "from selenium import webdriver\n",
    "\n",
    "import time\n",
    "from tqdm import tqdm\n",
    "import regex as re\n",
    "import warnings\n",
    "warnings.filterwarnings('ignore')\n",
    "\n",
    "from selenium.webdriver.chrome.options import Options\n",
    "from webdriver_manager.chrome import ChromeDriverManager\n",
    "from selenium.webdriver.common.by import By   # para buscar segun tag, id, class, etc...\n",
    "\n",
    "from selenium.webdriver.support.ui import WebDriverWait   # es para esperar\n",
    "\n",
    "from selenium.webdriver.support import expected_conditions as EC  # condiciones esperadas...\n",
    "\n",
    "from selenium.webdriver import ActionChains as AC   # acciones encadenadas, rollo doble click\n",
    "\n",
    "from selenium.webdriver.common.keys import Keys\n",
    "from selenium.webdriver.common.by import By\n",
    "\n",
    "PATH=ChromeDriverManager().install()"
   ]
  },
  {
   "cell_type": "code",
   "execution_count": 5,
   "id": "c8884f46",
   "metadata": {},
   "outputs": [],
   "source": [
    "url= 'https://www.tripadvisor.es/'"
   ]
  },
  {
   "cell_type": "code",
   "execution_count": 24,
   "id": "84017c3b",
   "metadata": {},
   "outputs": [],
   "source": [
    "ciud= ['Tirana', 'Viena', 'Minsk', 'Sofia', 'Copenhague', 'Ljubljana', 'Tallin', 'Paris',\n",
    "       'Atenas', 'Dublin', 'Roma', 'Vilna', 'Skopje', 'Chisinau', 'Amsterdam',\n",
    "       'Lisboa', 'Praga', 'Estocolmo', 'Berlin', 'Bruselas', 'Sarajevo',\n",
    "       'Zagreb', 'Bratislava', 'Helsinki', 'Budapest', 'Reykjavik', 'Riga',\n",
    "       'Luxemburgo', 'La valeta', 'Oslo', 'Varsovia', 'Bucarest', 'Belgrado']"
   ]
  },
  {
   "cell_type": "code",
   "execution_count": 69,
   "id": "4be6a130",
   "metadata": {},
   "outputs": [
    {
     "name": "stderr",
     "output_type": "stream",
     "text": [
      "\r",
      "  0%|                                                                                           | 0/33 [00:00<?, ?it/s]"
     ]
    },
    {
     "name": "stdout",
     "output_type": "stream",
     "text": [
      "34 resultados coinciden con tus filtros\n"
     ]
    },
    {
     "name": "stderr",
     "output_type": "stream",
     "text": [
      "\r",
      "  3%|██▌                                                                                | 1/33 [00:20<11:03, 20.73s/it]"
     ]
    },
    {
     "name": "stdout",
     "output_type": "stream",
     "text": [
      "185 resultados coinciden con tus filtros\n"
     ]
    },
    {
     "name": "stderr",
     "output_type": "stream",
     "text": [
      "\r",
      "  6%|█████                                                                              | 2/33 [00:42<10:55, 21.15s/it]"
     ]
    },
    {
     "name": "stdout",
     "output_type": "stream",
     "text": [
      "71 resultados coinciden con tus filtros\n"
     ]
    },
    {
     "name": "stderr",
     "output_type": "stream",
     "text": [
      "\r",
      "  9%|███████▌                                                                           | 3/33 [01:02<10:28, 20.94s/it]"
     ]
    },
    {
     "name": "stdout",
     "output_type": "stream",
     "text": [
      "51 resultados coinciden con tus filtros\n"
     ]
    },
    {
     "name": "stderr",
     "output_type": "stream",
     "text": [
      "\r",
      " 12%|██████████                                                                         | 4/33 [01:23<10:02, 20.77s/it]"
     ]
    },
    {
     "name": "stdout",
     "output_type": "stream",
     "text": [
      "66 resultados coinciden con tus filtros\n"
     ]
    },
    {
     "name": "stderr",
     "output_type": "stream",
     "text": [
      "\r",
      " 15%|████████████▌                                                                      | 5/33 [01:43<09:38, 20.65s/it]"
     ]
    },
    {
     "name": "stdout",
     "output_type": "stream",
     "text": [
      "16 resultados coinciden con tus filtros\n"
     ]
    },
    {
     "name": "stderr",
     "output_type": "stream",
     "text": [
      "\r",
      " 18%|███████████████                                                                    | 6/33 [02:04<09:17, 20.64s/it]"
     ]
    },
    {
     "name": "stdout",
     "output_type": "stream",
     "text": [
      "61 resultados coinciden con tus filtros\n"
     ]
    },
    {
     "name": "stderr",
     "output_type": "stream",
     "text": [
      "\r",
      " 21%|█████████████████▌                                                                 | 7/33 [02:25<08:56, 20.63s/it]"
     ]
    },
    {
     "name": "stdout",
     "output_type": "stream",
     "text": [
      "166 resultados coinciden con tus filtros\n"
     ]
    },
    {
     "name": "stderr",
     "output_type": "stream",
     "text": [
      "\r",
      " 24%|████████████████████                                                               | 8/33 [02:47<08:50, 21.23s/it]"
     ]
    },
    {
     "name": "stdout",
     "output_type": "stream",
     "text": [
      "3 resultados coinciden con tus filtros\n"
     ]
    },
    {
     "name": "stderr",
     "output_type": "stream",
     "text": [
      "\r",
      " 27%|██████████████████████▋                                                            | 9/33 [03:10<08:42, 21.79s/it]"
     ]
    },
    {
     "name": "stdout",
     "output_type": "stream",
     "text": [
      "38 resultados coinciden con tus filtros\n"
     ]
    },
    {
     "name": "stderr",
     "output_type": "stream",
     "text": [
      "\r",
      " 30%|████████████████████████▊                                                         | 10/33 [03:31<08:15, 21.54s/it]"
     ]
    },
    {
     "name": "stdout",
     "output_type": "stream",
     "text": [
      "381 resultados coinciden con tus filtros\n"
     ]
    },
    {
     "name": "stderr",
     "output_type": "stream",
     "text": [
      "\r",
      " 33%|███████████████████████████▎                                                      | 11/33 [03:52<07:52, 21.49s/it]"
     ]
    },
    {
     "name": "stdout",
     "output_type": "stream",
     "text": [
      "23 resultados coinciden con tus filtros\n"
     ]
    },
    {
     "name": "stderr",
     "output_type": "stream",
     "text": [
      "\r",
      " 36%|█████████████████████████████▊                                                    | 12/33 [04:13<07:26, 21.26s/it]"
     ]
    },
    {
     "name": "stdout",
     "output_type": "stream",
     "text": [
      "28 resultados coinciden con tus filtros\n"
     ]
    },
    {
     "name": "stderr",
     "output_type": "stream",
     "text": [
      "\r",
      " 39%|████████████████████████████████▎                                                 | 13/33 [04:34<07:01, 21.06s/it]"
     ]
    },
    {
     "name": "stdout",
     "output_type": "stream",
     "text": [
      "1 resultado coincide con tus filtros\n"
     ]
    },
    {
     "name": "stderr",
     "output_type": "stream",
     "text": [
      "\r",
      " 42%|██████████████████████████████████▊                                               | 14/33 [04:54<06:38, 20.96s/it]"
     ]
    },
    {
     "name": "stdout",
     "output_type": "stream",
     "text": [
      "201 resultados coinciden con tus filtros\n"
     ]
    },
    {
     "name": "stderr",
     "output_type": "stream",
     "text": [
      "\r",
      " 45%|█████████████████████████████████████▎                                            | 15/33 [05:15<06:15, 20.88s/it]"
     ]
    },
    {
     "name": "stdout",
     "output_type": "stream",
     "text": [
      "245 resultados coinciden con tus filtros\n"
     ]
    },
    {
     "name": "stderr",
     "output_type": "stream",
     "text": [
      "\r",
      " 48%|███████████████████████████████████████▊                                          | 16/33 [05:37<05:57, 21.02s/it]"
     ]
    },
    {
     "name": "stdout",
     "output_type": "stream",
     "text": [
      "144 resultados coinciden con tus filtros\n"
     ]
    },
    {
     "name": "stderr",
     "output_type": "stream",
     "text": [
      "\r",
      " 52%|██████████████████████████████████████████▏                                       | 17/33 [05:58<05:38, 21.18s/it]"
     ]
    },
    {
     "name": "stdout",
     "output_type": "stream",
     "text": [
      "66 resultados coinciden con tus filtros\n"
     ]
    },
    {
     "name": "stderr",
     "output_type": "stream",
     "text": [
      "\r",
      " 55%|████████████████████████████████████████████▋                                     | 18/33 [06:19<05:18, 21.22s/it]"
     ]
    },
    {
     "name": "stdout",
     "output_type": "stream",
     "text": [
      "253 resultados coinciden con tus filtros\n"
     ]
    },
    {
     "name": "stderr",
     "output_type": "stream",
     "text": [
      "\r",
      " 58%|███████████████████████████████████████████████▏                                  | 19/33 [06:40<04:54, 21.02s/it]"
     ]
    },
    {
     "name": "stdout",
     "output_type": "stream",
     "text": [
      "98 resultados coinciden con tus filtros\n"
     ]
    },
    {
     "name": "stderr",
     "output_type": "stream",
     "text": [
      "\r",
      " 61%|█████████████████████████████████████████████████▋                                | 20/33 [07:01<04:33, 21.03s/it]"
     ]
    },
    {
     "name": "stdout",
     "output_type": "stream",
     "text": [
      "19 resultados coinciden con tus filtros\n"
     ]
    },
    {
     "name": "stderr",
     "output_type": "stream",
     "text": [
      "\r",
      " 64%|████████████████████████████████████████████████████▏                             | 21/33 [07:21<04:09, 20.83s/it]"
     ]
    },
    {
     "name": "stdout",
     "output_type": "stream",
     "text": [
      "21 resultados coinciden con tus filtros\n"
     ]
    },
    {
     "name": "stderr",
     "output_type": "stream",
     "text": [
      "\r",
      " 67%|██████████████████████████████████████████████████████▋                           | 22/33 [07:43<03:50, 20.96s/it]"
     ]
    },
    {
     "name": "stdout",
     "output_type": "stream",
     "text": [
      "26 resultados coinciden con tus filtros\n"
     ]
    },
    {
     "name": "stderr",
     "output_type": "stream",
     "text": [
      "\r",
      " 70%|█████████████████████████████████████████████████████████▏                        | 23/33 [08:03<03:28, 20.82s/it]"
     ]
    },
    {
     "name": "stdout",
     "output_type": "stream",
     "text": [
      "43 resultados coinciden con tus filtros\n"
     ]
    },
    {
     "name": "stderr",
     "output_type": "stream",
     "text": [
      "\r",
      " 73%|███████████████████████████████████████████████████████████▋                      | 24/33 [08:24<03:07, 20.83s/it]"
     ]
    },
    {
     "name": "stdout",
     "output_type": "stream",
     "text": [
      "99 resultados coinciden con tus filtros\n"
     ]
    },
    {
     "name": "stderr",
     "output_type": "stream",
     "text": [
      "\r",
      " 76%|██████████████████████████████████████████████████████████████                    | 25/33 [08:45<02:46, 20.86s/it]"
     ]
    },
    {
     "name": "stdout",
     "output_type": "stream",
     "text": [
      "11 resultados coinciden con tus filtros\n"
     ]
    },
    {
     "name": "stderr",
     "output_type": "stream",
     "text": [
      "\r",
      " 79%|████████████████████████████████████████████████████████████████▌                 | 26/33 [09:05<02:25, 20.76s/it]"
     ]
    },
    {
     "name": "stdout",
     "output_type": "stream",
     "text": [
      "38 resultados coinciden con tus filtros\n"
     ]
    },
    {
     "name": "stderr",
     "output_type": "stream",
     "text": [
      "\r",
      " 82%|███████████████████████████████████████████████████████████████████               | 27/33 [09:27<02:05, 20.98s/it]"
     ]
    },
    {
     "name": "stdout",
     "output_type": "stream",
     "text": [
      "43 resultados coinciden con tus filtros\n"
     ]
    },
    {
     "name": "stderr",
     "output_type": "stream",
     "text": [
      "\r",
      " 85%|█████████████████████████████████████████████████████████████████████▌            | 28/33 [09:48<01:45, 21.15s/it]"
     ]
    },
    {
     "name": "stdout",
     "output_type": "stream",
     "text": [
      "1 resultado coincide con tus filtros\n"
     ]
    },
    {
     "name": "stderr",
     "output_type": "stream",
     "text": [
      "\r",
      " 88%|████████████████████████████████████████████████████████████████████████          | 29/33 [10:09<01:24, 21.09s/it]"
     ]
    },
    {
     "name": "stdout",
     "output_type": "stream",
     "text": [
      "24 resultados coinciden con tus filtros\n"
     ]
    },
    {
     "name": "stderr",
     "output_type": "stream",
     "text": [
      "\r",
      " 91%|██████████████████████████████████████████████████████████████████████████▌       | 30/33 [10:30<01:03, 21.02s/it]"
     ]
    },
    {
     "name": "stdout",
     "output_type": "stream",
     "text": [
      "153 resultados coinciden con tus filtros\n"
     ]
    },
    {
     "name": "stderr",
     "output_type": "stream",
     "text": [
      "\r",
      " 94%|█████████████████████████████████████████████████████████████████████████████     | 31/33 [10:51<00:41, 20.93s/it]"
     ]
    },
    {
     "name": "stdout",
     "output_type": "stream",
     "text": [
      "62 resultados coinciden con tus filtros\n"
     ]
    },
    {
     "name": "stderr",
     "output_type": "stream",
     "text": [
      "\r",
      " 97%|███████████████████████████████████████████████████████████████████████████████▌  | 32/33 [11:11<00:20, 20.78s/it]"
     ]
    },
    {
     "name": "stdout",
     "output_type": "stream",
     "text": [
      "84 resultados coinciden con tus filtros\n"
     ]
    },
    {
     "name": "stderr",
     "output_type": "stream",
     "text": [
      "100%|██████████████████████████████████████████████████████████████████████████████████| 33/33 [11:32<00:00, 21.00s/it]\n"
     ]
    }
   ],
   "source": [
    "buffet= []\n",
    "for e in tqdm(ciud):\n",
    "    driver=webdriver.Chrome(PATH)\n",
    "    driver.get(url)\n",
    "    time.sleep(3)\n",
    "    driver.find_element(By.XPATH, '//*[@id=\"onetrust-accept-btn-handler\"]').click()\n",
    "    buscar= driver.find_element(By.XPATH, '//*[@id=\"lithium-root\"]/main/div[3]/div/div/div/form/input[1]')\n",
    "    buscar.click()\n",
    "    buscar.send_keys(e)\n",
    "    time.sleep(1)\n",
    "    buscar.send_keys(Keys.DOWN, Keys.DOWN, Keys.DOWN, Keys.RETURN)\n",
    "    time.sleep(3)\n",
    "    driver.execute_script('window.scrollTo(0, 700);')\n",
    "    time.sleep(1)\n",
    "    if e == 'Atenas':\n",
    "        driver.find_element(By.XPATH, '//*[@id=\"component_48\"]/div/div[4]/div[2]/div[5]/span[1]').click()\n",
    "        driver.find_element(By.XPATH, '//*[@id=\"component_48\"]/div/div[4]/div[2]/div[9]/div/label').click()\n",
    "        time.sleep(1)\n",
    "        \n",
    "    if e == 'Luxemburgo':\n",
    "        driver.find_element(By.XPATH, '//*[@id=\"component_47\"]/div/div[2]/div[2]/div[5]').click()       \n",
    "    else:\n",
    "        driver.find_element(By.XPATH, '//*[@id=\"component_48\"]/div/div[3]/div[2]/div[5]').click()\n",
    "    if e == 'Paris' or e == 'Luxemburgo':\n",
    "        driver.find_element(By.XPATH, '//*[@id=\"BODY_BLOCK_JQUERY_REFLOW\"]/div[12]/div/div[1]/div[2]/div/div/div[1]/div[8]/div/label').click()\n",
    "        time.sleep(1)\n",
    "        driver.find_element(By.XPATH, '//*[@id=\"BODY_BLOCK_JQUERY_REFLOW\"]/div[12]/div/div[1]/div[3]/button').click()\n",
    "    else:\n",
    "        driver.execute_script('window.scrollTo(0, 800);')\n",
    "        driver.find_element(By.XPATH, '//*[@id=\"component_48\"]/div/div[3]/div[2]/div[10]/div/label').click()\n",
    "        driver.execute_script('window.scrollTo(800, 0);')\n",
    "    time.sleep(2)\n",
    "    buffet.append(driver.find_element(By.CLASS_NAME, 'SgeRJ').text)\n",
    "    print(driver.find_element(By.CLASS_NAME, 'SgeRJ').text)\n",
    "    driver.quit()"
   ]
  },
  {
   "cell_type": "code",
   "execution_count": 75,
   "id": "02a52610",
   "metadata": {},
   "outputs": [],
   "source": [
    "data = pd.DataFrame(columns = ['ciudades_id'], data= [e for e in range(1, 34)])"
   ]
  },
  {
   "cell_type": "code",
   "execution_count": 76,
   "id": "dbecfed9",
   "metadata": {},
   "outputs": [],
   "source": [
    "data['buffet']= buffet"
   ]
  },
  {
   "cell_type": "code",
   "execution_count": 82,
   "id": "518795d3",
   "metadata": {},
   "outputs": [],
   "source": [
    "lista = []\n",
    "for e in data.buffet:\n",
    "    e = e.split(' ')\n",
    "    lista.append(int(e[0]))\n",
    "data['buffet']= lista"
   ]
  },
  {
   "cell_type": "code",
   "execution_count": 85,
   "id": "c34e1a0e",
   "metadata": {},
   "outputs": [
    {
     "name": "stdout",
     "output_type": "stream",
     "text": [
      "<class 'pandas.core.frame.DataFrame'>\n",
      "RangeIndex: 33 entries, 0 to 32\n",
      "Data columns (total 2 columns):\n",
      " #   Column       Non-Null Count  Dtype\n",
      "---  ------       --------------  -----\n",
      " 0   ciudades_id  33 non-null     int64\n",
      " 1   buffet       33 non-null     int64\n",
      "dtypes: int64(2)\n",
      "memory usage: 656.0 bytes\n"
     ]
    }
   ],
   "source": [
    "data.info()"
   ]
  },
  {
   "cell_type": "code",
   "execution_count": 120,
   "id": "b677b5bf",
   "metadata": {},
   "outputs": [],
   "source": [
    "data.to_excel('restaurantes.xlsx', index= False)"
   ]
  },
  {
   "cell_type": "code",
   "execution_count": null,
   "id": "774d7b7f",
   "metadata": {},
   "outputs": [],
   "source": []
  },
  {
   "cell_type": "code",
   "execution_count": 25,
   "id": "19e761a6",
   "metadata": {},
   "outputs": [
    {
     "name": "stderr",
     "output_type": "stream",
     "text": [
      "\r",
      "  0%|                                                                                           | 0/33 [00:00<?, ?it/s]"
     ]
    },
    {
     "name": "stdout",
     "output_type": "stream",
     "text": [
      "32 resultados coinciden con tus filtros\n"
     ]
    },
    {
     "name": "stderr",
     "output_type": "stream",
     "text": [
      "\r",
      "  3%|██▌                                                                                | 1/33 [00:17<09:12, 17.27s/it]"
     ]
    },
    {
     "name": "stdout",
     "output_type": "stream",
     "text": [
      "116 resultados coinciden con tus filtros\n"
     ]
    },
    {
     "name": "stderr",
     "output_type": "stream",
     "text": [
      "\r",
      "  6%|█████                                                                              | 2/33 [00:34<08:58, 17.37s/it]"
     ]
    },
    {
     "name": "stdout",
     "output_type": "stream",
     "text": [
      "78 resultados coinciden con tus filtros\n"
     ]
    },
    {
     "name": "stderr",
     "output_type": "stream",
     "text": [
      "\r",
      "  9%|███████▌                                                                           | 3/33 [00:51<08:31, 17.04s/it]"
     ]
    },
    {
     "name": "stdout",
     "output_type": "stream",
     "text": [
      "74 resultados coinciden con tus filtros\n"
     ]
    },
    {
     "name": "stderr",
     "output_type": "stream",
     "text": [
      "\r",
      " 12%|██████████                                                                         | 4/33 [01:08<08:14, 17.04s/it]"
     ]
    },
    {
     "name": "stdout",
     "output_type": "stream",
     "text": [
      "98 resultados coinciden con tus filtros\n"
     ]
    },
    {
     "name": "stderr",
     "output_type": "stream",
     "text": [
      "\r",
      " 15%|████████████▌                                                                      | 5/33 [01:26<08:06, 17.36s/it]"
     ]
    },
    {
     "name": "stdout",
     "output_type": "stream",
     "text": [
      "20 resultados coinciden con tus filtros\n"
     ]
    },
    {
     "name": "stderr",
     "output_type": "stream",
     "text": [
      "\r",
      " 18%|███████████████                                                                    | 6/33 [01:44<07:56, 17.63s/it]"
     ]
    },
    {
     "name": "stdout",
     "output_type": "stream",
     "text": [
      "45 resultados coinciden con tus filtros\n"
     ]
    },
    {
     "name": "stderr",
     "output_type": "stream",
     "text": [
      "\r",
      " 21%|█████████████████▌                                                                 | 7/33 [02:01<07:37, 17.59s/it]"
     ]
    },
    {
     "name": "stdout",
     "output_type": "stream",
     "text": [
      "509 resultados coinciden con tus filtros\n"
     ]
    },
    {
     "name": "stderr",
     "output_type": "stream",
     "text": [
      "\r",
      " 24%|████████████████████                                                               | 8/33 [02:20<07:29, 17.99s/it]"
     ]
    },
    {
     "name": "stdout",
     "output_type": "stream",
     "text": [
      "97 resultados coinciden con tus filtros\n"
     ]
    },
    {
     "name": "stderr",
     "output_type": "stream",
     "text": [
      "\r",
      " 27%|██████████████████████▋                                                            | 9/33 [02:38<07:12, 18.01s/it]"
     ]
    },
    {
     "name": "stdout",
     "output_type": "stream",
     "text": [
      "124 resultados coinciden con tus filtros\n"
     ]
    },
    {
     "name": "stderr",
     "output_type": "stream",
     "text": [
      "\r",
      " 30%|████████████████████████▊                                                         | 10/33 [02:56<06:48, 17.77s/it]"
     ]
    },
    {
     "name": "stdout",
     "output_type": "stream",
     "text": [
      "300 resultados coinciden con tus filtros\n"
     ]
    },
    {
     "name": "stderr",
     "output_type": "stream",
     "text": [
      "\r",
      " 33%|███████████████████████████▎                                                      | 11/33 [03:13<06:30, 17.77s/it]"
     ]
    },
    {
     "name": "stdout",
     "output_type": "stream",
     "text": [
      "60 resultados coinciden con tus filtros\n"
     ]
    },
    {
     "name": "stderr",
     "output_type": "stream",
     "text": [
      "\r",
      " 36%|█████████████████████████████▊                                                    | 12/33 [03:31<06:09, 17.59s/it]"
     ]
    },
    {
     "name": "stdout",
     "output_type": "stream",
     "text": [
      "38 resultados coinciden con tus filtros\n"
     ]
    },
    {
     "name": "stderr",
     "output_type": "stream",
     "text": [
      "\r",
      " 39%|████████████████████████████████▎                                                 | 13/33 [03:48<05:49, 17.49s/it]"
     ]
    },
    {
     "name": "stdout",
     "output_type": "stream",
     "text": [
      "19 resultados coinciden con tus filtros\n"
     ]
    },
    {
     "name": "stderr",
     "output_type": "stream",
     "text": [
      "\r",
      " 42%|██████████████████████████████████▊                                               | 14/33 [04:05<05:33, 17.54s/it]"
     ]
    },
    {
     "name": "stdout",
     "output_type": "stream",
     "text": [
      "205 resultados coinciden con tus filtros\n"
     ]
    },
    {
     "name": "stderr",
     "output_type": "stream",
     "text": [
      "\r",
      " 45%|█████████████████████████████████████▎                                            | 15/33 [04:23<05:17, 17.64s/it]"
     ]
    },
    {
     "name": "stdout",
     "output_type": "stream",
     "text": [
      "117 resultados coinciden con tus filtros\n"
     ]
    },
    {
     "name": "stderr",
     "output_type": "stream",
     "text": [
      "\r",
      " 48%|███████████████████████████████████████▊                                          | 16/33 [04:41<05:01, 17.71s/it]"
     ]
    },
    {
     "name": "stdout",
     "output_type": "stream",
     "text": [
      "242 resultados coinciden con tus filtros\n"
     ]
    },
    {
     "name": "stderr",
     "output_type": "stream",
     "text": [
      "\r",
      " 52%|██████████████████████████████████████████▏                                       | 17/33 [04:59<04:42, 17.63s/it]"
     ]
    },
    {
     "name": "stdout",
     "output_type": "stream",
     "text": [
      "2 resultados coinciden con tus filtros\n"
     ]
    },
    {
     "name": "stderr",
     "output_type": "stream",
     "text": [
      "\r",
      " 55%|████████████████████████████████████████████▋                                     | 18/33 [05:16<04:23, 17.57s/it]"
     ]
    },
    {
     "name": "stdout",
     "output_type": "stream",
     "text": [
      "2 resultados coinciden con tus filtros\n"
     ]
    },
    {
     "name": "stderr",
     "output_type": "stream",
     "text": [
      "\r",
      " 58%|███████████████████████████████████████████████▏                                  | 19/33 [05:34<04:06, 17.61s/it]"
     ]
    },
    {
     "name": "stdout",
     "output_type": "stream",
     "text": [
      "13 resultados coinciden con tus filtros\n"
     ]
    },
    {
     "name": "stderr",
     "output_type": "stream",
     "text": [
      "\r",
      " 61%|█████████████████████████████████████████████████▋                                | 20/33 [05:52<03:50, 17.76s/it]"
     ]
    },
    {
     "name": "stdout",
     "output_type": "stream",
     "text": [
      "24 resultados coinciden con tus filtros\n"
     ]
    },
    {
     "name": "stderr",
     "output_type": "stream",
     "text": [
      "\r",
      " 64%|████████████████████████████████████████████████████▏                             | 21/33 [06:10<03:32, 17.71s/it]"
     ]
    },
    {
     "name": "stdout",
     "output_type": "stream",
     "text": [
      "51 resultados coinciden con tus filtros\n"
     ]
    },
    {
     "name": "stderr",
     "output_type": "stream",
     "text": [
      "\r",
      " 67%|██████████████████████████████████████████████████████▋                           | 22/33 [06:27<03:12, 17.53s/it]"
     ]
    },
    {
     "name": "stdout",
     "output_type": "stream",
     "text": [
      "47 resultados coinciden con tus filtros\n"
     ]
    },
    {
     "name": "stderr",
     "output_type": "stream",
     "text": [
      "\r",
      " 70%|█████████████████████████████████████████████████████████▏                        | 23/33 [06:44<02:55, 17.57s/it]"
     ]
    },
    {
     "name": "stdout",
     "output_type": "stream",
     "text": [
      "67 resultados coinciden con tus filtros\n"
     ]
    },
    {
     "name": "stderr",
     "output_type": "stream",
     "text": [
      "\r",
      " 73%|███████████████████████████████████████████████████████████▋                      | 24/33 [07:02<02:39, 17.75s/it]"
     ]
    },
    {
     "name": "stdout",
     "output_type": "stream",
     "text": [
      "3 resultados coinciden con tus filtros\n"
     ]
    },
    {
     "name": "stderr",
     "output_type": "stream",
     "text": [
      "\r",
      " 76%|██████████████████████████████████████████████████████████████                    | 25/33 [07:20<02:22, 17.81s/it]"
     ]
    },
    {
     "name": "stdout",
     "output_type": "stream",
     "text": [
      "41 resultados coinciden con tus filtros\n"
     ]
    },
    {
     "name": "stderr",
     "output_type": "stream",
     "text": [
      "\r",
      " 79%|████████████████████████████████████████████████████████████████▌                 | 26/33 [07:37<02:02, 17.53s/it]"
     ]
    },
    {
     "name": "stdout",
     "output_type": "stream",
     "text": [
      "1 resultado coincide con tus filtros\n"
     ]
    },
    {
     "name": "stderr",
     "output_type": "stream",
     "text": [
      "\r",
      " 82%|███████████████████████████████████████████████████████████████████               | 27/33 [07:55<01:44, 17.50s/it]"
     ]
    },
    {
     "name": "stdout",
     "output_type": "stream",
     "text": [
      "49 resultados coinciden con tus filtros\n"
     ]
    },
    {
     "name": "stderr",
     "output_type": "stream",
     "text": [
      "\r",
      " 85%|█████████████████████████████████████████████████████████████████████▌            | 28/33 [08:12<01:26, 17.38s/it]"
     ]
    },
    {
     "name": "stdout",
     "output_type": "stream",
     "text": [
      "30 resultados coinciden con tus filtros\n"
     ]
    },
    {
     "name": "stderr",
     "output_type": "stream",
     "text": [
      "\r",
      " 88%|████████████████████████████████████████████████████████████████████████          | 29/33 [08:29<01:09, 17.35s/it]"
     ]
    },
    {
     "name": "stdout",
     "output_type": "stream",
     "text": [
      "88 resultados coinciden con tus filtros\n"
     ]
    },
    {
     "name": "stderr",
     "output_type": "stream",
     "text": [
      "\r",
      " 91%|██████████████████████████████████████████████████████████████████████████▌       | 30/33 [08:48<00:53, 17.84s/it]"
     ]
    },
    {
     "name": "stdout",
     "output_type": "stream",
     "text": [
      "199 resultados coinciden con tus filtros\n"
     ]
    },
    {
     "name": "stderr",
     "output_type": "stream",
     "text": [
      "\r",
      " 94%|█████████████████████████████████████████████████████████████████████████████     | 31/33 [09:06<00:35, 17.86s/it]"
     ]
    },
    {
     "name": "stdout",
     "output_type": "stream",
     "text": [
      "1 resultado coincide con tus filtros\n"
     ]
    },
    {
     "name": "stderr",
     "output_type": "stream",
     "text": [
      "\r",
      " 97%|███████████████████████████████████████████████████████████████████████████████▌  | 32/33 [09:24<00:17, 17.89s/it]"
     ]
    },
    {
     "name": "stdout",
     "output_type": "stream",
     "text": [
      "82 resultados coinciden con tus filtros\n"
     ]
    },
    {
     "name": "stderr",
     "output_type": "stream",
     "text": [
      "100%|██████████████████████████████████████████████████████████████████████████████████| 33/33 [09:42<00:00, 17.64s/it]\n"
     ]
    }
   ],
   "source": [
    "americ= []\n",
    "alemana= ['Viena', 'Paris', 'Roma', 'Lisboa', 'Estocolmo', 'Berlin', 'Bruselas', 'Budapest', 'Bucarest']\n",
    "medicin = ['Copenhague', 'Sarajevo', 'Reykjavik']\n",
    "ciu = ['Dublin', 'Amsterdam', 'Praga', 'Varsovia', 'Belgrado']\n",
    "for e in tqdm(ciud):\n",
    "    driver=webdriver.Chrome(PATH)\n",
    "    driver.get(url)\n",
    "    time.sleep(2)\n",
    "    driver.find_element(By.XPATH, '//*[@id=\"onetrust-accept-btn-handler\"]').click()\n",
    "    buscar= driver.find_element(By.XPATH, '//*[@id=\"lithium-root\"]/main/div[3]/div/div/div/form/input[1]')\n",
    "    buscar.click()\n",
    "    buscar.send_keys(e)\n",
    "    time.sleep(1)\n",
    "    buscar.send_keys(Keys.DOWN, Keys.DOWN, Keys.DOWN, Keys.RETURN)\n",
    "    time.sleep(1)\n",
    "    driver.execute_script('window.scrollTo(0, 1400);')\n",
    "    time.sleep(1)\n",
    "    if e in alemana:\n",
    "        driver.find_element(By.XPATH, '//*[@id=\"component_48\"]/div/div[7]/div[2]/div[5]').click()\n",
    "        driver.find_element(By.XPATH, '//*[@id=\"BODY_BLOCK_JQUERY_REFLOW\"]/div[12]/div/div[1]/div[2]/div[1]/div/div[1]/div[6]/div/label').click()\n",
    "        driver.find_element(By.XPATH, '//*[@id=\"BODY_BLOCK_JQUERY_REFLOW\"]/div[12]/div/div[1]/div[3]/button').click()\n",
    "\n",
    "    elif e in medicin:\n",
    "        driver.find_element(By.XPATH, '//*[@id=\"component_48\"]/div/div[6]/div[2]/div[5]').click()\n",
    "        driver.find_element(By.XPATH, '//*[@id=\"BODY_BLOCK_JQUERY_REFLOW\"]/div[12]/div/div[1]/div[2]/div[1]/div/div[1]/div[5]/div/label').click()\n",
    "        driver.find_element(By.XPATH, '//*[@id=\"BODY_BLOCK_JQUERY_REFLOW\"]/div[12]/div/div[1]/div[3]/button').click()\n",
    "\n",
    "    elif e in ciu:\n",
    "        driver.find_element(By.XPATH, '//*[@id=\"component_48\"]/div/div[7]/div[2]/div[5]/span[1]').click()\n",
    "        driver.find_element(By.XPATH, '//*[@id=\"BODY_BLOCK_JQUERY_REFLOW\"]/div[12]/div/div[1]/div[2]/div[1]/div/div[1]/div[5]/div/label').click()\n",
    "        driver.find_element(By.XPATH, '//*[@id=\"BODY_BLOCK_JQUERY_REFLOW\"]/div[12]/div/div[1]/div[3]/button').click()\n",
    "    \n",
    "    elif e == 'Sofia' or e == 'Helsinki' or e == 'Zagreb':\n",
    "        driver.find_element(By.XPATH, '//*[@id=\"component_48\"]/div/div[7]/div[2]/div[5]').click()\n",
    "        driver.find_element(By.XPATH, '//*[@id=\"BODY_BLOCK_JQUERY_REFLOW\"]/div[12]/div/div[1]/div[2]/div[1]/div/div[1]/div[4]/div/label').click()\n",
    "        driver.find_element(By.XPATH, '//*[@id=\"BODY_BLOCK_JQUERY_REFLOW\"]/div[12]/div/div[1]/div[3]/button').click()\n",
    "\n",
    "    elif e == 'Atenas':\n",
    "        driver.find_element(By.XPATH, '//*[@id=\"component_48\"]/div/div[8]/div[2]/div[5]').click()\n",
    "        driver.find_element(By.XPATH, '//*[@id=\"BODY_BLOCK_JQUERY_REFLOW\"]/div[12]/div/div[1]/div[2]/div[1]/div/div[1]/div[5]/div/label').click()\n",
    "        driver.find_element(By.XPATH, '//*[@id=\"BODY_BLOCK_JQUERY_REFLOW\"]/div[12]/div/div[1]/div[3]/button').click()\n",
    "\n",
    "    elif e == 'Minsk':\n",
    "        driver.find_element(By.XPATH, '//*[@id=\"component_48\"]/div/div[6]/div[2]/div[5]').click()\n",
    "        driver.find_element(By.XPATH, '//*[@id=\"BODY_BLOCK_JQUERY_REFLOW\"]/div[12]/div/div[1]/div[2]/div[1]/div/div[1]/div[2]/div/label').click()\n",
    "        driver.find_element(By.XPATH, '//*[@id=\"BODY_BLOCK_JQUERY_REFLOW\"]/div[12]/div/div[1]/div[3]/button').click()\n",
    "\n",
    "    elif e == 'Luxemburgo':\n",
    "        driver.find_element(By.XPATH, '//*[@id=\"component_47\"]/div/div[5]/div[2]/div[5]').click()\n",
    "        driver.find_element(By.XPATH, '//*[@id=\"BODY_BLOCK_JQUERY_REFLOW\"]/div[12]/div/div[1]/div[2]/div[1]/div/div[1]/div[4]/div/label').click()\n",
    "        driver.find_element(By.XPATH, '//*[@id=\"BODY_BLOCK_JQUERY_REFLOW\"]/div[12]/div/div[1]/div[3]/button').click()\n",
    "\n",
    "    elif e == 'Skopje' or e == 'Bratislava':\n",
    "        driver.find_element(By.XPATH, '//*[@id=\"component_48\"]/div/div[6]/div[2]/div[5]').click()\n",
    "        driver.find_element(By.XPATH, '//*[@id=\"BODY_BLOCK_JQUERY_REFLOW\"]/div[12]/div/div[1]/div[2]/div[1]/div/div[1]/div[3]/div/label').click()\n",
    "        driver.find_element(By.XPATH, '//*[@id=\"BODY_BLOCK_JQUERY_REFLOW\"]/div[12]/div/div[1]/div[3]/button').click()\n",
    "\n",
    "    else:\n",
    "        driver.find_element(By.XPATH, '//*[@id=\"component_48\"]/div/div[6]/div[2]/div[5]').click()\n",
    "        driver.find_element(By.XPATH, '//*[@id=\"BODY_BLOCK_JQUERY_REFLOW\"]/div[12]/div/div[1]/div[2]/div[1]/div/div[1]/div[4]/div/label').click()\n",
    "        driver.find_element(By.XPATH, '//*[@id=\"BODY_BLOCK_JQUERY_REFLOW\"]/div[12]/div/div[1]/div[3]/button').click()\n",
    "\n",
    "    driver.execute_script('window.scrollTo(700, 0);')\n",
    "    time.sleep(1)\n",
    "    americ.append(driver.find_element(By.CLASS_NAME, 'SgeRJ').text)\n",
    "    print(driver.find_element(By.CLASS_NAME, 'SgeRJ').text)\n",
    "    driver.quit()\n"
   ]
  },
  {
   "cell_type": "code",
   "execution_count": 32,
   "id": "2cd5804d",
   "metadata": {},
   "outputs": [],
   "source": [
    "data = pd.read_excel('restaurantes.xlsx')"
   ]
  },
  {
   "cell_type": "code",
   "execution_count": 33,
   "id": "d2bc6a47",
   "metadata": {},
   "outputs": [],
   "source": [
    "data['americana']= americ"
   ]
  },
  {
   "cell_type": "code",
   "execution_count": 34,
   "id": "a56a0882",
   "metadata": {},
   "outputs": [],
   "source": [
    "lis = []\n",
    "for e in data.americana:\n",
    "    e = e.split(' ')\n",
    "    lis.append(int(e[0]))\n",
    "data['americana']= lis"
   ]
  },
  {
   "cell_type": "code",
   "execution_count": 35,
   "id": "d2c3d180",
   "metadata": {},
   "outputs": [
    {
     "data": {
      "text/html": [
       "<div>\n",
       "<style scoped>\n",
       "    .dataframe tbody tr th:only-of-type {\n",
       "        vertical-align: middle;\n",
       "    }\n",
       "\n",
       "    .dataframe tbody tr th {\n",
       "        vertical-align: top;\n",
       "    }\n",
       "\n",
       "    .dataframe thead th {\n",
       "        text-align: right;\n",
       "    }\n",
       "</style>\n",
       "<table border=\"1\" class=\"dataframe\">\n",
       "  <thead>\n",
       "    <tr style=\"text-align: right;\">\n",
       "      <th></th>\n",
       "      <th>ciudades_id</th>\n",
       "      <th>buffet</th>\n",
       "      <th>americana</th>\n",
       "    </tr>\n",
       "  </thead>\n",
       "  <tbody>\n",
       "    <tr>\n",
       "      <th>0</th>\n",
       "      <td>1</td>\n",
       "      <td>34</td>\n",
       "      <td>32</td>\n",
       "    </tr>\n",
       "    <tr>\n",
       "      <th>1</th>\n",
       "      <td>2</td>\n",
       "      <td>185</td>\n",
       "      <td>116</td>\n",
       "    </tr>\n",
       "    <tr>\n",
       "      <th>2</th>\n",
       "      <td>3</td>\n",
       "      <td>71</td>\n",
       "      <td>78</td>\n",
       "    </tr>\n",
       "    <tr>\n",
       "      <th>3</th>\n",
       "      <td>4</td>\n",
       "      <td>51</td>\n",
       "      <td>74</td>\n",
       "    </tr>\n",
       "    <tr>\n",
       "      <th>4</th>\n",
       "      <td>5</td>\n",
       "      <td>66</td>\n",
       "      <td>98</td>\n",
       "    </tr>\n",
       "    <tr>\n",
       "      <th>5</th>\n",
       "      <td>6</td>\n",
       "      <td>16</td>\n",
       "      <td>20</td>\n",
       "    </tr>\n",
       "    <tr>\n",
       "      <th>6</th>\n",
       "      <td>7</td>\n",
       "      <td>61</td>\n",
       "      <td>45</td>\n",
       "    </tr>\n",
       "    <tr>\n",
       "      <th>7</th>\n",
       "      <td>8</td>\n",
       "      <td>166</td>\n",
       "      <td>509</td>\n",
       "    </tr>\n",
       "    <tr>\n",
       "      <th>8</th>\n",
       "      <td>9</td>\n",
       "      <td>3</td>\n",
       "      <td>97</td>\n",
       "    </tr>\n",
       "    <tr>\n",
       "      <th>9</th>\n",
       "      <td>10</td>\n",
       "      <td>38</td>\n",
       "      <td>124</td>\n",
       "    </tr>\n",
       "    <tr>\n",
       "      <th>10</th>\n",
       "      <td>11</td>\n",
       "      <td>381</td>\n",
       "      <td>300</td>\n",
       "    </tr>\n",
       "    <tr>\n",
       "      <th>11</th>\n",
       "      <td>12</td>\n",
       "      <td>23</td>\n",
       "      <td>60</td>\n",
       "    </tr>\n",
       "    <tr>\n",
       "      <th>12</th>\n",
       "      <td>13</td>\n",
       "      <td>28</td>\n",
       "      <td>38</td>\n",
       "    </tr>\n",
       "    <tr>\n",
       "      <th>13</th>\n",
       "      <td>14</td>\n",
       "      <td>1</td>\n",
       "      <td>19</td>\n",
       "    </tr>\n",
       "    <tr>\n",
       "      <th>14</th>\n",
       "      <td>15</td>\n",
       "      <td>201</td>\n",
       "      <td>205</td>\n",
       "    </tr>\n",
       "    <tr>\n",
       "      <th>15</th>\n",
       "      <td>16</td>\n",
       "      <td>245</td>\n",
       "      <td>117</td>\n",
       "    </tr>\n",
       "    <tr>\n",
       "      <th>16</th>\n",
       "      <td>17</td>\n",
       "      <td>144</td>\n",
       "      <td>242</td>\n",
       "    </tr>\n",
       "    <tr>\n",
       "      <th>17</th>\n",
       "      <td>18</td>\n",
       "      <td>66</td>\n",
       "      <td>2</td>\n",
       "    </tr>\n",
       "    <tr>\n",
       "      <th>18</th>\n",
       "      <td>19</td>\n",
       "      <td>253</td>\n",
       "      <td>2</td>\n",
       "    </tr>\n",
       "    <tr>\n",
       "      <th>19</th>\n",
       "      <td>20</td>\n",
       "      <td>98</td>\n",
       "      <td>13</td>\n",
       "    </tr>\n",
       "    <tr>\n",
       "      <th>20</th>\n",
       "      <td>21</td>\n",
       "      <td>19</td>\n",
       "      <td>24</td>\n",
       "    </tr>\n",
       "    <tr>\n",
       "      <th>21</th>\n",
       "      <td>22</td>\n",
       "      <td>21</td>\n",
       "      <td>51</td>\n",
       "    </tr>\n",
       "    <tr>\n",
       "      <th>22</th>\n",
       "      <td>23</td>\n",
       "      <td>26</td>\n",
       "      <td>47</td>\n",
       "    </tr>\n",
       "    <tr>\n",
       "      <th>23</th>\n",
       "      <td>24</td>\n",
       "      <td>43</td>\n",
       "      <td>67</td>\n",
       "    </tr>\n",
       "    <tr>\n",
       "      <th>24</th>\n",
       "      <td>25</td>\n",
       "      <td>99</td>\n",
       "      <td>3</td>\n",
       "    </tr>\n",
       "    <tr>\n",
       "      <th>25</th>\n",
       "      <td>26</td>\n",
       "      <td>11</td>\n",
       "      <td>41</td>\n",
       "    </tr>\n",
       "    <tr>\n",
       "      <th>26</th>\n",
       "      <td>27</td>\n",
       "      <td>38</td>\n",
       "      <td>1</td>\n",
       "    </tr>\n",
       "    <tr>\n",
       "      <th>27</th>\n",
       "      <td>28</td>\n",
       "      <td>43</td>\n",
       "      <td>49</td>\n",
       "    </tr>\n",
       "    <tr>\n",
       "      <th>28</th>\n",
       "      <td>29</td>\n",
       "      <td>1</td>\n",
       "      <td>30</td>\n",
       "    </tr>\n",
       "    <tr>\n",
       "      <th>29</th>\n",
       "      <td>30</td>\n",
       "      <td>24</td>\n",
       "      <td>88</td>\n",
       "    </tr>\n",
       "    <tr>\n",
       "      <th>30</th>\n",
       "      <td>31</td>\n",
       "      <td>153</td>\n",
       "      <td>199</td>\n",
       "    </tr>\n",
       "    <tr>\n",
       "      <th>31</th>\n",
       "      <td>32</td>\n",
       "      <td>62</td>\n",
       "      <td>1</td>\n",
       "    </tr>\n",
       "    <tr>\n",
       "      <th>32</th>\n",
       "      <td>33</td>\n",
       "      <td>84</td>\n",
       "      <td>82</td>\n",
       "    </tr>\n",
       "  </tbody>\n",
       "</table>\n",
       "</div>"
      ],
      "text/plain": [
       "    ciudades_id  buffet  americana\n",
       "0             1      34         32\n",
       "1             2     185        116\n",
       "2             3      71         78\n",
       "3             4      51         74\n",
       "4             5      66         98\n",
       "5             6      16         20\n",
       "6             7      61         45\n",
       "7             8     166        509\n",
       "8             9       3         97\n",
       "9            10      38        124\n",
       "10           11     381        300\n",
       "11           12      23         60\n",
       "12           13      28         38\n",
       "13           14       1         19\n",
       "14           15     201        205\n",
       "15           16     245        117\n",
       "16           17     144        242\n",
       "17           18      66          2\n",
       "18           19     253          2\n",
       "19           20      98         13\n",
       "20           21      19         24\n",
       "21           22      21         51\n",
       "22           23      26         47\n",
       "23           24      43         67\n",
       "24           25      99          3\n",
       "25           26      11         41\n",
       "26           27      38          1\n",
       "27           28      43         49\n",
       "28           29       1         30\n",
       "29           30      24         88\n",
       "30           31     153        199\n",
       "31           32      62          1\n",
       "32           33      84         82"
      ]
     },
     "execution_count": 35,
     "metadata": {},
     "output_type": "execute_result"
    }
   ],
   "source": [
    "data"
   ]
  },
  {
   "cell_type": "code",
   "execution_count": null,
   "id": "7d92c368",
   "metadata": {},
   "outputs": [],
   "source": []
  }
 ],
 "metadata": {
  "finalized": {
   "timestamp": 1670851761863,
   "trusted": true
  },
  "kernelspec": {
   "display_name": "Python 3 (ipykernel)",
   "language": "python",
   "name": "python3"
  },
  "language_info": {
   "codemirror_mode": {
    "name": "ipython",
    "version": 3
   },
   "file_extension": ".py",
   "mimetype": "text/x-python",
   "name": "python",
   "nbconvert_exporter": "python",
   "pygments_lexer": "ipython3",
   "version": "3.9.12"
  }
 },
 "nbformat": 4,
 "nbformat_minor": 5
}
