{
 "cells": [
  {
   "cell_type": "code",
   "execution_count": 88,
   "id": "da7c5708",
   "metadata": {},
   "outputs": [],
   "source": [
    "import pandas as pd\n",
    "from selenium import webdriver\n",
    "\n",
    "import time\n",
    "from tqdm import tqdm\n",
    "import regex as re\n",
    "import warnings\n",
    "warnings.filterwarnings('ignore')\n",
    "\n",
    "from selenium.webdriver.chrome.options import Options\n",
    "from webdriver_manager.chrome import ChromeDriverManager\n",
    "from selenium.webdriver.common.by import By   # para buscar segun tag, id, class, etc...\n",
    "\n",
    "from selenium.webdriver.support.ui import WebDriverWait   # es para esperar\n",
    "\n",
    "from selenium.webdriver.support import expected_conditions as EC  # condiciones esperadas...\n",
    "\n",
    "from selenium.webdriver import ActionChains as AC   # acciones encadenadas, rollo doble click\n",
    "\n",
    "from selenium.webdriver.common.keys import Keys\n",
    "from selenium.webdriver.common.by import By\n",
    "\n",
    "PATH=ChromeDriverManager().install()"
   ]
  },
  {
   "cell_type": "code",
   "execution_count": 3,
   "id": "003eb458",
   "metadata": {},
   "outputs": [],
   "source": [
    "data= pd.read_excel('temperaturas.xlsx')"
   ]
  },
  {
   "cell_type": "code",
   "execution_count": 5,
   "id": "23c1df4a",
   "metadata": {},
   "outputs": [],
   "source": [
    "url = 'https://www.tripadvisor.com/CheapFlightsSearchResults-g294446-a_airport0.MAD-a_airport1.TIA-a_cos.0-a_date0.20221228-a_date1.20230102-a_formImp.f9a307c3__2D__31bb__2D__4f3b__2D__b7c5__2D__0037886bde16__2E__18990-a_nearby0.no-a_nearby1.no-a_nonstop.no-a_pax0.a-a_travelers.1-Tirana_Tirana_County.html'"
   ]
  },
  {
   "cell_type": "code",
   "execution_count": 5,
   "id": "8d1199df",
   "metadata": {},
   "outputs": [
    {
     "name": "stderr",
     "output_type": "stream",
     "text": [
      "2022-12-07 09:39:44,524 [4776] WARNING  py.warnings:109: [JupyterRequire] C:\\Users\\silsi\\AppData\\Local\\Temp\\ipykernel_4776\\1993680865.py:1: DeprecationWarning: executable_path has been deprecated, please pass in a Service object\n",
      "  driver=webdriver.Chrome(PATH)\n",
      "\n",
      "100%|██████████████████████████████████████████████████████████████████████████████████| 32/32 [04:51<00:00,  9.12s/it]\n"
     ]
    }
   ],
   "source": [
    "driver=webdriver.Chrome(PATH)\n",
    "driver.get(url)\n",
    "time.sleep(2)\n",
    "aceptar = driver.find_element(By.XPATH, '//*[@id=\"onetrust-accept-btn-handler\"]')\n",
    "aceptar.click()\n",
    "sort= driver.find_element(By.XPATH, '//*[@id=\"MAIN\"]/div/div[1]/div/div/div/div[1]/div/div[1]/div[1]/span/span/span[2]')\n",
    "sort.click()\n",
    "price = driver.find_element(By.XPATH,'//*[@id=\"BODY_BLOCK_JQUERY_REFLOW\"]/div[14]/div/div/div/ul/li[1]/div/div/span[2]')\n",
    "time.sleep(1)\n",
    "price.click()\n",
    "time.sleep(2)\n",
    "driver.execute_script('window.scrollTo(0, 200);')\n",
    "uno= driver.find_elements(By.CLASS_NAME,'JcwmL')[0]\n",
    "dos = uno.find_element(By.CLASS_NAME, 'OBuNK')\n",
    "precio= []\n",
    "precio.append(dos.text)\n",
    "\n",
    "\n",
    "lista= ['Viena', 'Minsk', 'Sofia', 'Copenhague', 'Ljubljana', 'Tallin', 'Paris',\n",
    "       'Atenas', 'Dublin', 'Rome', 'Vilna', 'Skopje', 'Chisinau', 'Amsterdam',\n",
    "       'Lisboa', 'Praga', 'Estocolmo', 'Berlin', 'Bruselas', 'Sarajevo',\n",
    "       'Zagreb', 'Bratislava', 'Helsinki', 'Budapest', 'Reykjavik', 'Rig',\n",
    "       'Luxemburgo', 'valet', 'Oslo', 'Varsovia', 'Bucarest', 'Serbia']\n",
    "for e in tqdm(lista):\n",
    "    \n",
    "    city = driver.find_element(By.XPATH,'//*[@id=\"component_1\"]/div/div[1]/div/div[2]/div[3]/div/div[1]/div[2]/div/div/div/input')\n",
    "    city.click()\n",
    "    city.send_keys(Keys.DELETE)\n",
    "    city.send_keys(e)\n",
    "    time.sleep(1)\n",
    "    city.send_keys(Keys.DOWN, Keys.RETURN)\n",
    "    driver.find_element(By.XPATH, '//*[@id=\"component_1\"]/div/div[1]/div/div[2]/div[3]/div/div[4]/button/div').click()\n",
    "    time.sleep(3)\n",
    "    sort= driver.find_element(By.XPATH, '//*[@id=\"MAIN\"]/div/div[1]/div/div/div/div[1]/div/div[1]/div[1]/span/span/span[2]')\n",
    "    sort.click()\n",
    "    price = driver.find_element(By.XPATH,'//*[@id=\"BODY_BLOCK_JQUERY_REFLOW\"]/div[14]/div/div/div/ul/li[1]/div/div/span[2]')\n",
    "    time.sleep(1)\n",
    "    price.click()\n",
    "    time.sleep(2)\n",
    "    driver.execute_script('window.scrollTo(0, 200);')\n",
    "    uno= driver.find_elements(By.CLASS_NAME,'JcwmL')[0]\n",
    "    dos = uno.find_element(By.CLASS_NAME, 'OBuNK')\n",
    "    precio.append(dos.text)\n",
    "driver.quit()\n",
    "\n"
   ]
  },
  {
   "cell_type": "code",
   "execution_count": 76,
   "id": "fffd4075",
   "metadata": {},
   "outputs": [],
   "source": [
    "vuelos = []\n",
    "num= []\n",
    "for e in precio:\n",
    "    if e == '€1,943':\n",
    "        vuelos.append(1943)\n",
    "    else:\n",
    "        num.append((re.findall('[0-9]+', e)))\n",
    "        for i in num:\n",
    "            for u in i:\n",
    "                vuelos.append(int(u))\n",
    "                num = []\n",
    "        "
   ]
  },
  {
   "cell_type": "code",
   "execution_count": 78,
   "id": "cd41bb69",
   "metadata": {},
   "outputs": [],
   "source": [
    "data['precio/vuelo']= vuelos"
   ]
  },
  {
   "cell_type": "code",
   "execution_count": 448,
   "id": "c2e22c2c",
   "metadata": {},
   "outputs": [],
   "source": [
    "data.to_excel('vuelos.xlsx', index = False)"
   ]
  },
  {
   "cell_type": "code",
   "execution_count": 10,
   "id": "e1a85b5b",
   "metadata": {},
   "outputs": [],
   "source": [
    "url= 'https://www.tripadvisor.es/'"
   ]
  },
  {
   "cell_type": "code",
   "execution_count": 11,
   "id": "500a1ac0",
   "metadata": {},
   "outputs": [],
   "source": [
    "lista= ['Viena', 'Minsk', 'Sofia', 'Copenhague', 'Ljubljana', 'Tallin', 'Paris',\n",
    "       'Atenas', 'Dublin', 'Rome', 'Vilna', 'Skopje', 'Chisinau', 'Amsterdam',\n",
    "       'Lisboa', 'Praga', 'Estocolmo', 'Berlin', 'Bruselas', 'Sarajevo',\n",
    "       'Zagreb', 'Bratislava', 'Helsinki', 'Budapest', 'Reykjavik', 'Rig',\n",
    "       'Luxemburgo', 'La valeta', 'Oslo', 'Varsovia', 'Bucarest', 'Serbia', 'Belgrado']"
   ]
  },
  {
   "cell_type": "code",
   "execution_count": 57,
   "id": "f36730a5",
   "metadata": {},
   "outputs": [],
   "source": [
    "links= []\n",
    "for e in tqdm(lista):\n",
    "    driver=webdriver.Chrome(PATH)\n",
    "    driver.get(url)\n",
    "    time.sleep(3)\n",
    "    driver.find_element(By.XPATH, '//*[@id=\"onetrust-accept-btn-handler\"]').click()\n",
    "    driver.execute_script('window.scrollTo(0, 200);')\n",
    "    buscar= driver.find_element(By.XPATH, '//*[@id=\"lithium-root\"]/main/div[3]/div/div/div/form/input[1]')\n",
    "    buscar.click()  \n",
    "    buscar.send_keys(e)\n",
    "    time.sleep(1)\n",
    "    buscar.send_keys(Keys.DOWN, Keys.RETURN)\n",
    "    time.sleep(3)\n",
    "    if e == 'Serbia' or e == 'Luxemburgo':\n",
    "        driver.execute_script('window.scrollTo(0, 1200);')\n",
    "        j= driver.find_elements(By.CLASS_NAME, 'Fofmq')[2]\n",
    "        links += [j.find_element(By.TAG_NAME, 'a').get_attribute('href')]\n",
    "        print(j.find_element(By.TAG_NAME, 'a').get_attribute('href'))\n",
    "    else:\n",
    "        driver.execute_script('window.scrollTo(0, 1800);')\n",
    "        j = driver.find_elements(By.CLASS_NAME, 'BYvbL')[1]\n",
    "        links += [j.find_element(By.TAG_NAME, 'a').get_attribute('href')]\n",
    "        print(j.find_element(By.TAG_NAME, 'a').get_attribute('href'))\n",
    "    driver.quit()"
   ]
  },
  {
   "cell_type": "code",
   "execution_count": 17,
   "id": "61acd972",
   "metadata": {},
   "outputs": [],
   "source": [
    "data= pd.read_excel('vuelos.xlsx')"
   ]
  },
  {
   "cell_type": "code",
   "execution_count": 18,
   "id": "c2a016f9",
   "metadata": {},
   "outputs": [],
   "source": [
    "data['links']= links"
   ]
  },
  {
   "cell_type": "code",
   "execution_count": 20,
   "id": "891b8d11",
   "metadata": {},
   "outputs": [],
   "source": [
    "data.to_excel('links.xlsx', index = False)"
   ]
  }
 ],
 "metadata": {
  "kernelspec": {
   "display_name": "Python 3 (ipykernel)",
   "language": "python",
   "name": "python3"
  },
  "language_info": {
   "codemirror_mode": {
    "name": "ipython",
    "version": 3
   },
   "file_extension": ".py",
   "mimetype": "text/x-python",
   "name": "python",
   "nbconvert_exporter": "python",
   "pygments_lexer": "ipython3",
   "version": "3.9.12"
  }
 },
 "nbformat": 4,
 "nbformat_minor": 5
}
