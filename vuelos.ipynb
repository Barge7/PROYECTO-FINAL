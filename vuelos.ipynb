{
 "cells": [
  {
   "cell_type": "code",
   "execution_count": 620,
   "id": "da7c5708",
   "metadata": {},
   "outputs": [],
   "source": [
    "import pandas as pd\n",
    "from selenium import webdriver\n",
    "\n",
    "import time\n",
    "from tqdm import tqdm\n",
    "from selenium.webdriver.chrome.options import Options\n",
    "from webdriver_manager.chrome import ChromeDriverManager\n",
    "from selenium.webdriver.common.by import By   # para buscar segun tag, id, class, etc...\n",
    "\n",
    "from selenium.webdriver.support.ui import WebDriverWait   # es para esperar\n",
    "\n",
    "from selenium.webdriver.support import expected_conditions as EC  # condiciones esperadas...\n",
    "\n",
    "from selenium.webdriver import ActionChains as AC   # acciones encadenadas, rollo doble click\n",
    "\n",
    "from selenium.webdriver.common.keys import Keys\n",
    "from selenium.webdriver.common.by import By\n",
    "\n",
    "PATH=ChromeDriverManager().install()"
   ]
  },
  {
   "cell_type": "code",
   "execution_count": 337,
   "id": "23c1df4a",
   "metadata": {},
   "outputs": [],
   "source": [
    "url = 'https://www.tripadvisor.com/CheapFlightsSearchResults-g294446-a_airport0.MAD-a_airport1.TIA-a_cos.0-a_date0.20221228-a_date1.20230102-a_formImp.f9a307c3__2D__31bb__2D__4f3b__2D__b7c5__2D__0037886bde16__2E__18990-a_nearby0.no-a_nearby1.no-a_nonstop.no-a_pax0.a-a_travelers.1-Tirana_Tirana_County.html'"
   ]
  },
  {
   "cell_type": "code",
   "execution_count": 633,
   "id": "8d1199df",
   "metadata": {},
   "outputs": [
    {
     "name": "stderr",
     "output_type": "stream",
     "text": [
      "2022-12-06 21:22:26,233 [22612] WARNING  py.warnings:109: [JupyterRequire] C:\\Users\\silsi\\AppData\\Local\\Temp\\ipykernel_22612\\2408331271.py:1: DeprecationWarning: executable_path has been deprecated, please pass in a Service object\n",
      "  driver=webdriver.Chrome(PATH)\n",
      "\n",
      " 88%|███████████████████████████████████████████████████████████████████████▊          | 28/32 [04:39<00:39,  9.99s/it]\n"
     ]
    },
    {
     "ename": "NoSuchElementException",
     "evalue": "Message: no such element: Unable to locate element: {\"method\":\"xpath\",\"selector\":\"//*[@id=\"MAIN\"]/div/div[1]/div/div/div/div[1]/div/div[1]/div[1]/span/span/span[2]\"}\n  (Session info: chrome=108.0.5359.94)\nStacktrace:\nBacktrace:\n\t(No symbol) [0x005EF243]\n\t(No symbol) [0x00577FD1]\n\t(No symbol) [0x0046D04D]\n\t(No symbol) [0x0049C0B0]\n\t(No symbol) [0x0049C22B]\n\t(No symbol) [0x004CE612]\n\t(No symbol) [0x004B85D4]\n\t(No symbol) [0x004CC9EB]\n\t(No symbol) [0x004B8386]\n\t(No symbol) [0x0049163C]\n\t(No symbol) [0x0049269D]\n\tGetHandleVerifier [0x00889A22+2655074]\n\tGetHandleVerifier [0x0087CA24+2601828]\n\tGetHandleVerifier [0x00698C0A+619850]\n\tGetHandleVerifier [0x00697830+614768]\n\t(No symbol) [0x005805FC]\n\t(No symbol) [0x00585968]\n\t(No symbol) [0x00585A55]\n\t(No symbol) [0x0059051B]\n\tBaseThreadInitThunk [0x75B06939+25]\n\tRtlGetFullPathName_UEx [0x77DD8FD2+1218]\n\tRtlGetFullPathName_UEx [0x77DD8F9D+1165]\n",
     "output_type": "error",
     "traceback": [
      "\u001b[1;31m---------------------------------------------------------------------------\u001b[0m",
      "\u001b[1;31mNoSuchElementException\u001b[0m                    Traceback (most recent call last)",
      "Input \u001b[1;32mIn [633]\u001b[0m, in \u001b[0;36m<cell line: 24>\u001b[1;34m()\u001b[0m\n\u001b[0;32m     32\u001b[0m driver\u001b[38;5;241m.\u001b[39mfind_element(By\u001b[38;5;241m.\u001b[39mXPATH, \u001b[38;5;124m'\u001b[39m\u001b[38;5;124m//*[@id=\u001b[39m\u001b[38;5;124m\"\u001b[39m\u001b[38;5;124mcomponent_1\u001b[39m\u001b[38;5;124m\"\u001b[39m\u001b[38;5;124m]/div/div[1]/div/div[2]/div[3]/div/div[4]/button/div\u001b[39m\u001b[38;5;124m'\u001b[39m)\u001b[38;5;241m.\u001b[39mclick()\n\u001b[0;32m     33\u001b[0m time\u001b[38;5;241m.\u001b[39msleep(\u001b[38;5;241m3\u001b[39m)\n\u001b[1;32m---> 34\u001b[0m sort\u001b[38;5;241m=\u001b[39m \u001b[43mdriver\u001b[49m\u001b[38;5;241;43m.\u001b[39;49m\u001b[43mfind_element\u001b[49m\u001b[43m(\u001b[49m\u001b[43mBy\u001b[49m\u001b[38;5;241;43m.\u001b[39;49m\u001b[43mXPATH\u001b[49m\u001b[43m,\u001b[49m\u001b[43m \u001b[49m\u001b[38;5;124;43m'\u001b[39;49m\u001b[38;5;124;43m//*[@id=\u001b[39;49m\u001b[38;5;124;43m\"\u001b[39;49m\u001b[38;5;124;43mMAIN\u001b[39;49m\u001b[38;5;124;43m\"\u001b[39;49m\u001b[38;5;124;43m]/div/div[1]/div/div/div/div[1]/div/div[1]/div[1]/span/span/span[2]\u001b[39;49m\u001b[38;5;124;43m'\u001b[39;49m\u001b[43m)\u001b[49m\n\u001b[0;32m     35\u001b[0m sort\u001b[38;5;241m.\u001b[39mclick()\n\u001b[0;32m     36\u001b[0m price \u001b[38;5;241m=\u001b[39m driver\u001b[38;5;241m.\u001b[39mfind_element(By\u001b[38;5;241m.\u001b[39mXPATH,\u001b[38;5;124m'\u001b[39m\u001b[38;5;124m//*[@id=\u001b[39m\u001b[38;5;124m\"\u001b[39m\u001b[38;5;124mBODY_BLOCK_JQUERY_REFLOW\u001b[39m\u001b[38;5;124m\"\u001b[39m\u001b[38;5;124m]/div[14]/div/div/div/ul/li[1]/div/div/span[2]\u001b[39m\u001b[38;5;124m'\u001b[39m)\n",
      "File \u001b[1;32m~\\anaconda3\\lib\\site-packages\\selenium\\webdriver\\remote\\webdriver.py:861\u001b[0m, in \u001b[0;36mWebDriver.find_element\u001b[1;34m(self, by, value)\u001b[0m\n\u001b[0;32m    858\u001b[0m     by \u001b[38;5;241m=\u001b[39m By\u001b[38;5;241m.\u001b[39mCSS_SELECTOR\n\u001b[0;32m    859\u001b[0m     value \u001b[38;5;241m=\u001b[39m \u001b[38;5;124m'\u001b[39m\u001b[38;5;124m[name=\u001b[39m\u001b[38;5;124m\"\u001b[39m\u001b[38;5;132;01m%s\u001b[39;00m\u001b[38;5;124m\"\u001b[39m\u001b[38;5;124m]\u001b[39m\u001b[38;5;124m'\u001b[39m \u001b[38;5;241m%\u001b[39m value\n\u001b[1;32m--> 861\u001b[0m \u001b[38;5;28;01mreturn\u001b[39;00m \u001b[38;5;28;43mself\u001b[39;49m\u001b[38;5;241;43m.\u001b[39;49m\u001b[43mexecute\u001b[49m\u001b[43m(\u001b[49m\u001b[43mCommand\u001b[49m\u001b[38;5;241;43m.\u001b[39;49m\u001b[43mFIND_ELEMENT\u001b[49m\u001b[43m,\u001b[49m\u001b[43m \u001b[49m\u001b[43m{\u001b[49m\u001b[38;5;124;43m\"\u001b[39;49m\u001b[38;5;124;43musing\u001b[39;49m\u001b[38;5;124;43m\"\u001b[39;49m\u001b[43m:\u001b[49m\u001b[43m \u001b[49m\u001b[43mby\u001b[49m\u001b[43m,\u001b[49m\u001b[43m \u001b[49m\u001b[38;5;124;43m\"\u001b[39;49m\u001b[38;5;124;43mvalue\u001b[39;49m\u001b[38;5;124;43m\"\u001b[39;49m\u001b[43m:\u001b[49m\u001b[43m \u001b[49m\u001b[43mvalue\u001b[49m\u001b[43m}\u001b[49m\u001b[43m)\u001b[49m[\u001b[38;5;124m\"\u001b[39m\u001b[38;5;124mvalue\u001b[39m\u001b[38;5;124m\"\u001b[39m]\n",
      "File \u001b[1;32m~\\anaconda3\\lib\\site-packages\\selenium\\webdriver\\remote\\webdriver.py:444\u001b[0m, in \u001b[0;36mWebDriver.execute\u001b[1;34m(self, driver_command, params)\u001b[0m\n\u001b[0;32m    442\u001b[0m response \u001b[38;5;241m=\u001b[39m \u001b[38;5;28mself\u001b[39m\u001b[38;5;241m.\u001b[39mcommand_executor\u001b[38;5;241m.\u001b[39mexecute(driver_command, params)\n\u001b[0;32m    443\u001b[0m \u001b[38;5;28;01mif\u001b[39;00m response:\n\u001b[1;32m--> 444\u001b[0m     \u001b[38;5;28;43mself\u001b[39;49m\u001b[38;5;241;43m.\u001b[39;49m\u001b[43merror_handler\u001b[49m\u001b[38;5;241;43m.\u001b[39;49m\u001b[43mcheck_response\u001b[49m\u001b[43m(\u001b[49m\u001b[43mresponse\u001b[49m\u001b[43m)\u001b[49m\n\u001b[0;32m    445\u001b[0m     response[\u001b[38;5;124m\"\u001b[39m\u001b[38;5;124mvalue\u001b[39m\u001b[38;5;124m\"\u001b[39m] \u001b[38;5;241m=\u001b[39m \u001b[38;5;28mself\u001b[39m\u001b[38;5;241m.\u001b[39m_unwrap_value(response\u001b[38;5;241m.\u001b[39mget(\u001b[38;5;124m\"\u001b[39m\u001b[38;5;124mvalue\u001b[39m\u001b[38;5;124m\"\u001b[39m, \u001b[38;5;28;01mNone\u001b[39;00m))\n\u001b[0;32m    446\u001b[0m     \u001b[38;5;28;01mreturn\u001b[39;00m response\n",
      "File \u001b[1;32m~\\anaconda3\\lib\\site-packages\\selenium\\webdriver\\remote\\errorhandler.py:249\u001b[0m, in \u001b[0;36mErrorHandler.check_response\u001b[1;34m(self, response)\u001b[0m\n\u001b[0;32m    247\u001b[0m         alert_text \u001b[38;5;241m=\u001b[39m value[\u001b[38;5;124m\"\u001b[39m\u001b[38;5;124malert\u001b[39m\u001b[38;5;124m\"\u001b[39m]\u001b[38;5;241m.\u001b[39mget(\u001b[38;5;124m\"\u001b[39m\u001b[38;5;124mtext\u001b[39m\u001b[38;5;124m\"\u001b[39m)\n\u001b[0;32m    248\u001b[0m     \u001b[38;5;28;01mraise\u001b[39;00m exception_class(message, screen, stacktrace, alert_text)  \u001b[38;5;66;03m# type: ignore[call-arg]  # mypy is not smart enough here\u001b[39;00m\n\u001b[1;32m--> 249\u001b[0m \u001b[38;5;28;01mraise\u001b[39;00m exception_class(message, screen, stacktrace)\n",
      "\u001b[1;31mNoSuchElementException\u001b[0m: Message: no such element: Unable to locate element: {\"method\":\"xpath\",\"selector\":\"//*[@id=\"MAIN\"]/div/div[1]/div/div/div/div[1]/div/div[1]/div[1]/span/span/span[2]\"}\n  (Session info: chrome=108.0.5359.94)\nStacktrace:\nBacktrace:\n\t(No symbol) [0x005EF243]\n\t(No symbol) [0x00577FD1]\n\t(No symbol) [0x0046D04D]\n\t(No symbol) [0x0049C0B0]\n\t(No symbol) [0x0049C22B]\n\t(No symbol) [0x004CE612]\n\t(No symbol) [0x004B85D4]\n\t(No symbol) [0x004CC9EB]\n\t(No symbol) [0x004B8386]\n\t(No symbol) [0x0049163C]\n\t(No symbol) [0x0049269D]\n\tGetHandleVerifier [0x00889A22+2655074]\n\tGetHandleVerifier [0x0087CA24+2601828]\n\tGetHandleVerifier [0x00698C0A+619850]\n\tGetHandleVerifier [0x00697830+614768]\n\t(No symbol) [0x005805FC]\n\t(No symbol) [0x00585968]\n\t(No symbol) [0x00585A55]\n\t(No symbol) [0x0059051B]\n\tBaseThreadInitThunk [0x75B06939+25]\n\tRtlGetFullPathName_UEx [0x77DD8FD2+1218]\n\tRtlGetFullPathName_UEx [0x77DD8F9D+1165]\n"
     ]
    }
   ],
   "source": [
    "driver=webdriver.Chrome(PATH)\n",
    "driver.get(url)\n",
    "time.sleep(2)\n",
    "aceptar = driver.find_element(By.XPATH, '//*[@id=\"onetrust-accept-btn-handler\"]')\n",
    "aceptar.click()\n",
    "sort= driver.find_element(By.XPATH, '//*[@id=\"MAIN\"]/div/div[1]/div/div/div/div[1]/div/div[1]/div[1]/span/span/span[2]')\n",
    "sort.click()\n",
    "price = driver.find_element(By.XPATH,'//*[@id=\"BODY_BLOCK_JQUERY_REFLOW\"]/div[14]/div/div/div/ul/li[1]/div/div/span[2]')\n",
    "time.sleep(1)\n",
    "price.click()\n",
    "time.sleep(2)\n",
    "driver.execute_script('window.scrollTo(0, 200);')\n",
    "uno= driver.find_elements(By.CLASS_NAME,'JcwmL')[0]\n",
    "dos = uno.find_element(By.CLASS_NAME, 'OBuNK')\n",
    "precio= []\n",
    "precio.append(dos.text)\n",
    "\n",
    "\n",
    "lista= ['Viena', 'Minsk', 'Sofia', 'Copenhague', 'Ljubljana', 'Tallin', 'Paris',\n",
    "       'Atenas', 'Dublin', 'Rome', 'Vilna', 'Skopje', 'Chisinau', 'Amsterdam',\n",
    "       'Lisboa', 'Praga', 'Estocolmo', 'Berlin', 'Bruselas', 'Sarajevo',\n",
    "       'Zagreb', 'Bratislava', 'Helsinki', 'Budapest', 'Reykjavik', 'Rig',\n",
    "       'Luxemburgo', 'valet', 'Oslo', 'Varsovia', 'Bucarest','Serbia']\n",
    "for e in tqdm(lista):\n",
    "    \n",
    "    city = driver.find_element(By.XPATH,'//*[@id=\"component_1\"]/div/div[1]/div/div[2]/div[3]/div/div[1]/div[2]/div/div/div/input')\n",
    "    city.click()\n",
    "    city.send_keys(Keys.DELETE)\n",
    "    city.send_keys(e)\n",
    "    time.sleep(1)\n",
    "    city.send_keys(Keys.DOWN, Keys.RETURN)\n",
    "    driver.find_element(By.XPATH, '//*[@id=\"component_1\"]/div/div[1]/div/div[2]/div[3]/div/div[4]/button/div').click()\n",
    "    time.sleep(3)\n",
    "    sort= driver.find_element(By.XPATH, '//*[@id=\"MAIN\"]/div/div[1]/div/div/div/div[1]/div/div[1]/div[1]/span/span/span[2]')\n",
    "    sort.click()\n",
    "    price = driver.find_element(By.XPATH,'//*[@id=\"BODY_BLOCK_JQUERY_REFLOW\"]/div[14]/div/div/div/ul/li[1]/div/div/span[2]')\n",
    "    time.sleep(1)\n",
    "    price.click()\n",
    "    time.sleep(2)\n",
    "    driver.execute_script('window.scrollTo(0, 200);')\n",
    "    uno= driver.find_elements(By.CLASS_NAME,'JcwmL')[0]\n",
    "    dos = uno.find_element(By.CLASS_NAME, 'OBuNK')\n",
    "    precio.append(dos.text)\n",
    "\n"
   ]
  },
  {
   "cell_type": "code",
   "execution_count": 610,
   "id": "75a95646",
   "metadata": {},
   "outputs": [],
   "source": [
    "city.send_keys('Minsk')"
   ]
  },
  {
   "cell_type": "code",
   "execution_count": 611,
   "id": "11aa2341",
   "metadata": {},
   "outputs": [],
   "source": [
    "city.send_keys(Keys.DOWN, Keys.RETURN)"
   ]
  },
  {
   "cell_type": "code",
   "execution_count": 612,
   "id": "44b86aa6",
   "metadata": {},
   "outputs": [],
   "source": [
    "driver.find_element(By.XPATH, '//*[@id=\"component_1\"]/div/div[1]/div/div[2]/div[3]/div/div[4]/button/div').click()"
   ]
  },
  {
   "cell_type": "code",
   "execution_count": 631,
   "id": "fffd4075",
   "metadata": {},
   "outputs": [
    {
     "data": {
      "text/plain": [
       "['€220',\n",
       " '€175',\n",
       " '€1,969',\n",
       " '€239',\n",
       " '€108',\n",
       " '€323',\n",
       " '€326',\n",
       " '€215',\n",
       " '€318',\n",
       " '€40',\n",
       " '€190',\n",
       " '€223',\n",
       " '€380',\n",
       " '€365',\n",
       " '€156',\n",
       " '€45',\n",
       " '€289',\n",
       " '€221',\n",
       " '€201',\n",
       " '€130',\n",
       " '€341',\n",
       " '€293',\n",
       " '€246',\n",
       " '€350',\n",
       " '€162',\n",
       " '€285',\n",
       " '€355',\n",
       " '€142',\n",
       " '€230',\n",
       " '€339',\n",
       " '€173',\n",
       " '€186']"
      ]
     },
     "execution_count": 631,
     "metadata": {},
     "output_type": "execute_result"
    }
   ],
   "source": [
    "precio"
   ]
  },
  {
   "cell_type": "code",
   "execution_count": null,
   "id": "cd41bb69",
   "metadata": {},
   "outputs": [],
   "source": []
  },
  {
   "cell_type": "code",
   "execution_count": null,
   "id": "c2e22c2c",
   "metadata": {},
   "outputs": [],
   "source": []
  },
  {
   "cell_type": "code",
   "execution_count": null,
   "id": "52c9d104",
   "metadata": {},
   "outputs": [],
   "source": []
  },
  {
   "cell_type": "code",
   "execution_count": 417,
   "id": "e0218401",
   "metadata": {},
   "outputs": [],
   "source": [
    "city = driver.find_element(By.XPATH,'//*[@id=\"component_1\"]/div/div[1]/div/div[2]/div[3]/div/div[1]/div[2]/div/div/div/input').clear()"
   ]
  },
  {
   "cell_type": "code",
   "execution_count": 405,
   "id": "13417926",
   "metadata": {},
   "outputs": [],
   "source": [
    "city = driver.find_element(By.XPATH,'//*[@id=\"component_1\"]/div/div[1]/div/div[2]/div[3]/div/div[1]/div[2]/div/div/div/input')"
   ]
  },
  {
   "cell_type": "code",
   "execution_count": 406,
   "id": "754485dd",
   "metadata": {},
   "outputs": [],
   "source": [
    "city.send_keys('Minsk')"
   ]
  },
  {
   "cell_type": "code",
   "execution_count": 407,
   "id": "28f94517",
   "metadata": {},
   "outputs": [],
   "source": [
    "city.send_keys(Keys.DOWN, Keys.RETURN)"
   ]
  },
  {
   "cell_type": "code",
   "execution_count": null,
   "id": "dc3d74c8",
   "metadata": {},
   "outputs": [],
   "source": [
    "driver.find_element(By.XPATH, '//*[@id=\"component_1\"]/div/div[1]/div/div[2]/div[3]/div/div[4]/button/div').click()"
   ]
  },
  {
   "cell_type": "code",
   "execution_count": null,
   "id": "6f1f59a3",
   "metadata": {},
   "outputs": [],
   "source": []
  },
  {
   "cell_type": "code",
   "execution_count": null,
   "id": "813d7c05",
   "metadata": {},
   "outputs": [],
   "source": []
  },
  {
   "cell_type": "code",
   "execution_count": null,
   "id": "64fc5111",
   "metadata": {},
   "outputs": [],
   "source": []
  },
  {
   "cell_type": "code",
   "execution_count": null,
   "id": "9325457b",
   "metadata": {},
   "outputs": [],
   "source": []
  }
 ],
 "metadata": {
  "kernelspec": {
   "display_name": "Python 3 (ipykernel)",
   "language": "python",
   "name": "python3"
  },
  "language_info": {
   "codemirror_mode": {
    "name": "ipython",
    "version": 3
   },
   "file_extension": ".py",
   "mimetype": "text/x-python",
   "name": "python",
   "nbconvert_exporter": "python",
   "pygments_lexer": "ipython3",
   "version": "3.9.12"
  }
 },
 "nbformat": 4,
 "nbformat_minor": 5
}
