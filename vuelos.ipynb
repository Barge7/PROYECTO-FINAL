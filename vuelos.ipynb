{
 "cells": [
  {
   "cell_type": "code",
   "execution_count": 14,
   "id": "da7c5708",
   "metadata": {},
   "outputs": [],
   "source": [
    "import pandas as pd\n",
    "from selenium import webdriver\n",
    "\n",
    "import time\n",
    "from tqdm import tqdm\n",
    "import regex as re\n",
    "from selenium.webdriver.chrome.options import Options\n",
    "from webdriver_manager.chrome import ChromeDriverManager\n",
    "from selenium.webdriver.common.by import By   # para buscar segun tag, id, class, etc...\n",
    "\n",
    "from selenium.webdriver.support.ui import WebDriverWait   # es para esperar\n",
    "\n",
    "from selenium.webdriver.support import expected_conditions as EC  # condiciones esperadas...\n",
    "\n",
    "from selenium.webdriver import ActionChains as AC   # acciones encadenadas, rollo doble click\n",
    "\n",
    "from selenium.webdriver.common.keys import Keys\n",
    "from selenium.webdriver.common.by import By\n",
    "\n",
    "PATH=ChromeDriverManager().install()"
   ]
  },
  {
   "cell_type": "code",
   "execution_count": 10,
   "id": "516c6d60",
   "metadata": {},
   "outputs": [],
   "source": [
    "data= pd.read_excel('temperaturas.xlsx')"
   ]
  },
  {
   "cell_type": "code",
   "execution_count": 2,
   "id": "23c1df4a",
   "metadata": {},
   "outputs": [],
   "source": [
    "url = 'https://www.tripadvisor.com/CheapFlightsSearchResults-g294446-a_airport0.MAD-a_airport1.TIA-a_cos.0-a_date0.20221228-a_date1.20230102-a_formImp.f9a307c3__2D__31bb__2D__4f3b__2D__b7c5__2D__0037886bde16__2E__18990-a_nearby0.no-a_nearby1.no-a_nonstop.no-a_pax0.a-a_travelers.1-Tirana_Tirana_County.html'"
   ]
  },
  {
   "cell_type": "code",
   "execution_count": 5,
   "id": "8d1199df",
   "metadata": {},
   "outputs": [
    {
     "name": "stderr",
     "output_type": "stream",
     "text": [
      "2022-12-07 09:39:44,524 [4776] WARNING  py.warnings:109: [JupyterRequire] C:\\Users\\silsi\\AppData\\Local\\Temp\\ipykernel_4776\\1993680865.py:1: DeprecationWarning: executable_path has been deprecated, please pass in a Service object\n",
      "  driver=webdriver.Chrome(PATH)\n",
      "\n",
      "100%|██████████████████████████████████████████████████████████████████████████████████| 32/32 [04:51<00:00,  9.12s/it]\n"
     ]
    }
   ],
   "source": [
    "driver=webdriver.Chrome(PATH)\n",
    "driver.get(url)\n",
    "time.sleep(2)\n",
    "aceptar = driver.find_element(By.XPATH, '//*[@id=\"onetrust-accept-btn-handler\"]')\n",
    "aceptar.click()\n",
    "sort= driver.find_element(By.XPATH, '//*[@id=\"MAIN\"]/div/div[1]/div/div/div/div[1]/div/div[1]/div[1]/span/span/span[2]')\n",
    "sort.click()\n",
    "price = driver.find_element(By.XPATH,'//*[@id=\"BODY_BLOCK_JQUERY_REFLOW\"]/div[14]/div/div/div/ul/li[1]/div/div/span[2]')\n",
    "time.sleep(1)\n",
    "price.click()\n",
    "time.sleep(2)\n",
    "driver.execute_script('window.scrollTo(0, 200);')\n",
    "uno= driver.find_elements(By.CLASS_NAME,'JcwmL')[0]\n",
    "dos = uno.find_element(By.CLASS_NAME, 'OBuNK')\n",
    "precio= []\n",
    "precio.append(dos.text)\n",
    "\n",
    "\n",
    "lista= ['Viena', 'Minsk', 'Sofia', 'Copenhague', 'Ljubljana', 'Tallin', 'Paris',\n",
    "       'Atenas', 'Dublin', 'Rome', 'Vilna', 'Skopje', 'Chisinau', 'Amsterdam',\n",
    "       'Lisboa', 'Praga', 'Estocolmo', 'Berlin', 'Bruselas', 'Sarajevo',\n",
    "       'Zagreb', 'Bratislava', 'Helsinki', 'Budapest', 'Reykjavik', 'Rig',\n",
    "       'Luxemburgo', 'valet', 'Oslo', 'Varsovia', 'Bucarest', 'Serbia']\n",
    "for e in tqdm(lista):\n",
    "    \n",
    "    city = driver.find_element(By.XPATH,'//*[@id=\"component_1\"]/div/div[1]/div/div[2]/div[3]/div/div[1]/div[2]/div/div/div/input')\n",
    "    city.click()\n",
    "    city.send_keys(Keys.DELETE)\n",
    "    city.send_keys(e)\n",
    "    time.sleep(1)\n",
    "    city.send_keys(Keys.DOWN, Keys.RETURN)\n",
    "    driver.find_element(By.XPATH, '//*[@id=\"component_1\"]/div/div[1]/div/div[2]/div[3]/div/div[4]/button/div').click()\n",
    "    time.sleep(3)\n",
    "    sort= driver.find_element(By.XPATH, '//*[@id=\"MAIN\"]/div/div[1]/div/div/div/div[1]/div/div[1]/div[1]/span/span/span[2]')\n",
    "    sort.click()\n",
    "    price = driver.find_element(By.XPATH,'//*[@id=\"BODY_BLOCK_JQUERY_REFLOW\"]/div[14]/div/div/div/ul/li[1]/div/div/span[2]')\n",
    "    time.sleep(1)\n",
    "    price.click()\n",
    "    time.sleep(2)\n",
    "    driver.execute_script('window.scrollTo(0, 200);')\n",
    "    uno= driver.find_elements(By.CLASS_NAME,'JcwmL')[0]\n",
    "    dos = uno.find_element(By.CLASS_NAME, 'OBuNK')\n",
    "    precio.append(dos.text)\n",
    "driver.quit()\n",
    "\n"
   ]
  },
  {
   "cell_type": "code",
   "execution_count": 76,
   "id": "fffd4075",
   "metadata": {},
   "outputs": [],
   "source": [
    "vuelos = []\n",
    "num= []\n",
    "for e in precio:\n",
    "    if e == '€1,943':\n",
    "        vuelos.append(1943)\n",
    "    else:\n",
    "        num.append((re.findall('[0-9]+', e)))\n",
    "        for i in num:\n",
    "            for u in i:\n",
    "                vuelos.append(int(u))\n",
    "                num = []\n",
    "        "
   ]
  },
  {
   "cell_type": "code",
   "execution_count": 78,
   "id": "cd41bb69",
   "metadata": {},
   "outputs": [],
   "source": [
    "data['precio/vuelo']= vuelos"
   ]
  },
  {
   "cell_type": "code",
   "execution_count": 79,
   "id": "c2e22c2c",
   "metadata": {},
   "outputs": [
    {
     "data": {
      "text/html": [
       "<div>\n",
       "<style scoped>\n",
       "    .dataframe tbody tr th:only-of-type {\n",
       "        vertical-align: middle;\n",
       "    }\n",
       "\n",
       "    .dataframe tbody tr th {\n",
       "        vertical-align: top;\n",
       "    }\n",
       "\n",
       "    .dataframe thead th {\n",
       "        text-align: right;\n",
       "    }\n",
       "</style>\n",
       "<table border=\"1\" class=\"dataframe\">\n",
       "  <thead>\n",
       "    <tr style=\"text-align: right;\">\n",
       "      <th></th>\n",
       "      <th>ciudad</th>\n",
       "      <th>T/m dic 2021</th>\n",
       "      <th>precio/vuelo</th>\n",
       "    </tr>\n",
       "  </thead>\n",
       "  <tbody>\n",
       "    <tr>\n",
       "      <th>0</th>\n",
       "      <td>Albania-Tirana</td>\n",
       "      <td>7.6</td>\n",
       "      <td>220</td>\n",
       "    </tr>\n",
       "    <tr>\n",
       "      <th>1</th>\n",
       "      <td>Austria-Viena</td>\n",
       "      <td>4.2</td>\n",
       "      <td>173</td>\n",
       "    </tr>\n",
       "    <tr>\n",
       "      <th>2</th>\n",
       "      <td>Bielorrusia-Minsk</td>\n",
       "      <td>-3.9</td>\n",
       "      <td>1943</td>\n",
       "    </tr>\n",
       "    <tr>\n",
       "      <th>3</th>\n",
       "      <td>Bulgaria-Sofia</td>\n",
       "      <td>2.0</td>\n",
       "      <td>238</td>\n",
       "    </tr>\n",
       "    <tr>\n",
       "      <th>4</th>\n",
       "      <td>Dinamarca-Copenhague</td>\n",
       "      <td>2.2</td>\n",
       "      <td>107</td>\n",
       "    </tr>\n",
       "    <tr>\n",
       "      <th>5</th>\n",
       "      <td>Eslovenia-Liubliana</td>\n",
       "      <td>1.2</td>\n",
       "      <td>321</td>\n",
       "    </tr>\n",
       "    <tr>\n",
       "      <th>6</th>\n",
       "      <td>Estonia-Tallín</td>\n",
       "      <td>-6.2</td>\n",
       "      <td>326</td>\n",
       "    </tr>\n",
       "    <tr>\n",
       "      <th>7</th>\n",
       "      <td>Francia-Paris</td>\n",
       "      <td>7.0</td>\n",
       "      <td>214</td>\n",
       "    </tr>\n",
       "    <tr>\n",
       "      <th>8</th>\n",
       "      <td>Grecia-Atenas</td>\n",
       "      <td>12.2</td>\n",
       "      <td>318</td>\n",
       "    </tr>\n",
       "    <tr>\n",
       "      <th>9</th>\n",
       "      <td>Irlanda-Dublin</td>\n",
       "      <td>7.0</td>\n",
       "      <td>41</td>\n",
       "    </tr>\n",
       "    <tr>\n",
       "      <th>10</th>\n",
       "      <td>Italia-Roma</td>\n",
       "      <td>9.2</td>\n",
       "      <td>190</td>\n",
       "    </tr>\n",
       "    <tr>\n",
       "      <th>11</th>\n",
       "      <td>Lituania-Vilna</td>\n",
       "      <td>-3.9</td>\n",
       "      <td>269</td>\n",
       "    </tr>\n",
       "    <tr>\n",
       "      <th>12</th>\n",
       "      <td>Macedonia-Skopie</td>\n",
       "      <td>2.9</td>\n",
       "      <td>380</td>\n",
       "    </tr>\n",
       "    <tr>\n",
       "      <th>13</th>\n",
       "      <td>Moldavia-Chisinau</td>\n",
       "      <td>0.4</td>\n",
       "      <td>370</td>\n",
       "    </tr>\n",
       "    <tr>\n",
       "      <th>14</th>\n",
       "      <td>Paises Bajos-Amsterdam</td>\n",
       "      <td>5.7</td>\n",
       "      <td>153</td>\n",
       "    </tr>\n",
       "    <tr>\n",
       "      <th>15</th>\n",
       "      <td>Portugal-Lisboa</td>\n",
       "      <td>13.8</td>\n",
       "      <td>45</td>\n",
       "    </tr>\n",
       "    <tr>\n",
       "      <th>16</th>\n",
       "      <td>República Checa-Praga</td>\n",
       "      <td>1.3</td>\n",
       "      <td>286</td>\n",
       "    </tr>\n",
       "    <tr>\n",
       "      <th>17</th>\n",
       "      <td>Suecia-Estocolmo</td>\n",
       "      <td>-2.4</td>\n",
       "      <td>221</td>\n",
       "    </tr>\n",
       "    <tr>\n",
       "      <th>18</th>\n",
       "      <td>Alemania-Berlin</td>\n",
       "      <td>1.9</td>\n",
       "      <td>199</td>\n",
       "    </tr>\n",
       "    <tr>\n",
       "      <th>19</th>\n",
       "      <td>Belgica-Bruselas</td>\n",
       "      <td>5.8</td>\n",
       "      <td>131</td>\n",
       "    </tr>\n",
       "    <tr>\n",
       "      <th>20</th>\n",
       "      <td>Bosnia Hercegovina-Sarajevo</td>\n",
       "      <td>2.3</td>\n",
       "      <td>324</td>\n",
       "    </tr>\n",
       "    <tr>\n",
       "      <th>21</th>\n",
       "      <td>Croacia-Zagreb</td>\n",
       "      <td>2.9</td>\n",
       "      <td>293</td>\n",
       "    </tr>\n",
       "    <tr>\n",
       "      <th>22</th>\n",
       "      <td>Eslovaquia-Bratislava</td>\n",
       "      <td>2.3</td>\n",
       "      <td>246</td>\n",
       "    </tr>\n",
       "    <tr>\n",
       "      <th>23</th>\n",
       "      <td>Finlandia-Helsinki</td>\n",
       "      <td>-6.7</td>\n",
       "      <td>350</td>\n",
       "    </tr>\n",
       "    <tr>\n",
       "      <th>24</th>\n",
       "      <td>Hungría-Budapest</td>\n",
       "      <td>1.2</td>\n",
       "      <td>158</td>\n",
       "    </tr>\n",
       "    <tr>\n",
       "      <th>25</th>\n",
       "      <td>Islandia-Reikiavik</td>\n",
       "      <td>1.6</td>\n",
       "      <td>285</td>\n",
       "    </tr>\n",
       "    <tr>\n",
       "      <th>26</th>\n",
       "      <td>Letonia-Riga</td>\n",
       "      <td>-2.0</td>\n",
       "      <td>311</td>\n",
       "    </tr>\n",
       "    <tr>\n",
       "      <th>27</th>\n",
       "      <td>Luxemburgo-Luxemburgo</td>\n",
       "      <td>3.7</td>\n",
       "      <td>140</td>\n",
       "    </tr>\n",
       "    <tr>\n",
       "      <th>28</th>\n",
       "      <td>Malta-La Valeta</td>\n",
       "      <td>13.5</td>\n",
       "      <td>216</td>\n",
       "    </tr>\n",
       "    <tr>\n",
       "      <th>29</th>\n",
       "      <td>Noruega-Oslo</td>\n",
       "      <td>-4.8</td>\n",
       "      <td>233</td>\n",
       "    </tr>\n",
       "    <tr>\n",
       "      <th>30</th>\n",
       "      <td>Polonia-Varsovia</td>\n",
       "      <td>-0.9</td>\n",
       "      <td>162</td>\n",
       "    </tr>\n",
       "    <tr>\n",
       "      <th>31</th>\n",
       "      <td>Rumania-Bucarest</td>\n",
       "      <td>2.5</td>\n",
       "      <td>186</td>\n",
       "    </tr>\n",
       "    <tr>\n",
       "      <th>32</th>\n",
       "      <td>Yugoslavia-Belgrado</td>\n",
       "      <td>4.0</td>\n",
       "      <td>360</td>\n",
       "    </tr>\n",
       "  </tbody>\n",
       "</table>\n",
       "</div>"
      ],
      "text/plain": [
       "                         ciudad  T/m dic 2021  precio/vuelo\n",
       "0                Albania-Tirana           7.6           220\n",
       "1                 Austria-Viena           4.2           173\n",
       "2             Bielorrusia-Minsk          -3.9          1943\n",
       "3                Bulgaria-Sofia           2.0           238\n",
       "4          Dinamarca-Copenhague           2.2           107\n",
       "5           Eslovenia-Liubliana           1.2           321\n",
       "6                Estonia-Tallín          -6.2           326\n",
       "7                 Francia-Paris           7.0           214\n",
       "8                 Grecia-Atenas          12.2           318\n",
       "9                Irlanda-Dublin           7.0            41\n",
       "10                  Italia-Roma           9.2           190\n",
       "11               Lituania-Vilna          -3.9           269\n",
       "12             Macedonia-Skopie           2.9           380\n",
       "13            Moldavia-Chisinau           0.4           370\n",
       "14       Paises Bajos-Amsterdam           5.7           153\n",
       "15              Portugal-Lisboa          13.8            45\n",
       "16        República Checa-Praga           1.3           286\n",
       "17             Suecia-Estocolmo          -2.4           221\n",
       "18              Alemania-Berlin           1.9           199\n",
       "19             Belgica-Bruselas           5.8           131\n",
       "20  Bosnia Hercegovina-Sarajevo           2.3           324\n",
       "21               Croacia-Zagreb           2.9           293\n",
       "22        Eslovaquia-Bratislava           2.3           246\n",
       "23           Finlandia-Helsinki          -6.7           350\n",
       "24             Hungría-Budapest           1.2           158\n",
       "25           Islandia-Reikiavik           1.6           285\n",
       "26                 Letonia-Riga          -2.0           311\n",
       "27        Luxemburgo-Luxemburgo           3.7           140\n",
       "28              Malta-La Valeta          13.5           216\n",
       "29                 Noruega-Oslo          -4.8           233\n",
       "30             Polonia-Varsovia          -0.9           162\n",
       "31             Rumania-Bucarest           2.5           186\n",
       "32          Yugoslavia-Belgrado           4.0           360"
      ]
     },
     "execution_count": 79,
     "metadata": {},
     "output_type": "execute_result"
    }
   ],
   "source": [
    "data"
   ]
  },
  {
   "cell_type": "code",
   "execution_count": 111,
   "id": "03c38d7f",
   "metadata": {},
   "outputs": [],
   "source": [
    "url= 'https://www.tripadvisor.es/'"
   ]
  },
  {
   "cell_type": "code",
   "execution_count": 183,
   "id": "d7c28279",
   "metadata": {},
   "outputs": [
    {
     "name": "stderr",
     "output_type": "stream",
     "text": [
      "2022-12-07 12:47:16,466 [4776] WARNING  py.warnings:109: [JupyterRequire] C:\\Users\\silsi\\AppData\\Local\\Temp\\ipykernel_4776\\1830082565.py:3: DeprecationWarning: executable_path has been deprecated, please pass in a Service object\n",
      "  driver=webdriver.Chrome(PATH)\n",
      "\n"
     ]
    }
   ],
   "source": [
    "agua= []\n",
    "museos= []\n",
    "driver=webdriver.Chrome(PATH)\n",
    "driver.get(url)\n",
    "time.sleep(2)\n",
    "aceptar = driver.find_element(By.XPATH, '//*[@id=\"onetrust-accept-btn-handler\"]')\n",
    "aceptar.click()\n",
    "driver.execute_script('window.scrollTo(0, 200);')\n",
    "buscar= driver.find_element(By.XPATH, '//*[@id=\"lithium-root\"]/main/div[3]/div/div/div/form/input[1]')\n",
    "buscar.click()\n",
    "buscar.send_keys('Berlin')\n",
    "time.sleep(2)\n",
    "buscar.send_keys(Keys.DOWN, Keys.DOWN, Keys.DOWN, Keys.DOWN, Keys.RETURN)\n",
    "time.sleep(2)\n",
    "driver.find_element(By.XPATH, '//*[@id=\"lithium-root\"]/main/div[1]/div[2]/div/div/div[3]/a').click()\n",
    "time.sleep(3)\n",
    "driver.execute_script('window.scrollTo(0, 1800);')\n",
    "driver.find_element(By.XPATH, '//*[@id=\"lithium-root\"]/main/div[1]/div/div[3]/div/div[2]/div[2]/div[2]/div/div[2]/section[4]/div/div/div[1]/div/div[1]/div/div[2]/a/span/span[1]/span').click()\n",
    "driver.switch_to.window(driver.window_handles[1])\n",
    "time.sleep(2)\n",
    "driver.execute_script('window.scrollTo(0, 600);')\n",
    "cat = driver.find_element(By.ID, 'filter-category')\n",
    "categ = cat.find_elements(By.CLASS_NAME, 'XDHza')[:6]\n",
    "links= []\n",
    "links.append(e.find_element(By.TAG_NAME, 'a').get_attribute('href') for e in categ)\n",
    "\n",
    "\n",
    "\n",
    "\n"
   ]
  },
  {
   "cell_type": "code",
   "execution_count": 184,
   "id": "f7ae4f75",
   "metadata": {},
   "outputs": [],
   "source": [
    "driver.execute_script('window.scrollTo(0, 600);')"
   ]
  },
  {
   "cell_type": "code",
   "execution_count": 232,
   "id": "c37d64d9",
   "metadata": {},
   "outputs": [],
   "source": [
    "cat = driver.find_element(By.ID, 'filter-category')"
   ]
  },
  {
   "cell_type": "code",
   "execution_count": 233,
   "id": "266fdfc4",
   "metadata": {},
   "outputs": [],
   "source": [
    "categ = cat.find_elements(By.CLASS_NAME, 'XDHza')[:6]"
   ]
  },
  {
   "cell_type": "code",
   "execution_count": 235,
   "id": "3746165a",
   "metadata": {},
   "outputs": [
    {
     "data": {
      "text/plain": [
       "'https://www.tripadvisor.es/Attractions-g187323-Activities-oa0-Berlin.html#category=20'"
      ]
     },
     "execution_count": 235,
     "metadata": {},
     "output_type": "execute_result"
    }
   ],
   "source": [
    "categ[0].find_element(By.TAG_NAME, 'a').get_attribute('href')"
   ]
  },
  {
   "cell_type": "code",
   "execution_count": 163,
   "id": "7e55c4b2",
   "metadata": {},
   "outputs": [],
   "source": [
    "caja1 = driver.find_element(By.CLASS_NAME, 'jemSU')"
   ]
  },
  {
   "cell_type": "code",
   "execution_count": 164,
   "id": "a9e0c3df",
   "metadata": {},
   "outputs": [
    {
     "data": {
      "text/plain": [
       "'6 lugares ordenados por favoritos de los viajeros.'"
      ]
     },
     "execution_count": 164,
     "metadata": {},
     "output_type": "execute_result"
    }
   ],
   "source": [
    "caja1.find_element(By.CLASS_NAME, 'biGQs').text"
   ]
  },
  {
   "cell_type": "code",
   "execution_count": 175,
   "id": "baa22102",
   "metadata": {},
   "outputs": [
    {
     "data": {
      "text/plain": [
       "['14 lugares ordenados por favoritos de los viajeros.']"
      ]
     },
     "execution_count": 175,
     "metadata": {},
     "output_type": "execute_result"
    }
   ],
   "source": [
    "museos"
   ]
  }
 ],
 "metadata": {
  "kernelspec": {
   "display_name": "Python 3 (ipykernel)",
   "language": "python",
   "name": "python3"
  },
  "language_info": {
   "codemirror_mode": {
    "name": "ipython",
    "version": 3
   },
   "file_extension": ".py",
   "mimetype": "text/x-python",
   "name": "python",
   "nbconvert_exporter": "python",
   "pygments_lexer": "ipython3",
   "version": "3.9.12"
  }
 },
 "nbformat": 4,
 "nbformat_minor": 5
}
